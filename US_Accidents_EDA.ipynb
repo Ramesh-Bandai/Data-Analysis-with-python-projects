{
  "nbformat": 4,
  "nbformat_minor": 0,
  "metadata": {
    "colab": {
      "name": "US Accidents EDA.ipynb",
      "provenance": [],
      "collapsed_sections": []
    },
    "kernelspec": {
      "name": "python3",
      "display_name": "Python 3"
    },
    "language_info": {
      "name": "python"
    },
    "accelerator": "TPU"
  },
  "cells": [
    {
      "cell_type": "markdown",
      "metadata": {
        "id": "28Fa6o3V5vaT"
      },
      "source": [
        "# US Accidents Exploratory data analysis\n",
        "Source of dataset: https://www.kaggle.com/sobhanmoosavi/us-accidents\n",
        "\n",
        "\n",
        "*   Kaggle Dataset\n",
        "*   Information about accidents\n",
        "\n",
        "*   Useful to Prevent Accidents\n",
        "\n",
        "\n",
        "\n",
        "\n",
        "\n",
        "\n"
      ]
    },
    {
      "cell_type": "markdown",
      "metadata": {
        "id": "Zgh8w_UH6JNN"
      },
      "source": [
        "### Download the Dataset"
      ]
    },
    {
      "cell_type": "code",
      "metadata": {
        "id": "F3WnQHcJ6P07"
      },
      "source": [
        "pip install opendatasets --quiet"
      ],
      "execution_count": null,
      "outputs": []
    },
    {
      "cell_type": "code",
      "metadata": {
        "colab": {
          "base_uri": "https://localhost:8080/"
        },
        "id": "PLFpiZtY596z",
        "outputId": "b60b5695-3aab-47ab-af1f-ad689a7bbd15"
      },
      "source": [
        "# importing datasets\n",
        "import opendatasets as od\n",
        "download_url='https://www.kaggle.com/sobhanmoosavi/us-accidents'\n",
        "od.download(download_url)"
      ],
      "execution_count": null,
      "outputs": [
        {
          "output_type": "stream",
          "text": [
            "Please provide your Kaggle credentials to download this dataset. Learn more: http://bit.ly/kaggle-creds\n",
            "Your Kaggle username: rameshbandai\n",
            "Your Kaggle Key: ··········\n"
          ],
          "name": "stdout"
        },
        {
          "output_type": "stream",
          "text": [
            "  2%|▏         | 5.00M/290M [00:00<00:08, 35.2MB/s]"
          ],
          "name": "stderr"
        },
        {
          "output_type": "stream",
          "text": [
            "Downloading us-accidents.zip to ./us-accidents\n"
          ],
          "name": "stdout"
        },
        {
          "output_type": "stream",
          "text": [
            "100%|██████████| 290M/290M [00:02<00:00, 116MB/s]\n"
          ],
          "name": "stderr"
        },
        {
          "output_type": "stream",
          "text": [
            "\n"
          ],
          "name": "stdout"
        }
      ]
    },
    {
      "cell_type": "markdown",
      "metadata": {
        "id": "x57kPF8PABFs"
      },
      "source": [
        "### Data preparation & Cleaning\n",
        "\n",
        "*   List item\n",
        "*   List item\n",
        "\n",
        "\n",
        "\n",
        "*   Load file using Pandas\n",
        "\n",
        "*   Look at some information about the data & columns\n",
        "*   Fix any missing or incorrect values\n",
        "\n",
        "\n",
        "\n"
      ]
    },
    {
      "cell_type": "code",
      "metadata": {
        "id": "zj6RqpNcAJ6S"
      },
      "source": [
        "# importing Pandas Package\n",
        "import pandas as pd"
      ],
      "execution_count": null,
      "outputs": []
    },
    {
      "cell_type": "code",
      "metadata": {
        "id": "zEh9tzWxBb43"
      },
      "source": [
        "# Reading CSV file\n",
        "df=pd.read_csv('/content/us-accidents/US_Accidents_Dec20_Updated.csv')"
      ],
      "execution_count": null,
      "outputs": []
    },
    {
      "cell_type": "code",
      "metadata": {
        "colab": {
          "base_uri": "https://localhost:8080/",
          "height": 949
        },
        "id": "Vc6qPGA-CJYv",
        "outputId": "330c3fe6-5815-4e7e-99f2-5272659cf201"
      },
      "source": [
        "df"
      ],
      "execution_count": null,
      "outputs": [
        {
          "output_type": "execute_result",
          "data": {
            "text/html": [
              "<div>\n",
              "<style scoped>\n",
              "    .dataframe tbody tr th:only-of-type {\n",
              "        vertical-align: middle;\n",
              "    }\n",
              "\n",
              "    .dataframe tbody tr th {\n",
              "        vertical-align: top;\n",
              "    }\n",
              "\n",
              "    .dataframe thead th {\n",
              "        text-align: right;\n",
              "    }\n",
              "</style>\n",
              "<table border=\"1\" class=\"dataframe\">\n",
              "  <thead>\n",
              "    <tr style=\"text-align: right;\">\n",
              "      <th></th>\n",
              "      <th>ID</th>\n",
              "      <th>Severity</th>\n",
              "      <th>Start_Time</th>\n",
              "      <th>End_Time</th>\n",
              "      <th>Start_Lat</th>\n",
              "      <th>Start_Lng</th>\n",
              "      <th>End_Lat</th>\n",
              "      <th>End_Lng</th>\n",
              "      <th>Distance(mi)</th>\n",
              "      <th>Description</th>\n",
              "      <th>Number</th>\n",
              "      <th>Street</th>\n",
              "      <th>Side</th>\n",
              "      <th>City</th>\n",
              "      <th>County</th>\n",
              "      <th>State</th>\n",
              "      <th>Zipcode</th>\n",
              "      <th>Country</th>\n",
              "      <th>Timezone</th>\n",
              "      <th>Airport_Code</th>\n",
              "      <th>Weather_Timestamp</th>\n",
              "      <th>Temperature(F)</th>\n",
              "      <th>Wind_Chill(F)</th>\n",
              "      <th>Humidity(%)</th>\n",
              "      <th>Pressure(in)</th>\n",
              "      <th>Visibility(mi)</th>\n",
              "      <th>Wind_Direction</th>\n",
              "      <th>Wind_Speed(mph)</th>\n",
              "      <th>Precipitation(in)</th>\n",
              "      <th>Weather_Condition</th>\n",
              "      <th>Amenity</th>\n",
              "      <th>Bump</th>\n",
              "      <th>Crossing</th>\n",
              "      <th>Give_Way</th>\n",
              "      <th>Junction</th>\n",
              "      <th>No_Exit</th>\n",
              "      <th>Railway</th>\n",
              "      <th>Roundabout</th>\n",
              "      <th>Station</th>\n",
              "      <th>Stop</th>\n",
              "      <th>Traffic_Calming</th>\n",
              "      <th>Traffic_Signal</th>\n",
              "      <th>Turning_Loop</th>\n",
              "      <th>Sunrise_Sunset</th>\n",
              "      <th>Civil_Twilight</th>\n",
              "      <th>Nautical_Twilight</th>\n",
              "      <th>Astronomical_Twilight</th>\n",
              "    </tr>\n",
              "  </thead>\n",
              "  <tbody>\n",
              "    <tr>\n",
              "      <th>0</th>\n",
              "      <td>A-1</td>\n",
              "      <td>2</td>\n",
              "      <td>2019-05-21 08:29:55</td>\n",
              "      <td>2019-05-21 09:29:40</td>\n",
              "      <td>34.808868</td>\n",
              "      <td>-82.269157</td>\n",
              "      <td>34.808868</td>\n",
              "      <td>-82.269157</td>\n",
              "      <td>0.000</td>\n",
              "      <td>Accident on Tanner Rd at Pennbrooke Ln.</td>\n",
              "      <td>439.0</td>\n",
              "      <td>Tanner Rd</td>\n",
              "      <td>R</td>\n",
              "      <td>Greenville</td>\n",
              "      <td>Greenville</td>\n",
              "      <td>SC</td>\n",
              "      <td>29607-6027</td>\n",
              "      <td>US</td>\n",
              "      <td>US/Eastern</td>\n",
              "      <td>KGMU</td>\n",
              "      <td>2019-05-21 08:53:00</td>\n",
              "      <td>76.0</td>\n",
              "      <td>76.0</td>\n",
              "      <td>52.0</td>\n",
              "      <td>28.91</td>\n",
              "      <td>10.0</td>\n",
              "      <td>N</td>\n",
              "      <td>7.0</td>\n",
              "      <td>0.0</td>\n",
              "      <td>Fair</td>\n",
              "      <td>False</td>\n",
              "      <td>False</td>\n",
              "      <td>False</td>\n",
              "      <td>False</td>\n",
              "      <td>False</td>\n",
              "      <td>False</td>\n",
              "      <td>False</td>\n",
              "      <td>False</td>\n",
              "      <td>False</td>\n",
              "      <td>False</td>\n",
              "      <td>False</td>\n",
              "      <td>False</td>\n",
              "      <td>False</td>\n",
              "      <td>Day</td>\n",
              "      <td>Day</td>\n",
              "      <td>Day</td>\n",
              "      <td>Day</td>\n",
              "    </tr>\n",
              "    <tr>\n",
              "      <th>1</th>\n",
              "      <td>A-2</td>\n",
              "      <td>2</td>\n",
              "      <td>2019-10-07 17:43:09</td>\n",
              "      <td>2019-10-07 19:42:50</td>\n",
              "      <td>35.090080</td>\n",
              "      <td>-80.745560</td>\n",
              "      <td>35.090080</td>\n",
              "      <td>-80.745560</td>\n",
              "      <td>0.000</td>\n",
              "      <td>Accident on Houston Branch Rd at Providence Br...</td>\n",
              "      <td>3299.0</td>\n",
              "      <td>Providence Branch Ln</td>\n",
              "      <td>R</td>\n",
              "      <td>Charlotte</td>\n",
              "      <td>Mecklenburg</td>\n",
              "      <td>NC</td>\n",
              "      <td>28270-8560</td>\n",
              "      <td>US</td>\n",
              "      <td>US/Eastern</td>\n",
              "      <td>KEQY</td>\n",
              "      <td>2019-10-07 17:53:00</td>\n",
              "      <td>76.0</td>\n",
              "      <td>76.0</td>\n",
              "      <td>62.0</td>\n",
              "      <td>29.30</td>\n",
              "      <td>10.0</td>\n",
              "      <td>VAR</td>\n",
              "      <td>3.0</td>\n",
              "      <td>0.0</td>\n",
              "      <td>Cloudy</td>\n",
              "      <td>False</td>\n",
              "      <td>False</td>\n",
              "      <td>False</td>\n",
              "      <td>False</td>\n",
              "      <td>False</td>\n",
              "      <td>False</td>\n",
              "      <td>False</td>\n",
              "      <td>False</td>\n",
              "      <td>False</td>\n",
              "      <td>False</td>\n",
              "      <td>False</td>\n",
              "      <td>False</td>\n",
              "      <td>False</td>\n",
              "      <td>Day</td>\n",
              "      <td>Day</td>\n",
              "      <td>Day</td>\n",
              "      <td>Day</td>\n",
              "    </tr>\n",
              "    <tr>\n",
              "      <th>2</th>\n",
              "      <td>A-3</td>\n",
              "      <td>2</td>\n",
              "      <td>2020-12-13 21:53:00</td>\n",
              "      <td>2020-12-13 22:44:00</td>\n",
              "      <td>37.145730</td>\n",
              "      <td>-121.985052</td>\n",
              "      <td>37.165850</td>\n",
              "      <td>-121.988062</td>\n",
              "      <td>1.400</td>\n",
              "      <td>Stationary traffic on CA-17 from Summit Rd (CA...</td>\n",
              "      <td>NaN</td>\n",
              "      <td>Santa Cruz Hwy</td>\n",
              "      <td>R</td>\n",
              "      <td>Los Gatos</td>\n",
              "      <td>Santa Clara</td>\n",
              "      <td>CA</td>\n",
              "      <td>95033</td>\n",
              "      <td>US</td>\n",
              "      <td>US/Pacific</td>\n",
              "      <td>KSJC</td>\n",
              "      <td>2020-12-13 21:53:00</td>\n",
              "      <td>51.0</td>\n",
              "      <td>51.0</td>\n",
              "      <td>80.0</td>\n",
              "      <td>30.17</td>\n",
              "      <td>10.0</td>\n",
              "      <td>W</td>\n",
              "      <td>6.0</td>\n",
              "      <td>0.0</td>\n",
              "      <td>Fair</td>\n",
              "      <td>False</td>\n",
              "      <td>False</td>\n",
              "      <td>False</td>\n",
              "      <td>False</td>\n",
              "      <td>False</td>\n",
              "      <td>False</td>\n",
              "      <td>False</td>\n",
              "      <td>False</td>\n",
              "      <td>False</td>\n",
              "      <td>False</td>\n",
              "      <td>False</td>\n",
              "      <td>False</td>\n",
              "      <td>False</td>\n",
              "      <td>Night</td>\n",
              "      <td>Night</td>\n",
              "      <td>Night</td>\n",
              "      <td>Night</td>\n",
              "    </tr>\n",
              "    <tr>\n",
              "      <th>3</th>\n",
              "      <td>A-4</td>\n",
              "      <td>2</td>\n",
              "      <td>2018-04-17 16:51:23</td>\n",
              "      <td>2018-04-17 17:50:46</td>\n",
              "      <td>39.110390</td>\n",
              "      <td>-119.773781</td>\n",
              "      <td>39.110390</td>\n",
              "      <td>-119.773781</td>\n",
              "      <td>0.000</td>\n",
              "      <td>Accident on US-395 Southbound at Topsy Ln.</td>\n",
              "      <td>NaN</td>\n",
              "      <td>US Highway 395 S</td>\n",
              "      <td>R</td>\n",
              "      <td>Carson City</td>\n",
              "      <td>Douglas</td>\n",
              "      <td>NV</td>\n",
              "      <td>89705</td>\n",
              "      <td>US</td>\n",
              "      <td>US/Pacific</td>\n",
              "      <td>KCXP</td>\n",
              "      <td>2018-04-17 16:55:00</td>\n",
              "      <td>53.6</td>\n",
              "      <td>NaN</td>\n",
              "      <td>16.0</td>\n",
              "      <td>30.16</td>\n",
              "      <td>10.0</td>\n",
              "      <td>SSW</td>\n",
              "      <td>4.6</td>\n",
              "      <td>NaN</td>\n",
              "      <td>Clear</td>\n",
              "      <td>False</td>\n",
              "      <td>False</td>\n",
              "      <td>False</td>\n",
              "      <td>False</td>\n",
              "      <td>False</td>\n",
              "      <td>False</td>\n",
              "      <td>False</td>\n",
              "      <td>False</td>\n",
              "      <td>False</td>\n",
              "      <td>False</td>\n",
              "      <td>False</td>\n",
              "      <td>True</td>\n",
              "      <td>False</td>\n",
              "      <td>Day</td>\n",
              "      <td>Day</td>\n",
              "      <td>Day</td>\n",
              "      <td>Day</td>\n",
              "    </tr>\n",
              "    <tr>\n",
              "      <th>4</th>\n",
              "      <td>A-5</td>\n",
              "      <td>3</td>\n",
              "      <td>2016-08-31 17:40:49</td>\n",
              "      <td>2016-08-31 18:10:49</td>\n",
              "      <td>26.102942</td>\n",
              "      <td>-80.265091</td>\n",
              "      <td>26.102942</td>\n",
              "      <td>-80.265091</td>\n",
              "      <td>0.000</td>\n",
              "      <td>Accident on I-595 Westbound at Exit 4 / Pine I...</td>\n",
              "      <td>NaN</td>\n",
              "      <td>I-595 W</td>\n",
              "      <td>R</td>\n",
              "      <td>Fort Lauderdale</td>\n",
              "      <td>Broward</td>\n",
              "      <td>FL</td>\n",
              "      <td>33324</td>\n",
              "      <td>US</td>\n",
              "      <td>US/Eastern</td>\n",
              "      <td>KHWO</td>\n",
              "      <td>2016-08-31 17:53:00</td>\n",
              "      <td>84.2</td>\n",
              "      <td>NaN</td>\n",
              "      <td>84.0</td>\n",
              "      <td>29.92</td>\n",
              "      <td>10.0</td>\n",
              "      <td>SSE</td>\n",
              "      <td>13.8</td>\n",
              "      <td>NaN</td>\n",
              "      <td>Overcast</td>\n",
              "      <td>False</td>\n",
              "      <td>False</td>\n",
              "      <td>False</td>\n",
              "      <td>False</td>\n",
              "      <td>True</td>\n",
              "      <td>False</td>\n",
              "      <td>False</td>\n",
              "      <td>False</td>\n",
              "      <td>False</td>\n",
              "      <td>False</td>\n",
              "      <td>False</td>\n",
              "      <td>True</td>\n",
              "      <td>False</td>\n",
              "      <td>Day</td>\n",
              "      <td>Day</td>\n",
              "      <td>Day</td>\n",
              "      <td>Day</td>\n",
              "    </tr>\n",
              "    <tr>\n",
              "      <th>...</th>\n",
              "      <td>...</td>\n",
              "      <td>...</td>\n",
              "      <td>...</td>\n",
              "      <td>...</td>\n",
              "      <td>...</td>\n",
              "      <td>...</td>\n",
              "      <td>...</td>\n",
              "      <td>...</td>\n",
              "      <td>...</td>\n",
              "      <td>...</td>\n",
              "      <td>...</td>\n",
              "      <td>...</td>\n",
              "      <td>...</td>\n",
              "      <td>...</td>\n",
              "      <td>...</td>\n",
              "      <td>...</td>\n",
              "      <td>...</td>\n",
              "      <td>...</td>\n",
              "      <td>...</td>\n",
              "      <td>...</td>\n",
              "      <td>...</td>\n",
              "      <td>...</td>\n",
              "      <td>...</td>\n",
              "      <td>...</td>\n",
              "      <td>...</td>\n",
              "      <td>...</td>\n",
              "      <td>...</td>\n",
              "      <td>...</td>\n",
              "      <td>...</td>\n",
              "      <td>...</td>\n",
              "      <td>...</td>\n",
              "      <td>...</td>\n",
              "      <td>...</td>\n",
              "      <td>...</td>\n",
              "      <td>...</td>\n",
              "      <td>...</td>\n",
              "      <td>...</td>\n",
              "      <td>...</td>\n",
              "      <td>...</td>\n",
              "      <td>...</td>\n",
              "      <td>...</td>\n",
              "      <td>...</td>\n",
              "      <td>...</td>\n",
              "      <td>...</td>\n",
              "      <td>...</td>\n",
              "      <td>...</td>\n",
              "      <td>...</td>\n",
              "    </tr>\n",
              "    <tr>\n",
              "      <th>2906605</th>\n",
              "      <td>A-2906606</td>\n",
              "      <td>2</td>\n",
              "      <td>2018-06-28 08:49:01</td>\n",
              "      <td>2018-06-28 09:18:51</td>\n",
              "      <td>29.813824</td>\n",
              "      <td>-95.399437</td>\n",
              "      <td>29.813824</td>\n",
              "      <td>-95.399437</td>\n",
              "      <td>0.000</td>\n",
              "      <td>Accident on 30th St at Yale St.</td>\n",
              "      <td>3001.0</td>\n",
              "      <td>Yale St</td>\n",
              "      <td>L</td>\n",
              "      <td>Houston</td>\n",
              "      <td>Harris</td>\n",
              "      <td>TX</td>\n",
              "      <td>77018-8433</td>\n",
              "      <td>US</td>\n",
              "      <td>US/Central</td>\n",
              "      <td>KMCJ</td>\n",
              "      <td>2018-06-28 08:35:00</td>\n",
              "      <td>84.2</td>\n",
              "      <td>NaN</td>\n",
              "      <td>70.0</td>\n",
              "      <td>30.02</td>\n",
              "      <td>9.0</td>\n",
              "      <td>Variable</td>\n",
              "      <td>5.8</td>\n",
              "      <td>NaN</td>\n",
              "      <td>Clear</td>\n",
              "      <td>False</td>\n",
              "      <td>False</td>\n",
              "      <td>False</td>\n",
              "      <td>False</td>\n",
              "      <td>False</td>\n",
              "      <td>False</td>\n",
              "      <td>False</td>\n",
              "      <td>False</td>\n",
              "      <td>False</td>\n",
              "      <td>True</td>\n",
              "      <td>False</td>\n",
              "      <td>False</td>\n",
              "      <td>False</td>\n",
              "      <td>Day</td>\n",
              "      <td>Day</td>\n",
              "      <td>Day</td>\n",
              "      <td>Day</td>\n",
              "    </tr>\n",
              "    <tr>\n",
              "      <th>2906606</th>\n",
              "      <td>A-2906607</td>\n",
              "      <td>2</td>\n",
              "      <td>2019-01-10 02:01:01</td>\n",
              "      <td>2019-01-10 02:30:32</td>\n",
              "      <td>34.068890</td>\n",
              "      <td>-117.342010</td>\n",
              "      <td>34.068890</td>\n",
              "      <td>-117.342010</td>\n",
              "      <td>0.000</td>\n",
              "      <td>At Valley Blvd - Accident.</td>\n",
              "      <td>NaN</td>\n",
              "      <td>Cypress Ave</td>\n",
              "      <td>R</td>\n",
              "      <td>Colton</td>\n",
              "      <td>San Bernardino</td>\n",
              "      <td>CA</td>\n",
              "      <td>92324</td>\n",
              "      <td>US</td>\n",
              "      <td>US/Pacific</td>\n",
              "      <td>KSBD</td>\n",
              "      <td>2019-01-10 02:00:00</td>\n",
              "      <td>46.9</td>\n",
              "      <td>NaN</td>\n",
              "      <td>74.0</td>\n",
              "      <td>30.14</td>\n",
              "      <td>10.0</td>\n",
              "      <td>Calm</td>\n",
              "      <td>NaN</td>\n",
              "      <td>NaN</td>\n",
              "      <td>Clear</td>\n",
              "      <td>False</td>\n",
              "      <td>False</td>\n",
              "      <td>False</td>\n",
              "      <td>False</td>\n",
              "      <td>False</td>\n",
              "      <td>False</td>\n",
              "      <td>False</td>\n",
              "      <td>False</td>\n",
              "      <td>False</td>\n",
              "      <td>False</td>\n",
              "      <td>False</td>\n",
              "      <td>False</td>\n",
              "      <td>False</td>\n",
              "      <td>Night</td>\n",
              "      <td>Night</td>\n",
              "      <td>Night</td>\n",
              "      <td>Night</td>\n",
              "    </tr>\n",
              "    <tr>\n",
              "      <th>2906607</th>\n",
              "      <td>A-2906608</td>\n",
              "      <td>2</td>\n",
              "      <td>2020-11-23 12:52:00</td>\n",
              "      <td>2020-11-24 00:47:37</td>\n",
              "      <td>25.702200</td>\n",
              "      <td>-80.335556</td>\n",
              "      <td>25.703040</td>\n",
              "      <td>-80.334099</td>\n",
              "      <td>0.108</td>\n",
              "      <td>Stationary traffic on County Hwy-913 - FL-986 ...</td>\n",
              "      <td>8798.0</td>\n",
              "      <td>SW 72nd St</td>\n",
              "      <td>L</td>\n",
              "      <td>Miami</td>\n",
              "      <td>Miami-Dade</td>\n",
              "      <td>FL</td>\n",
              "      <td>33173-3512</td>\n",
              "      <td>US</td>\n",
              "      <td>US/Eastern</td>\n",
              "      <td>KTMB</td>\n",
              "      <td>2020-11-23 12:53:00</td>\n",
              "      <td>76.0</td>\n",
              "      <td>76.0</td>\n",
              "      <td>85.0</td>\n",
              "      <td>30.00</td>\n",
              "      <td>10.0</td>\n",
              "      <td>NNW</td>\n",
              "      <td>16.0</td>\n",
              "      <td>0.0</td>\n",
              "      <td>Mostly Cloudy</td>\n",
              "      <td>False</td>\n",
              "      <td>False</td>\n",
              "      <td>False</td>\n",
              "      <td>False</td>\n",
              "      <td>False</td>\n",
              "      <td>False</td>\n",
              "      <td>False</td>\n",
              "      <td>False</td>\n",
              "      <td>False</td>\n",
              "      <td>False</td>\n",
              "      <td>False</td>\n",
              "      <td>False</td>\n",
              "      <td>False</td>\n",
              "      <td>Day</td>\n",
              "      <td>Day</td>\n",
              "      <td>Day</td>\n",
              "      <td>Day</td>\n",
              "    </tr>\n",
              "    <tr>\n",
              "      <th>2906608</th>\n",
              "      <td>A-2906609</td>\n",
              "      <td>2</td>\n",
              "      <td>2019-12-29 22:38:00</td>\n",
              "      <td>2019-12-29 23:38:00</td>\n",
              "      <td>40.660140</td>\n",
              "      <td>-111.952460</td>\n",
              "      <td>40.660140</td>\n",
              "      <td>-111.952460</td>\n",
              "      <td>0.000</td>\n",
              "      <td>At UT-266/4700/Exit 15 - Accident.</td>\n",
              "      <td>NaN</td>\n",
              "      <td>I-215 N</td>\n",
              "      <td>R</td>\n",
              "      <td>Salt Lake City</td>\n",
              "      <td>Salt Lake</td>\n",
              "      <td>UT</td>\n",
              "      <td>84129</td>\n",
              "      <td>US</td>\n",
              "      <td>US/Mountain</td>\n",
              "      <td>KU42</td>\n",
              "      <td>2019-12-29 22:54:00</td>\n",
              "      <td>27.0</td>\n",
              "      <td>19.0</td>\n",
              "      <td>81.0</td>\n",
              "      <td>25.81</td>\n",
              "      <td>10.0</td>\n",
              "      <td>SSE</td>\n",
              "      <td>8.0</td>\n",
              "      <td>0.0</td>\n",
              "      <td>Cloudy</td>\n",
              "      <td>False</td>\n",
              "      <td>False</td>\n",
              "      <td>False</td>\n",
              "      <td>False</td>\n",
              "      <td>False</td>\n",
              "      <td>False</td>\n",
              "      <td>False</td>\n",
              "      <td>False</td>\n",
              "      <td>False</td>\n",
              "      <td>False</td>\n",
              "      <td>False</td>\n",
              "      <td>False</td>\n",
              "      <td>False</td>\n",
              "      <td>Night</td>\n",
              "      <td>Night</td>\n",
              "      <td>Night</td>\n",
              "      <td>Night</td>\n",
              "    </tr>\n",
              "    <tr>\n",
              "      <th>2906609</th>\n",
              "      <td>A-2906610</td>\n",
              "      <td>2</td>\n",
              "      <td>2018-03-26 13:35:03</td>\n",
              "      <td>2018-03-26 14:39:00</td>\n",
              "      <td>38.831749</td>\n",
              "      <td>-104.748161</td>\n",
              "      <td>38.831749</td>\n",
              "      <td>-104.748161</td>\n",
              "      <td>0.000</td>\n",
              "      <td>Accident on Murray Blvd at Byron Dr.</td>\n",
              "      <td>NaN</td>\n",
              "      <td>Byron Dr</td>\n",
              "      <td>R</td>\n",
              "      <td>Colorado Springs</td>\n",
              "      <td>El Paso</td>\n",
              "      <td>CO</td>\n",
              "      <td>80916</td>\n",
              "      <td>US</td>\n",
              "      <td>US/Mountain</td>\n",
              "      <td>KCOS</td>\n",
              "      <td>2018-03-26 13:54:00</td>\n",
              "      <td>51.1</td>\n",
              "      <td>NaN</td>\n",
              "      <td>38.0</td>\n",
              "      <td>29.77</td>\n",
              "      <td>10.0</td>\n",
              "      <td>SE</td>\n",
              "      <td>13.8</td>\n",
              "      <td>NaN</td>\n",
              "      <td>Scattered Clouds</td>\n",
              "      <td>False</td>\n",
              "      <td>False</td>\n",
              "      <td>True</td>\n",
              "      <td>False</td>\n",
              "      <td>False</td>\n",
              "      <td>False</td>\n",
              "      <td>False</td>\n",
              "      <td>False</td>\n",
              "      <td>False</td>\n",
              "      <td>False</td>\n",
              "      <td>False</td>\n",
              "      <td>True</td>\n",
              "      <td>False</td>\n",
              "      <td>Day</td>\n",
              "      <td>Day</td>\n",
              "      <td>Day</td>\n",
              "      <td>Day</td>\n",
              "    </tr>\n",
              "  </tbody>\n",
              "</table>\n",
              "<p>2906610 rows × 47 columns</p>\n",
              "</div>"
            ],
            "text/plain": [
              "                ID  Severity  ... Nautical_Twilight Astronomical_Twilight\n",
              "0              A-1         2  ...               Day                   Day\n",
              "1              A-2         2  ...               Day                   Day\n",
              "2              A-3         2  ...             Night                 Night\n",
              "3              A-4         2  ...               Day                   Day\n",
              "4              A-5         3  ...               Day                   Day\n",
              "...            ...       ...  ...               ...                   ...\n",
              "2906605  A-2906606         2  ...               Day                   Day\n",
              "2906606  A-2906607         2  ...             Night                 Night\n",
              "2906607  A-2906608         2  ...               Day                   Day\n",
              "2906608  A-2906609         2  ...             Night                 Night\n",
              "2906609  A-2906610         2  ...               Day                   Day\n",
              "\n",
              "[2906610 rows x 47 columns]"
            ]
          },
          "metadata": {
            "tags": []
          },
          "execution_count": 5
        }
      ]
    },
    {
      "cell_type": "code",
      "metadata": {
        "colab": {
          "base_uri": "https://localhost:8080/"
        },
        "id": "sYZFICZwCu_Q",
        "outputId": "bee28f4b-d781-432b-94d0-099e2b556989"
      },
      "source": [
        "# Checking No of rows and columns in dataset\n",
        "df.shape"
      ],
      "execution_count": null,
      "outputs": [
        {
          "output_type": "execute_result",
          "data": {
            "text/plain": [
              "(2906610, 47)"
            ]
          },
          "metadata": {
            "tags": []
          },
          "execution_count": 6
        }
      ]
    },
    {
      "cell_type": "code",
      "metadata": {
        "colab": {
          "base_uri": "https://localhost:8080/"
        },
        "id": "UzmWkzqqCxWW",
        "outputId": "166466c5-9440-4acf-ffb6-d2fb55436cad"
      },
      "source": [
        "# Checking Names of columns\n",
        "df.columns"
      ],
      "execution_count": null,
      "outputs": [
        {
          "output_type": "execute_result",
          "data": {
            "text/plain": [
              "Index(['ID', 'Severity', 'Start_Time', 'End_Time', 'Start_Lat', 'Start_Lng',\n",
              "       'End_Lat', 'End_Lng', 'Distance(mi)', 'Description', 'Number', 'Street',\n",
              "       'Side', 'City', 'County', 'State', 'Zipcode', 'Country', 'Timezone',\n",
              "       'Airport_Code', 'Weather_Timestamp', 'Temperature(F)', 'Wind_Chill(F)',\n",
              "       'Humidity(%)', 'Pressure(in)', 'Visibility(mi)', 'Wind_Direction',\n",
              "       'Wind_Speed(mph)', 'Precipitation(in)', 'Weather_Condition', 'Amenity',\n",
              "       'Bump', 'Crossing', 'Give_Way', 'Junction', 'No_Exit', 'Railway',\n",
              "       'Roundabout', 'Station', 'Stop', 'Traffic_Calming', 'Traffic_Signal',\n",
              "       'Turning_Loop', 'Sunrise_Sunset', 'Civil_Twilight', 'Nautical_Twilight',\n",
              "       'Astronomical_Twilight'],\n",
              "      dtype='object')"
            ]
          },
          "metadata": {
            "tags": []
          },
          "execution_count": 7
        }
      ]
    },
    {
      "cell_type": "code",
      "metadata": {
        "colab": {
          "base_uri": "https://localhost:8080/"
        },
        "id": "H2DM7cKRC9Ru",
        "outputId": "5c90e273-5b7c-4cdc-9f90-a3c707776267"
      },
      "source": [
        "# Checking column names & datatypes \n",
        "df.info()"
      ],
      "execution_count": null,
      "outputs": [
        {
          "output_type": "stream",
          "text": [
            "<class 'pandas.core.frame.DataFrame'>\n",
            "RangeIndex: 2906610 entries, 0 to 2906609\n",
            "Data columns (total 47 columns):\n",
            " #   Column                 Dtype  \n",
            "---  ------                 -----  \n",
            " 0   ID                     object \n",
            " 1   Severity               int64  \n",
            " 2   Start_Time             object \n",
            " 3   End_Time               object \n",
            " 4   Start_Lat              float64\n",
            " 5   Start_Lng              float64\n",
            " 6   End_Lat                float64\n",
            " 7   End_Lng                float64\n",
            " 8   Distance(mi)           float64\n",
            " 9   Description            object \n",
            " 10  Number                 float64\n",
            " 11  Street                 object \n",
            " 12  Side                   object \n",
            " 13  City                   object \n",
            " 14  County                 object \n",
            " 15  State                  object \n",
            " 16  Zipcode                object \n",
            " 17  Country                object \n",
            " 18  Timezone               object \n",
            " 19  Airport_Code           object \n",
            " 20  Weather_Timestamp      object \n",
            " 21  Temperature(F)         float64\n",
            " 22  Wind_Chill(F)          float64\n",
            " 23  Humidity(%)            float64\n",
            " 24  Pressure(in)           float64\n",
            " 25  Visibility(mi)         float64\n",
            " 26  Wind_Direction         object \n",
            " 27  Wind_Speed(mph)        float64\n",
            " 28  Precipitation(in)      float64\n",
            " 29  Weather_Condition      object \n",
            " 30  Amenity                bool   \n",
            " 31  Bump                   bool   \n",
            " 32  Crossing               bool   \n",
            " 33  Give_Way               bool   \n",
            " 34  Junction               bool   \n",
            " 35  No_Exit                bool   \n",
            " 36  Railway                bool   \n",
            " 37  Roundabout             bool   \n",
            " 38  Station                bool   \n",
            " 39  Stop                   bool   \n",
            " 40  Traffic_Calming        bool   \n",
            " 41  Traffic_Signal         bool   \n",
            " 42  Turning_Loop           bool   \n",
            " 43  Sunrise_Sunset         object \n",
            " 44  Civil_Twilight         object \n",
            " 45  Nautical_Twilight      object \n",
            " 46  Astronomical_Twilight  object \n",
            "dtypes: bool(13), float64(13), int64(1), object(20)\n",
            "memory usage: 790.0+ MB\n"
          ],
          "name": "stdout"
        }
      ]
    },
    {
      "cell_type": "code",
      "metadata": {
        "colab": {
          "base_uri": "https://localhost:8080/",
          "height": 317
        },
        "id": "l52KQRUTD6o0",
        "outputId": "7f29349c-d121-422a-82ab-e280b28b37dd"
      },
      "source": [
        "# Checking stastical information of dataset\n",
        "df.describe()"
      ],
      "execution_count": null,
      "outputs": [
        {
          "output_type": "execute_result",
          "data": {
            "text/html": [
              "<div>\n",
              "<style scoped>\n",
              "    .dataframe tbody tr th:only-of-type {\n",
              "        vertical-align: middle;\n",
              "    }\n",
              "\n",
              "    .dataframe tbody tr th {\n",
              "        vertical-align: top;\n",
              "    }\n",
              "\n",
              "    .dataframe thead th {\n",
              "        text-align: right;\n",
              "    }\n",
              "</style>\n",
              "<table border=\"1\" class=\"dataframe\">\n",
              "  <thead>\n",
              "    <tr style=\"text-align: right;\">\n",
              "      <th></th>\n",
              "      <th>Severity</th>\n",
              "      <th>Start_Lat</th>\n",
              "      <th>Start_Lng</th>\n",
              "      <th>End_Lat</th>\n",
              "      <th>End_Lng</th>\n",
              "      <th>Distance(mi)</th>\n",
              "      <th>Number</th>\n",
              "      <th>Temperature(F)</th>\n",
              "      <th>Wind_Chill(F)</th>\n",
              "      <th>Humidity(%)</th>\n",
              "      <th>Pressure(in)</th>\n",
              "      <th>Visibility(mi)</th>\n",
              "      <th>Wind_Speed(mph)</th>\n",
              "      <th>Precipitation(in)</th>\n",
              "    </tr>\n",
              "  </thead>\n",
              "  <tbody>\n",
              "    <tr>\n",
              "      <th>count</th>\n",
              "      <td>2.906610e+06</td>\n",
              "      <td>2.906610e+06</td>\n",
              "      <td>2.906610e+06</td>\n",
              "      <td>2.623789e+06</td>\n",
              "      <td>2.623789e+06</td>\n",
              "      <td>2.906610e+06</td>\n",
              "      <td>1.014938e+06</td>\n",
              "      <td>2.839386e+06</td>\n",
              "      <td>1.722751e+06</td>\n",
              "      <td>2.835340e+06</td>\n",
              "      <td>2.849702e+06</td>\n",
              "      <td>2.834532e+06</td>\n",
              "      <td>2.599447e+06</td>\n",
              "      <td>1.605284e+06</td>\n",
              "    </tr>\n",
              "    <tr>\n",
              "      <th>mean</th>\n",
              "      <td>2.288649e+00</td>\n",
              "      <td>3.653027e+01</td>\n",
              "      <td>-9.642676e+01</td>\n",
              "      <td>3.651733e+01</td>\n",
              "      <td>-9.620367e+01</td>\n",
              "      <td>3.980541e-01</td>\n",
              "      <td>6.789728e+03</td>\n",
              "      <td>6.098873e+01</td>\n",
              "      <td>5.499048e+01</td>\n",
              "      <td>6.537758e+01</td>\n",
              "      <td>2.965685e+01</td>\n",
              "      <td>9.116766e+00</td>\n",
              "      <td>7.818111e+00</td>\n",
              "      <td>1.119459e-02</td>\n",
              "    </tr>\n",
              "    <tr>\n",
              "      <th>std</th>\n",
              "      <td>5.541618e-01</td>\n",
              "      <td>5.013964e+00</td>\n",
              "      <td>1.775412e+01</td>\n",
              "      <td>5.016609e+00</td>\n",
              "      <td>1.765971e+01</td>\n",
              "      <td>1.592556e+00</td>\n",
              "      <td>1.697225e+04</td>\n",
              "      <td>1.845258e+01</td>\n",
              "      <td>2.219542e+01</td>\n",
              "      <td>2.287854e+01</td>\n",
              "      <td>9.094133e-01</td>\n",
              "      <td>2.837271e+00</td>\n",
              "      <td>5.431171e+00</td>\n",
              "      <td>1.540812e-01</td>\n",
              "    </tr>\n",
              "    <tr>\n",
              "      <th>min</th>\n",
              "      <td>1.000000e+00</td>\n",
              "      <td>2.455527e+01</td>\n",
              "      <td>-1.246238e+02</td>\n",
              "      <td>2.455527e+01</td>\n",
              "      <td>-1.246238e+02</td>\n",
              "      <td>0.000000e+00</td>\n",
              "      <td>0.000000e+00</td>\n",
              "      <td>-8.900000e+01</td>\n",
              "      <td>-8.900000e+01</td>\n",
              "      <td>1.000000e+00</td>\n",
              "      <td>0.000000e+00</td>\n",
              "      <td>0.000000e+00</td>\n",
              "      <td>0.000000e+00</td>\n",
              "      <td>0.000000e+00</td>\n",
              "    </tr>\n",
              "    <tr>\n",
              "      <th>25%</th>\n",
              "      <td>2.000000e+00</td>\n",
              "      <td>3.366453e+01</td>\n",
              "      <td>-1.178232e+02</td>\n",
              "      <td>3.364659e+01</td>\n",
              "      <td>-1.177020e+02</td>\n",
              "      <td>0.000000e+00</td>\n",
              "      <td>9.650000e+02</td>\n",
              "      <td>4.890000e+01</td>\n",
              "      <td>3.900000e+01</td>\n",
              "      <td>4.900000e+01</td>\n",
              "      <td>2.959000e+01</td>\n",
              "      <td>1.000000e+01</td>\n",
              "      <td>4.600000e+00</td>\n",
              "      <td>0.000000e+00</td>\n",
              "    </tr>\n",
              "    <tr>\n",
              "      <th>50%</th>\n",
              "      <td>2.000000e+00</td>\n",
              "      <td>3.609977e+01</td>\n",
              "      <td>-9.116690e+01</td>\n",
              "      <td>3.605898e+01</td>\n",
              "      <td>-9.105163e+01</td>\n",
              "      <td>0.000000e+00</td>\n",
              "      <td>3.093000e+03</td>\n",
              "      <td>6.300000e+01</td>\n",
              "      <td>5.800000e+01</td>\n",
              "      <td>6.800000e+01</td>\n",
              "      <td>2.992000e+01</td>\n",
              "      <td>1.000000e+01</td>\n",
              "      <td>7.000000e+00</td>\n",
              "      <td>0.000000e+00</td>\n",
              "    </tr>\n",
              "    <tr>\n",
              "      <th>75%</th>\n",
              "      <td>3.000000e+00</td>\n",
              "      <td>4.037505e+01</td>\n",
              "      <td>-8.085814e+01</td>\n",
              "      <td>4.033133e+01</td>\n",
              "      <td>-8.084679e+01</td>\n",
              "      <td>2.790000e-01</td>\n",
              "      <td>7.976000e+03</td>\n",
              "      <td>7.500000e+01</td>\n",
              "      <td>7.200000e+01</td>\n",
              "      <td>8.500000e+01</td>\n",
              "      <td>3.007000e+01</td>\n",
              "      <td>1.000000e+01</td>\n",
              "      <td>1.040000e+01</td>\n",
              "      <td>0.000000e+00</td>\n",
              "    </tr>\n",
              "    <tr>\n",
              "      <th>max</th>\n",
              "      <td>4.000000e+00</td>\n",
              "      <td>4.900220e+01</td>\n",
              "      <td>-6.711317e+01</td>\n",
              "      <td>4.907500e+01</td>\n",
              "      <td>-6.710924e+01</td>\n",
              "      <td>3.336300e+02</td>\n",
              "      <td>9.999997e+06</td>\n",
              "      <td>2.030000e+02</td>\n",
              "      <td>1.740000e+02</td>\n",
              "      <td>1.000000e+02</td>\n",
              "      <td>5.804000e+01</td>\n",
              "      <td>1.400000e+02</td>\n",
              "      <td>9.840000e+02</td>\n",
              "      <td>2.400000e+01</td>\n",
              "    </tr>\n",
              "  </tbody>\n",
              "</table>\n",
              "</div>"
            ],
            "text/plain": [
              "           Severity     Start_Lat  ...  Wind_Speed(mph)  Precipitation(in)\n",
              "count  2.906610e+06  2.906610e+06  ...     2.599447e+06       1.605284e+06\n",
              "mean   2.288649e+00  3.653027e+01  ...     7.818111e+00       1.119459e-02\n",
              "std    5.541618e-01  5.013964e+00  ...     5.431171e+00       1.540812e-01\n",
              "min    1.000000e+00  2.455527e+01  ...     0.000000e+00       0.000000e+00\n",
              "25%    2.000000e+00  3.366453e+01  ...     4.600000e+00       0.000000e+00\n",
              "50%    2.000000e+00  3.609977e+01  ...     7.000000e+00       0.000000e+00\n",
              "75%    3.000000e+00  4.037505e+01  ...     1.040000e+01       0.000000e+00\n",
              "max    4.000000e+00  4.900220e+01  ...     9.840000e+02       2.400000e+01\n",
              "\n",
              "[8 rows x 14 columns]"
            ]
          },
          "metadata": {
            "tags": []
          },
          "execution_count": 9
        }
      ]
    },
    {
      "cell_type": "code",
      "metadata": {
        "colab": {
          "base_uri": "https://localhost:8080/",
          "height": 483
        },
        "id": "8vnhnQvzEFCB",
        "outputId": "8463c14d-d87f-4d08-8f88-65e5213ab369"
      },
      "source": [
        "df.describe().T"
      ],
      "execution_count": null,
      "outputs": [
        {
          "output_type": "execute_result",
          "data": {
            "text/html": [
              "<div>\n",
              "<style scoped>\n",
              "    .dataframe tbody tr th:only-of-type {\n",
              "        vertical-align: middle;\n",
              "    }\n",
              "\n",
              "    .dataframe tbody tr th {\n",
              "        vertical-align: top;\n",
              "    }\n",
              "\n",
              "    .dataframe thead th {\n",
              "        text-align: right;\n",
              "    }\n",
              "</style>\n",
              "<table border=\"1\" class=\"dataframe\">\n",
              "  <thead>\n",
              "    <tr style=\"text-align: right;\">\n",
              "      <th></th>\n",
              "      <th>count</th>\n",
              "      <th>mean</th>\n",
              "      <th>std</th>\n",
              "      <th>min</th>\n",
              "      <th>25%</th>\n",
              "      <th>50%</th>\n",
              "      <th>75%</th>\n",
              "      <th>max</th>\n",
              "    </tr>\n",
              "  </thead>\n",
              "  <tbody>\n",
              "    <tr>\n",
              "      <th>Severity</th>\n",
              "      <td>2906610.0</td>\n",
              "      <td>2.288649</td>\n",
              "      <td>0.554162</td>\n",
              "      <td>1.000000</td>\n",
              "      <td>2.000000</td>\n",
              "      <td>2.000000</td>\n",
              "      <td>3.000000</td>\n",
              "      <td>4.000000e+00</td>\n",
              "    </tr>\n",
              "    <tr>\n",
              "      <th>Start_Lat</th>\n",
              "      <td>2906610.0</td>\n",
              "      <td>36.530271</td>\n",
              "      <td>5.013964</td>\n",
              "      <td>24.555269</td>\n",
              "      <td>33.664527</td>\n",
              "      <td>36.099769</td>\n",
              "      <td>40.375055</td>\n",
              "      <td>4.900220e+01</td>\n",
              "    </tr>\n",
              "    <tr>\n",
              "      <th>Start_Lng</th>\n",
              "      <td>2906610.0</td>\n",
              "      <td>-96.426758</td>\n",
              "      <td>17.754125</td>\n",
              "      <td>-124.623833</td>\n",
              "      <td>-117.823219</td>\n",
              "      <td>-91.166901</td>\n",
              "      <td>-80.858141</td>\n",
              "      <td>-6.711317e+01</td>\n",
              "    </tr>\n",
              "    <tr>\n",
              "      <th>End_Lat</th>\n",
              "      <td>2623789.0</td>\n",
              "      <td>36.517333</td>\n",
              "      <td>5.016609</td>\n",
              "      <td>24.555269</td>\n",
              "      <td>33.646589</td>\n",
              "      <td>36.058980</td>\n",
              "      <td>40.331330</td>\n",
              "      <td>4.907500e+01</td>\n",
              "    </tr>\n",
              "    <tr>\n",
              "      <th>End_Lng</th>\n",
              "      <td>2623789.0</td>\n",
              "      <td>-96.203669</td>\n",
              "      <td>17.659713</td>\n",
              "      <td>-124.623833</td>\n",
              "      <td>-117.701990</td>\n",
              "      <td>-91.051628</td>\n",
              "      <td>-80.846794</td>\n",
              "      <td>-6.710924e+01</td>\n",
              "    </tr>\n",
              "    <tr>\n",
              "      <th>Distance(mi)</th>\n",
              "      <td>2906610.0</td>\n",
              "      <td>0.398054</td>\n",
              "      <td>1.592556</td>\n",
              "      <td>0.000000</td>\n",
              "      <td>0.000000</td>\n",
              "      <td>0.000000</td>\n",
              "      <td>0.279000</td>\n",
              "      <td>3.336300e+02</td>\n",
              "    </tr>\n",
              "    <tr>\n",
              "      <th>Number</th>\n",
              "      <td>1014938.0</td>\n",
              "      <td>6789.727574</td>\n",
              "      <td>16972.246955</td>\n",
              "      <td>0.000000</td>\n",
              "      <td>965.000000</td>\n",
              "      <td>3093.000000</td>\n",
              "      <td>7976.000000</td>\n",
              "      <td>9.999997e+06</td>\n",
              "    </tr>\n",
              "    <tr>\n",
              "      <th>Temperature(F)</th>\n",
              "      <td>2839386.0</td>\n",
              "      <td>60.988730</td>\n",
              "      <td>18.452580</td>\n",
              "      <td>-89.000000</td>\n",
              "      <td>48.900000</td>\n",
              "      <td>63.000000</td>\n",
              "      <td>75.000000</td>\n",
              "      <td>2.030000e+02</td>\n",
              "    </tr>\n",
              "    <tr>\n",
              "      <th>Wind_Chill(F)</th>\n",
              "      <td>1722751.0</td>\n",
              "      <td>54.990478</td>\n",
              "      <td>22.195422</td>\n",
              "      <td>-89.000000</td>\n",
              "      <td>39.000000</td>\n",
              "      <td>58.000000</td>\n",
              "      <td>72.000000</td>\n",
              "      <td>1.740000e+02</td>\n",
              "    </tr>\n",
              "    <tr>\n",
              "      <th>Humidity(%)</th>\n",
              "      <td>2835340.0</td>\n",
              "      <td>65.377577</td>\n",
              "      <td>22.878537</td>\n",
              "      <td>1.000000</td>\n",
              "      <td>49.000000</td>\n",
              "      <td>68.000000</td>\n",
              "      <td>85.000000</td>\n",
              "      <td>1.000000e+02</td>\n",
              "    </tr>\n",
              "    <tr>\n",
              "      <th>Pressure(in)</th>\n",
              "      <td>2849702.0</td>\n",
              "      <td>29.656850</td>\n",
              "      <td>0.909413</td>\n",
              "      <td>0.000000</td>\n",
              "      <td>29.590000</td>\n",
              "      <td>29.920000</td>\n",
              "      <td>30.070000</td>\n",
              "      <td>5.804000e+01</td>\n",
              "    </tr>\n",
              "    <tr>\n",
              "      <th>Visibility(mi)</th>\n",
              "      <td>2834532.0</td>\n",
              "      <td>9.116766</td>\n",
              "      <td>2.837271</td>\n",
              "      <td>0.000000</td>\n",
              "      <td>10.000000</td>\n",
              "      <td>10.000000</td>\n",
              "      <td>10.000000</td>\n",
              "      <td>1.400000e+02</td>\n",
              "    </tr>\n",
              "    <tr>\n",
              "      <th>Wind_Speed(mph)</th>\n",
              "      <td>2599447.0</td>\n",
              "      <td>7.818111</td>\n",
              "      <td>5.431171</td>\n",
              "      <td>0.000000</td>\n",
              "      <td>4.600000</td>\n",
              "      <td>7.000000</td>\n",
              "      <td>10.400000</td>\n",
              "      <td>9.840000e+02</td>\n",
              "    </tr>\n",
              "    <tr>\n",
              "      <th>Precipitation(in)</th>\n",
              "      <td>1605284.0</td>\n",
              "      <td>0.011195</td>\n",
              "      <td>0.154081</td>\n",
              "      <td>0.000000</td>\n",
              "      <td>0.000000</td>\n",
              "      <td>0.000000</td>\n",
              "      <td>0.000000</td>\n",
              "      <td>2.400000e+01</td>\n",
              "    </tr>\n",
              "  </tbody>\n",
              "</table>\n",
              "</div>"
            ],
            "text/plain": [
              "                       count         mean  ...          75%           max\n",
              "Severity           2906610.0     2.288649  ...     3.000000  4.000000e+00\n",
              "Start_Lat          2906610.0    36.530271  ...    40.375055  4.900220e+01\n",
              "Start_Lng          2906610.0   -96.426758  ...   -80.858141 -6.711317e+01\n",
              "End_Lat            2623789.0    36.517333  ...    40.331330  4.907500e+01\n",
              "End_Lng            2623789.0   -96.203669  ...   -80.846794 -6.710924e+01\n",
              "Distance(mi)       2906610.0     0.398054  ...     0.279000  3.336300e+02\n",
              "Number             1014938.0  6789.727574  ...  7976.000000  9.999997e+06\n",
              "Temperature(F)     2839386.0    60.988730  ...    75.000000  2.030000e+02\n",
              "Wind_Chill(F)      1722751.0    54.990478  ...    72.000000  1.740000e+02\n",
              "Humidity(%)        2835340.0    65.377577  ...    85.000000  1.000000e+02\n",
              "Pressure(in)       2849702.0    29.656850  ...    30.070000  5.804000e+01\n",
              "Visibility(mi)     2834532.0     9.116766  ...    10.000000  1.400000e+02\n",
              "Wind_Speed(mph)    2599447.0     7.818111  ...    10.400000  9.840000e+02\n",
              "Precipitation(in)  1605284.0     0.011195  ...     0.000000  2.400000e+01\n",
              "\n",
              "[14 rows x 8 columns]"
            ]
          },
          "metadata": {
            "tags": []
          },
          "execution_count": 10
        }
      ]
    },
    {
      "cell_type": "markdown",
      "metadata": {
        "id": "HK9xCVbME_aN"
      },
      "source": [
        "# Qestions & Answers\n",
        "\n",
        "1.   Is there any effect of temparture on the number of accidents?\n",
        "2.   which 5 states having the highest number of accidents?"
      ]
    },
    {
      "cell_type": "code",
      "metadata": {
        "colab": {
          "base_uri": "https://localhost:8080/"
        },
        "id": "4a8BIMutGiow",
        "outputId": "5b2b53c6-edfa-4861-b981-9ab9f1ba397f"
      },
      "source": [
        "# Checking Numeric columns\n",
        "numerics = ['int16', 'int32', 'int64', 'float16', 'float32', 'float64']\n",
        "numeric_df = df.select_dtypes(include=numerics)\n",
        "len(numeric_df.columns)"
      ],
      "execution_count": null,
      "outputs": [
        {
          "output_type": "execute_result",
          "data": {
            "text/plain": [
              "14"
            ]
          },
          "metadata": {
            "tags": []
          },
          "execution_count": 11
        }
      ]
    },
    {
      "cell_type": "code",
      "metadata": {
        "colab": {
          "base_uri": "https://localhost:8080/"
        },
        "id": "jRgeC_8OG8bN",
        "outputId": "9364aa0c-b44b-4a6a-bd2c-2df187bc50c0"
      },
      "source": [
        "# Checking per column count of missing values\n",
        "df.isna().sum()"
      ],
      "execution_count": null,
      "outputs": [
        {
          "output_type": "execute_result",
          "data": {
            "text/plain": [
              "ID                             0\n",
              "Severity                       0\n",
              "Start_Time                     0\n",
              "End_Time                       0\n",
              "Start_Lat                      0\n",
              "Start_Lng                      0\n",
              "End_Lat                   282821\n",
              "End_Lng                   282821\n",
              "Distance(mi)                   0\n",
              "Description                    0\n",
              "Number                   1891672\n",
              "Street                         0\n",
              "Side                           0\n",
              "City                         108\n",
              "County                         0\n",
              "State                          0\n",
              "Zipcode                     1114\n",
              "Country                        0\n",
              "Timezone                    3430\n",
              "Airport_Code                6608\n",
              "Weather_Timestamp          46917\n",
              "Temperature(F)             67224\n",
              "Wind_Chill(F)            1183859\n",
              "Humidity(%)                71270\n",
              "Pressure(in)               56908\n",
              "Visibility(mi)             72078\n",
              "Wind_Direction             63474\n",
              "Wind_Speed(mph)           307163\n",
              "Precipitation(in)        1301326\n",
              "Weather_Condition          71851\n",
              "Amenity                        0\n",
              "Bump                           0\n",
              "Crossing                       0\n",
              "Give_Way                       0\n",
              "Junction                       0\n",
              "No_Exit                        0\n",
              "Railway                        0\n",
              "Roundabout                     0\n",
              "Station                        0\n",
              "Stop                           0\n",
              "Traffic_Calming                0\n",
              "Traffic_Signal                 0\n",
              "Turning_Loop                   0\n",
              "Sunrise_Sunset               110\n",
              "Civil_Twilight               110\n",
              "Nautical_Twilight            110\n",
              "Astronomical_Twilight        110\n",
              "dtype: int64"
            ]
          },
          "metadata": {
            "tags": []
          },
          "execution_count": 12
        }
      ]
    },
    {
      "cell_type": "code",
      "metadata": {
        "colab": {
          "base_uri": "https://localhost:8080/"
        },
        "id": "NwRNKb2bH_v4",
        "outputId": "cc4c5661-970c-4922-e8f4-13b86243eef1"
      },
      "source": [
        "# sorting missing value\n",
        "df.isna().sum().sort_values()"
      ],
      "execution_count": null,
      "outputs": [
        {
          "output_type": "execute_result",
          "data": {
            "text/plain": [
              "ID                             0\n",
              "Crossing                       0\n",
              "Give_Way                       0\n",
              "Junction                       0\n",
              "No_Exit                        0\n",
              "Railway                        0\n",
              "Roundabout                     0\n",
              "Station                        0\n",
              "Stop                           0\n",
              "Traffic_Calming                0\n",
              "Country                        0\n",
              "Traffic_Signal                 0\n",
              "State                          0\n",
              "Bump                           0\n",
              "County                         0\n",
              "Side                           0\n",
              "Street                         0\n",
              "Turning_Loop                   0\n",
              "Description                    0\n",
              "Distance(mi)                   0\n",
              "Start_Lng                      0\n",
              "Start_Lat                      0\n",
              "End_Time                       0\n",
              "Start_Time                     0\n",
              "Severity                       0\n",
              "Amenity                        0\n",
              "City                         108\n",
              "Sunrise_Sunset               110\n",
              "Civil_Twilight               110\n",
              "Astronomical_Twilight        110\n",
              "Nautical_Twilight            110\n",
              "Zipcode                     1114\n",
              "Timezone                    3430\n",
              "Airport_Code                6608\n",
              "Weather_Timestamp          46917\n",
              "Pressure(in)               56908\n",
              "Wind_Direction             63474\n",
              "Temperature(F)             67224\n",
              "Humidity(%)                71270\n",
              "Weather_Condition          71851\n",
              "Visibility(mi)             72078\n",
              "End_Lng                   282821\n",
              "End_Lat                   282821\n",
              "Wind_Speed(mph)           307163\n",
              "Wind_Chill(F)            1183859\n",
              "Precipitation(in)        1301326\n",
              "Number                   1891672\n",
              "dtype: int64"
            ]
          },
          "metadata": {
            "tags": []
          },
          "execution_count": 13
        }
      ]
    },
    {
      "cell_type": "code",
      "metadata": {
        "colab": {
          "base_uri": "https://localhost:8080/"
        },
        "id": "Wjv057FTIXrD",
        "outputId": "62963e7a-d1b4-4293-ce59-9a1b6b3dcd4e"
      },
      "source": [
        "# sorting missing value in descending order\n",
        "df.isna().sum().sort_values(ascending=False)"
      ],
      "execution_count": null,
      "outputs": [
        {
          "output_type": "execute_result",
          "data": {
            "text/plain": [
              "Number                   1891672\n",
              "Precipitation(in)        1301326\n",
              "Wind_Chill(F)            1183859\n",
              "Wind_Speed(mph)           307163\n",
              "End_Lat                   282821\n",
              "End_Lng                   282821\n",
              "Visibility(mi)             72078\n",
              "Weather_Condition          71851\n",
              "Humidity(%)                71270\n",
              "Temperature(F)             67224\n",
              "Wind_Direction             63474\n",
              "Pressure(in)               56908\n",
              "Weather_Timestamp          46917\n",
              "Airport_Code                6608\n",
              "Timezone                    3430\n",
              "Zipcode                     1114\n",
              "Nautical_Twilight            110\n",
              "Astronomical_Twilight        110\n",
              "Civil_Twilight               110\n",
              "Sunrise_Sunset               110\n",
              "City                         108\n",
              "Amenity                        0\n",
              "Severity                       0\n",
              "Start_Time                     0\n",
              "End_Time                       0\n",
              "Start_Lat                      0\n",
              "Start_Lng                      0\n",
              "Distance(mi)                   0\n",
              "Description                    0\n",
              "Turning_Loop                   0\n",
              "Street                         0\n",
              "Side                           0\n",
              "County                         0\n",
              "Bump                           0\n",
              "State                          0\n",
              "Traffic_Signal                 0\n",
              "Country                        0\n",
              "Traffic_Calming                0\n",
              "Stop                           0\n",
              "Station                        0\n",
              "Roundabout                     0\n",
              "Railway                        0\n",
              "No_Exit                        0\n",
              "Junction                       0\n",
              "Give_Way                       0\n",
              "Crossing                       0\n",
              "ID                             0\n",
              "dtype: int64"
            ]
          },
          "metadata": {
            "tags": []
          },
          "execution_count": 14
        }
      ]
    },
    {
      "cell_type": "code",
      "metadata": {
        "colab": {
          "base_uri": "https://localhost:8080/"
        },
        "id": "_e5IMH4aIl08",
        "outputId": "c1666bf4-2719-47b3-977e-bd6495bb5957"
      },
      "source": [
        "# Missing values in percentage\n",
        "df.isna().sum().sort_values(ascending=False)/len(df)"
      ],
      "execution_count": null,
      "outputs": [
        {
          "output_type": "execute_result",
          "data": {
            "text/plain": [
              "Number                   0.650817\n",
              "Precipitation(in)        0.447713\n",
              "Wind_Chill(F)            0.407299\n",
              "Wind_Speed(mph)          0.105677\n",
              "End_Lat                  0.097303\n",
              "End_Lng                  0.097303\n",
              "Visibility(mi)           0.024798\n",
              "Weather_Condition        0.024720\n",
              "Humidity(%)              0.024520\n",
              "Temperature(F)           0.023128\n",
              "Wind_Direction           0.021838\n",
              "Pressure(in)             0.019579\n",
              "Weather_Timestamp        0.016141\n",
              "Airport_Code             0.002273\n",
              "Timezone                 0.001180\n",
              "Zipcode                  0.000383\n",
              "Nautical_Twilight        0.000038\n",
              "Astronomical_Twilight    0.000038\n",
              "Civil_Twilight           0.000038\n",
              "Sunrise_Sunset           0.000038\n",
              "City                     0.000037\n",
              "Amenity                  0.000000\n",
              "Severity                 0.000000\n",
              "Start_Time               0.000000\n",
              "End_Time                 0.000000\n",
              "Start_Lat                0.000000\n",
              "Start_Lng                0.000000\n",
              "Distance(mi)             0.000000\n",
              "Description              0.000000\n",
              "Turning_Loop             0.000000\n",
              "Street                   0.000000\n",
              "Side                     0.000000\n",
              "County                   0.000000\n",
              "Bump                     0.000000\n",
              "State                    0.000000\n",
              "Traffic_Signal           0.000000\n",
              "Country                  0.000000\n",
              "Traffic_Calming          0.000000\n",
              "Stop                     0.000000\n",
              "Station                  0.000000\n",
              "Roundabout               0.000000\n",
              "Railway                  0.000000\n",
              "No_Exit                  0.000000\n",
              "Junction                 0.000000\n",
              "Give_Way                 0.000000\n",
              "Crossing                 0.000000\n",
              "ID                       0.000000\n",
              "dtype: float64"
            ]
          },
          "metadata": {
            "tags": []
          },
          "execution_count": 15
        }
      ]
    },
    {
      "cell_type": "code",
      "metadata": {
        "colab": {
          "base_uri": "https://localhost:8080/"
        },
        "id": "FLeOUrUzJNVP",
        "outputId": "37c23ab3-f05d-43eb-9a4c-9665e5911fbb"
      },
      "source": [
        "# Checking type of above data\n",
        "type(df.isna().sum().sort_values(ascending=False)/len(df))"
      ],
      "execution_count": null,
      "outputs": [
        {
          "output_type": "execute_result",
          "data": {
            "text/plain": [
              "pandas.core.series.Series"
            ]
          },
          "metadata": {
            "tags": []
          },
          "execution_count": 16
        }
      ]
    },
    {
      "cell_type": "markdown",
      "metadata": {
        "id": "qv696m6LJbaj"
      },
      "source": [
        "Series means it is one column & for one cloumn data we use plot function"
      ]
    },
    {
      "cell_type": "code",
      "metadata": {
        "colab": {
          "base_uri": "https://localhost:8080/"
        },
        "id": "svJDrSCeKBZn",
        "outputId": "db103bb5-cb73-4a17-da7d-eb71bff7effd"
      },
      "source": [
        "# Filtering Series (removing 0 columns)\n",
        "series=df.isna().sum().sort_values(ascending=False)/len(df)\n",
        "series[series!=0]\n"
      ],
      "execution_count": null,
      "outputs": [
        {
          "output_type": "execute_result",
          "data": {
            "text/plain": [
              "Number                   0.650817\n",
              "Precipitation(in)        0.447713\n",
              "Wind_Chill(F)            0.407299\n",
              "Wind_Speed(mph)          0.105677\n",
              "End_Lat                  0.097303\n",
              "End_Lng                  0.097303\n",
              "Visibility(mi)           0.024798\n",
              "Weather_Condition        0.024720\n",
              "Humidity(%)              0.024520\n",
              "Temperature(F)           0.023128\n",
              "Wind_Direction           0.021838\n",
              "Pressure(in)             0.019579\n",
              "Weather_Timestamp        0.016141\n",
              "Airport_Code             0.002273\n",
              "Timezone                 0.001180\n",
              "Zipcode                  0.000383\n",
              "Nautical_Twilight        0.000038\n",
              "Astronomical_Twilight    0.000038\n",
              "Civil_Twilight           0.000038\n",
              "Sunrise_Sunset           0.000038\n",
              "City                     0.000037\n",
              "dtype: float64"
            ]
          },
          "metadata": {
            "tags": []
          },
          "execution_count": 17
        }
      ]
    },
    {
      "cell_type": "code",
      "metadata": {
        "colab": {
          "base_uri": "https://localhost:8080/",
          "height": 282
        },
        "id": "jEblcM-SJqCr",
        "outputId": "29d810c9-6038-404b-a68d-22189ee400e7"
      },
      "source": [
        "# ploting the Bar graph\n",
        "series[series!=0].plot(kind='barh')"
      ],
      "execution_count": null,
      "outputs": [
        {
          "output_type": "execute_result",
          "data": {
            "text/plain": [
              "<matplotlib.axes._subplots.AxesSubplot at 0x7fa99fa68490>"
            ]
          },
          "metadata": {
            "tags": []
          },
          "execution_count": 18
        },
        {
          "output_type": "display_data",
          "data": {
            "image/png": "[encoded data removed]",
            "text/plain": [
              "<Figure size 432x288 with 1 Axes>"
            ]
          },
          "metadata": {
            "tags": [],
            "needs_background": "light"
          }
        }
      ]
    },
    {
      "cell_type": "code",
      "metadata": {
        "colab": {
          "base_uri": "https://localhost:8080/",
          "height": 282
        },
        "id": "GqdKayRkLkFQ",
        "outputId": "8d3a97bc-d989-418a-a80f-fc54ef73623d"
      },
      "source": [
        "series[series!=0].sort_values(ascending=True).plot(kind='barh')"
      ],
      "execution_count": null,
      "outputs": [
        {
          "output_type": "execute_result",
          "data": {
            "text/plain": [
              "<matplotlib.axes._subplots.AxesSubplot at 0x7fa99f9ae4d0>"
            ]
          },
          "metadata": {
            "tags": []
          },
          "execution_count": 19
        },
        {
          "output_type": "display_data",
          "data": {
            "image/png": "[encoded data removed]",
            "text/plain": [
              "<Figure size 432x288 with 1 Axes>"
            ]
          },
          "metadata": {
            "tags": [],
            "needs_background": "light"
          }
        }
      ]
    },
    {
      "cell_type": "code",
      "metadata": {
        "colab": {
          "base_uri": "https://localhost:8080/"
        },
        "id": "58z8QEJp4XP0",
        "outputId": "f4a2ffdd-33b6-485e-ef87-c94e301b1da5"
      },
      "source": [
        "df.columns"
      ],
      "execution_count": null,
      "outputs": [
        {
          "output_type": "execute_result",
          "data": {
            "text/plain": [
              "Index(['ID', 'Severity', 'Start_Time', 'End_Time', 'Start_Lat', 'Start_Lng',\n",
              "       'End_Lat', 'End_Lng', 'Distance(mi)', 'Description', 'Number', 'Street',\n",
              "       'Side', 'City', 'County', 'State', 'Zipcode', 'Country', 'Timezone',\n",
              "       'Airport_Code', 'Weather_Timestamp', 'Temperature(F)', 'Wind_Chill(F)',\n",
              "       'Humidity(%)', 'Pressure(in)', 'Visibility(mi)', 'Wind_Direction',\n",
              "       'Wind_Speed(mph)', 'Precipitation(in)', 'Weather_Condition', 'Amenity',\n",
              "       'Bump', 'Crossing', 'Give_Way', 'Junction', 'No_Exit', 'Railway',\n",
              "       'Roundabout', 'Station', 'Stop', 'Traffic_Calming', 'Traffic_Signal',\n",
              "       'Turning_Loop', 'Sunrise_Sunset', 'Civil_Twilight', 'Nautical_Twilight',\n",
              "       'Astronomical_Twilight'],\n",
              "      dtype='object')"
            ]
          },
          "metadata": {
            "tags": []
          },
          "execution_count": 20
        }
      ]
    },
    {
      "cell_type": "markdown",
      "metadata": {
        "id": "4PXXNE_IMJEo"
      },
      "source": [
        "# Removing unwanted columns\n",
        "Some of the columns contains more null values so it is better to skip that columns.It depends upon the business problem questions which columns to be removed.\n",
        "\n",
        "# Intersted columns are \n",
        "\n",
        "1.   City\n",
        "2.   'Start_Time', 'End_Time'\n",
        "\n",
        "1.   'Start_Lat', 'Start_Lng'\n",
        "\n",
        "1.   'Temperature(F)'\n",
        "2.   'Weather_Condition'"
      ]
    },
    {
      "cell_type": "markdown",
      "metadata": {
        "id": "v40TgVjAMde8"
      },
      "source": [
        "## City column"
      ]
    },
    {
      "cell_type": "code",
      "metadata": {
        "colab": {
          "base_uri": "https://localhost:8080/"
        },
        "id": "BLb9bTGw5GsJ",
        "outputId": "ca4b77db-0ae6-450b-c3ab-39bc672d6e69"
      },
      "source": [
        "# Analyze city column\n",
        "df.City"
      ],
      "execution_count": null,
      "outputs": [
        {
          "output_type": "execute_result",
          "data": {
            "text/plain": [
              "0                Greenville\n",
              "1                 Charlotte\n",
              "2                 Los Gatos\n",
              "3               Carson City\n",
              "4           Fort Lauderdale\n",
              "                 ...       \n",
              "2906605             Houston\n",
              "2906606              Colton\n",
              "2906607               Miami\n",
              "2906608      Salt Lake City\n",
              "2906609    Colorado Springs\n",
              "Name: City, Length: 2906610, dtype: object"
            ]
          },
          "metadata": {
            "tags": []
          },
          "execution_count": 21
        }
      ]
    },
    {
      "cell_type": "code",
      "metadata": {
        "colab": {
          "base_uri": "https://localhost:8080/"
        },
        "id": "mjTsFGHK5fRc",
        "outputId": "243289c9-d8a4-43d1-8828-4f823f31b0d2"
      },
      "source": [
        "type(df.City)"
      ],
      "execution_count": null,
      "outputs": [
        {
          "output_type": "execute_result",
          "data": {
            "text/plain": [
              "pandas.core.series.Series"
            ]
          },
          "metadata": {
            "tags": []
          },
          "execution_count": 22
        }
      ]
    },
    {
      "cell_type": "code",
      "metadata": {
        "colab": {
          "base_uri": "https://localhost:8080/"
        },
        "id": "gSfdRh8L5ms9",
        "outputId": "687d0e6e-bdc6-4123-97de-d6351e4df9d0"
      },
      "source": [
        "# Checking unique values of city column\n",
        "df.City.unique()"
      ],
      "execution_count": null,
      "outputs": [
        {
          "output_type": "execute_result",
          "data": {
            "text/plain": [
              "array(['Greenville', 'Charlotte', 'Los Gatos', ..., 'Allons', 'Adolphus',\n",
              "       'Gowanda'], dtype=object)"
            ]
          },
          "metadata": {
            "tags": []
          },
          "execution_count": 23
        }
      ]
    },
    {
      "cell_type": "code",
      "metadata": {
        "colab": {
          "base_uri": "https://localhost:8080/"
        },
        "id": "e-Y5whco6dUo",
        "outputId": "2ab10d0b-9da8-4d7c-82ab-adeeb990b149"
      },
      "source": [
        "type(df.City.unique())"
      ],
      "execution_count": null,
      "outputs": [
        {
          "output_type": "execute_result",
          "data": {
            "text/plain": [
              "numpy.ndarray"
            ]
          },
          "metadata": {
            "tags": []
          },
          "execution_count": 24
        }
      ]
    },
    {
      "cell_type": "code",
      "metadata": {
        "colab": {
          "base_uri": "https://localhost:8080/"
        },
        "id": "bCAA-b8e5zjT",
        "outputId": "b67791d1-9121-477a-b161-9ce23e5d90c2"
      },
      "source": [
        "len(df.City.unique())"
      ],
      "execution_count": null,
      "outputs": [
        {
          "output_type": "execute_result",
          "data": {
            "text/plain": [
              "11790"
            ]
          },
          "metadata": {
            "tags": []
          },
          "execution_count": 25
        }
      ]
    },
    {
      "cell_type": "code",
      "metadata": {
        "colab": {
          "base_uri": "https://localhost:8080/"
        },
        "id": "bmfm73IH6ECr",
        "outputId": "1b0f77ca-ba83-48e1-cc3f-d7d3302ecf83"
      },
      "source": [
        "# Checking 100 cities\n",
        "df.City.unique()[:100]"
      ],
      "execution_count": null,
      "outputs": [
        {
          "output_type": "execute_result",
          "data": {
            "text/plain": [
              "array(['Greenville', 'Charlotte', 'Los Gatos', 'Carson City',\n",
              "       'Fort Lauderdale', 'Rifle', 'Whittier', 'Franklin', 'Valencia',\n",
              "       'Dover', 'Yonkers', 'Garland', 'Tucson', 'Oakland', 'Houston',\n",
              "       'Los Angeles', 'Fontana', 'Saint Clair Shores',\n",
              "       'Hopewell Junction', 'Atlanta', 'Fuquay Varina', 'Daleville',\n",
              "       'Martinez', 'North Charleston', 'Austin', 'Seal Beach',\n",
              "       'Cedar Springs', 'Miami', 'Corfu', 'Indianapolis', 'Baton Rouge',\n",
              "       'Grand Terrace', 'Providence Forge', 'Tempe', 'Pittsford',\n",
              "       'Pittsburgh', 'Sacramento', 'Latham', 'Homosassa', 'Fort Worth',\n",
              "       'Redding', 'Downey', 'Minneapolis', 'Lake Worth', 'Grand Rapids',\n",
              "       'Aldrich', 'Richmond', 'North Highlands', 'Dublin', 'Stafford',\n",
              "       'Doswell', 'Flint', 'Ballston Spa', 'Baldwin Park',\n",
              "       'Monroe Township', 'Dallas', 'El Paso', 'Jacksonville',\n",
              "       'Moreno Valley', 'Summerfield', 'Phoenix', 'San Diego',\n",
              "       'Capitol Heights', 'East Hartford', 'Lafayette', 'Calpine',\n",
              "       'Monterey', 'Grand Blanc', 'Dayton', 'Downers Grove', 'Newman',\n",
              "       'Saint Paul', 'Mira Loma', 'Delray Beach', 'Alexandria',\n",
              "       'Bakersfield', 'Pittsville', 'Berkeley', 'Red Wing', 'East Meadow',\n",
              "       'Warrenville', 'Scarsdale', 'Memphis', 'Barrington',\n",
              "       'Howard Beach', 'Pacoima', 'Joplin', 'Clayton', 'Portland',\n",
              "       'Maricopa', 'Omaha', 'West Hempstead', 'Live Oak', 'Sylmar',\n",
              "       'Chattanooga', 'Calabasas', 'Englewood', 'Windom', 'Stockton',\n",
              "       'Roseville'], dtype=object)"
            ]
          },
          "metadata": {
            "tags": []
          },
          "execution_count": 26
        }
      ]
    },
    {
      "cell_type": "markdown",
      "metadata": {
        "id": "-aIDHrC67WX4"
      },
      "source": [
        "### Checking No of accidents per city"
      ]
    },
    {
      "cell_type": "code",
      "metadata": {
        "colab": {
          "base_uri": "https://localhost:8080/"
        },
        "id": "7tI9WrmX7bPc",
        "outputId": "49674d5d-2416-4bdc-fd3e-a2a74435cd11"
      },
      "source": [
        "# count of each occurence of unique city\n",
        "df.City.value_counts()"
      ],
      "execution_count": null,
      "outputs": [
        {
          "output_type": "execute_result",
          "data": {
            "text/plain": [
              "Los Angeles    68411\n",
              "Houston        68265\n",
              "Charlotte      56176\n",
              "Miami          49965\n",
              "Dallas         48525\n",
              "               ...  \n",
              "Pe Ell             1\n",
              "Stirum             1\n",
              "Daniel             1\n",
              "Parker Dam         1\n",
              "Fields             1\n",
              "Name: City, Length: 11789, dtype: int64"
            ]
          },
          "metadata": {
            "tags": []
          },
          "execution_count": 27
        }
      ]
    },
    {
      "cell_type": "code",
      "metadata": {
        "colab": {
          "base_uri": "https://localhost:8080/"
        },
        "id": "lomvZDWwCXu0",
        "outputId": "40601bb0-de28-475c-a50c-176758635db9"
      },
      "source": [
        "len(df.City.value_counts())"
      ],
      "execution_count": null,
      "outputs": [
        {
          "output_type": "execute_result",
          "data": {
            "text/plain": [
              "11789"
            ]
          },
          "metadata": {
            "tags": []
          },
          "execution_count": 28
        }
      ]
    },
    {
      "cell_type": "code",
      "metadata": {
        "colab": {
          "base_uri": "https://localhost:8080/"
        },
        "id": "YE4LA61q8Ngp",
        "outputId": "09a0d54f-dbfb-4e07-c5a1-d9fd416a7460"
      },
      "source": [
        "# Top 10 Cities \n",
        "df.City.value_counts()[:10]"
      ],
      "execution_count": null,
      "outputs": [
        {
          "output_type": "execute_result",
          "data": {
            "text/plain": [
              "Los Angeles    68411\n",
              "Houston        68265\n",
              "Charlotte      56176\n",
              "Miami          49965\n",
              "Dallas         48525\n",
              "Austin         38808\n",
              "Raleigh        31355\n",
              "Atlanta        29244\n",
              "Sacramento     28984\n",
              "Orlando        28092\n",
              "Name: City, dtype: int64"
            ]
          },
          "metadata": {
            "tags": []
          },
          "execution_count": 29
        }
      ]
    },
    {
      "cell_type": "code",
      "metadata": {
        "colab": {
          "base_uri": "https://localhost:8080/",
          "height": 282
        },
        "id": "JQJ7TfDn9qMG",
        "outputId": "cec320d9-b0ce-4f89-9908-0e4d9e498f9e"
      },
      "source": [
        "df.City.value_counts()[:20].plot(kind='barh')"
      ],
      "execution_count": null,
      "outputs": [
        {
          "output_type": "execute_result",
          "data": {
            "text/plain": [
              "<matplotlib.axes._subplots.AxesSubplot at 0x7fa99f514450>"
            ]
          },
          "metadata": {
            "tags": []
          },
          "execution_count": 30
        },
        {
          "output_type": "display_data",
          "data": {
            "image/png": "[encoded data removed]",
            "text/plain": [
              "<Figure size 432x288 with 1 Axes>"
            ]
          },
          "metadata": {
            "tags": [],
            "needs_background": "light"
          }
        }
      ]
    },
    {
      "cell_type": "markdown",
      "metadata": {
        "id": "otiqDvSiAiHM"
      },
      "source": [
        "### Checking no of cities where accidents are less than 1000"
      ]
    },
    {
      "cell_type": "code",
      "metadata": {
        "colab": {
          "base_uri": "https://localhost:8080/"
        },
        "id": "GYSolKHLAvBd",
        "outputId": "e7710fcd-2ad2-43e3-e7c0-3353c9cd2d46"
      },
      "source": [
        "# Displaying cities where accidents are less than 1000\n",
        "df.City.value_counts()[df.City.value_counts()<1000]"
      ],
      "execution_count": null,
      "outputs": [
        {
          "output_type": "execute_result",
          "data": {
            "text/plain": [
              "The Dalles    996\n",
              "Edmond        996\n",
              "Selma         994\n",
              "Royal Oak     992\n",
              "Lakeland      991\n",
              "             ... \n",
              "Pe Ell          1\n",
              "Stirum          1\n",
              "Daniel          1\n",
              "Parker Dam      1\n",
              "Fields          1\n",
              "Name: City, Length: 11276, dtype: int64"
            ]
          },
          "metadata": {
            "tags": []
          },
          "execution_count": 31
        }
      ]
    },
    {
      "cell_type": "code",
      "metadata": {
        "colab": {
          "base_uri": "https://localhost:8080/",
          "height": 350
        },
        "id": "MGarDz38GB8m",
        "outputId": "e3efc437-fc44-4a86-e492-da80aa430bdb"
      },
      "source": [
        "# Distplot of low accidents city\n",
        "import seaborn as sns\n",
        "sns.distplot(df.City.value_counts()[df.City.value_counts()<1000])"
      ],
      "execution_count": null,
      "outputs": [
        {
          "output_type": "stream",
          "text": [
            "/usr/local/lib/python3.7/dist-packages/seaborn/distributions.py:2557: FutureWarning: `distplot` is a deprecated function and will be removed in a future version. Please adapt your code to use either `displot` (a figure-level function with similar flexibility) or `histplot` (an axes-level function for histograms).\n",
            "  warnings.warn(msg, FutureWarning)\n"
          ],
          "name": "stderr"
        },
        {
          "output_type": "execute_result",
          "data": {
            "text/plain": [
              "<matplotlib.axes._subplots.AxesSubplot at 0x7fa990a56810>"
            ]
          },
          "metadata": {
            "tags": []
          },
          "execution_count": 32
        },
        {
          "output_type": "display_data",
          "data": {
            "image/png": "[encoded data removed]",
            "text/plain": [
              "<Figure size 432x288 with 1 Axes>"
            ]
          },
          "metadata": {
            "tags": [],
            "needs_background": "light"
          }
        }
      ]
    },
    {
      "cell_type": "code",
      "metadata": {
        "colab": {
          "base_uri": "https://localhost:8080/",
          "height": 350
        },
        "id": "CgDI033pHOq0",
        "outputId": "7bd11cd0-44b6-4157-f37a-8a665273c225"
      },
      "source": [
        "# Distplot of low accidents city by theme\n",
        "import seaborn as sns\n",
        "sns.set_style(\"darkgrid\")\n",
        "\n",
        "sns.distplot(df.City.value_counts()[df.City.value_counts()<1000])"
      ],
      "execution_count": null,
      "outputs": [
        {
          "output_type": "stream",
          "text": [
            "/usr/local/lib/python3.7/dist-packages/seaborn/distributions.py:2557: FutureWarning: `distplot` is a deprecated function and will be removed in a future version. Please adapt your code to use either `displot` (a figure-level function with similar flexibility) or `histplot` (an axes-level function for histograms).\n",
            "  warnings.warn(msg, FutureWarning)\n"
          ],
          "name": "stderr"
        },
        {
          "output_type": "execute_result",
          "data": {
            "text/plain": [
              "<matplotlib.axes._subplots.AxesSubplot at 0x7fa9861686d0>"
            ]
          },
          "metadata": {
            "tags": []
          },
          "execution_count": 33
        },
        {
          "output_type": "display_data",
          "data": {
            "image/png": "[encoded data removed]",
            "text/plain": [
              "<Figure size 432x288 with 1 Axes>"
            ]
          },
          "metadata": {
            "tags": []
          }
        }
      ]
    },
    {
      "cell_type": "markdown",
      "metadata": {
        "id": "Zm6i4JM0VIhK"
      },
      "source": [
        "Exponentially decrasing graph"
      ]
    },
    {
      "cell_type": "code",
      "metadata": {
        "colab": {
          "base_uri": "https://localhost:8080/"
        },
        "id": "aNGxydU0BPeG",
        "outputId": "472b3a99-677e-4c9a-8420-45a1af7af309"
      },
      "source": [
        "# checking count of cities\n",
        "len(df.City.value_counts()[df.City.value_counts()<1000])"
      ],
      "execution_count": null,
      "outputs": [
        {
          "output_type": "execute_result",
          "data": {
            "text/plain": [
              "11276"
            ]
          },
          "metadata": {
            "tags": []
          },
          "execution_count": 34
        }
      ]
    },
    {
      "cell_type": "code",
      "metadata": {
        "colab": {
          "base_uri": "https://localhost:8080/"
        },
        "id": "dP6E_wpuBaat",
        "outputId": "be64d49c-6007-41a0-be4d-161deb5bbe52"
      },
      "source": [
        "# checking in terms of percentage\n",
        "len(df.City.value_counts()[df.City.value_counts()<1000])/len(df.City.value_counts())"
      ],
      "execution_count": null,
      "outputs": [
        {
          "output_type": "execute_result",
          "data": {
            "text/plain": [
              "0.9564848587666469"
            ]
          },
          "metadata": {
            "tags": []
          },
          "execution_count": 35
        }
      ]
    },
    {
      "cell_type": "code",
      "metadata": {
        "colab": {
          "base_uri": "https://localhost:8080/"
        },
        "id": "I6vUPcR2DYN0",
        "outputId": "774030b4-a7f1-477a-dcb0-041d913b59fa"
      },
      "source": [
        "# Displaying cities where accidents are more than 1000 times\n",
        "df.City.value_counts()[df.City.value_counts()>1000]"
      ],
      "execution_count": null,
      "outputs": [
        {
          "output_type": "execute_result",
          "data": {
            "text/plain": [
              "Los Angeles      68411\n",
              "Houston          68265\n",
              "Charlotte        56176\n",
              "Miami            49965\n",
              "Dallas           48525\n",
              "                 ...  \n",
              "San Bruno         1009\n",
              "Willow Grove      1005\n",
              "Palmetto          1004\n",
              "Dover             1003\n",
              "Monterey Park     1003\n",
              "Name: City, Length: 513, dtype: int64"
            ]
          },
          "metadata": {
            "tags": []
          },
          "execution_count": 36
        }
      ]
    },
    {
      "cell_type": "code",
      "metadata": {
        "colab": {
          "base_uri": "https://localhost:8080/"
        },
        "id": "jj_MRjjKFJoG",
        "outputId": "a7d52442-ee1c-4a66-91f6-176331db1864"
      },
      "source": [
        "# No cities where accidents are more than 1000 times\n",
        "len(df.City.value_counts()[df.City.value_counts()>1000])"
      ],
      "execution_count": null,
      "outputs": [
        {
          "output_type": "execute_result",
          "data": {
            "text/plain": [
              "513"
            ]
          },
          "metadata": {
            "tags": []
          },
          "execution_count": 37
        }
      ]
    },
    {
      "cell_type": "code",
      "metadata": {
        "colab": {
          "base_uri": "https://localhost:8080/"
        },
        "id": "ad2LbJH9EOrn",
        "outputId": "7a1318e0-e913-4f0b-9736-c455b8b522fa"
      },
      "source": [
        "# percentage \n",
        "len(df.City.value_counts()[df.City.value_counts()>1000])/len(df.City.value_counts())"
      ],
      "execution_count": null,
      "outputs": [
        {
          "output_type": "execute_result",
          "data": {
            "text/plain": [
              "0.04351514123335313"
            ]
          },
          "metadata": {
            "tags": []
          },
          "execution_count": 38
        }
      ]
    },
    {
      "cell_type": "markdown",
      "metadata": {
        "id": "QHFA2DpvIaof"
      },
      "source": [
        "### Cities where only 1 accidents reported"
      ]
    },
    {
      "cell_type": "code",
      "metadata": {
        "colab": {
          "base_uri": "https://localhost:8080/"
        },
        "id": "Kq1wA4U_Ijle",
        "outputId": "483645f4-e63b-4b83-f4d3-56689c66a48c"
      },
      "source": [
        "# Cities where only once accident happend\n",
        "df.City.value_counts()[df.City.value_counts()==1]"
      ],
      "execution_count": null,
      "outputs": [
        {
          "output_type": "execute_result",
          "data": {
            "text/plain": [
              "Mount Washington             1\n",
              "Lucan                        1\n",
              "Vestaburg                    1\n",
              "Twain Harte-Tuolumne City    1\n",
              "Kingfisher                   1\n",
              "                            ..\n",
              "Pe Ell                       1\n",
              "Stirum                       1\n",
              "Daniel                       1\n",
              "Parker Dam                   1\n",
              "Fields                       1\n",
              "Name: City, Length: 1306, dtype: int64"
            ]
          },
          "metadata": {
            "tags": []
          },
          "execution_count": 39
        }
      ]
    },
    {
      "cell_type": "code",
      "metadata": {
        "colab": {
          "base_uri": "https://localhost:8080/"
        },
        "id": "QXrdUPWlI6NY",
        "outputId": "fe0690c1-f74e-425b-f8a7-7c2f3f2a67b6"
      },
      "source": [
        "# Total no of cities where only once accident happend\n",
        "len(df.City.value_counts()[df.City.value_counts()==1])"
      ],
      "execution_count": null,
      "outputs": [
        {
          "output_type": "execute_result",
          "data": {
            "text/plain": [
              "1306"
            ]
          },
          "metadata": {
            "tags": []
          },
          "execution_count": 40
        }
      ]
    },
    {
      "cell_type": "markdown",
      "metadata": {
        "id": "qD6LgR0MNGw8"
      },
      "source": [
        "## 'Start_Time' column"
      ]
    },
    {
      "cell_type": "code",
      "metadata": {
        "colab": {
          "base_uri": "https://localhost:8080/"
        },
        "id": "AkqiW-2vNVAo",
        "outputId": "1f20d95e-be83-4984-ef3e-4e9364aff02f"
      },
      "source": [
        "# Checking Start_Time column\n",
        "df.Start_Time"
      ],
      "execution_count": null,
      "outputs": [
        {
          "output_type": "execute_result",
          "data": {
            "text/plain": [
              "0          2019-05-21 08:29:55\n",
              "1          2019-10-07 17:43:09\n",
              "2          2020-12-13 21:53:00\n",
              "3          2018-04-17 16:51:23\n",
              "4          2016-08-31 17:40:49\n",
              "                  ...         \n",
              "2906605    2018-06-28 08:49:01\n",
              "2906606    2019-01-10 02:01:01\n",
              "2906607    2020-11-23 12:52:00\n",
              "2906608    2019-12-29 22:38:00\n",
              "2906609    2018-03-26 13:35:03\n",
              "Name: Start_Time, Length: 2906610, dtype: object"
            ]
          },
          "metadata": {
            "tags": []
          },
          "execution_count": 41
        }
      ]
    },
    {
      "cell_type": "code",
      "metadata": {
        "colab": {
          "base_uri": "https://localhost:8080/",
          "height": 35
        },
        "id": "_S9eiY8ENvzi",
        "outputId": "a0e54570-6e81-4259-a704-c57707b58a84"
      },
      "source": [
        "# Checking First element\n",
        "df.Start_Time[0]"
      ],
      "execution_count": null,
      "outputs": [
        {
          "output_type": "execute_result",
          "data": {
            "application/vnd.google.colaboratory.intrinsic+json": {
              "type": "string"
            },
            "text/plain": [
              "'2019-05-21 08:29:55'"
            ]
          },
          "metadata": {
            "tags": []
          },
          "execution_count": 42
        }
      ]
    },
    {
      "cell_type": "code",
      "metadata": {
        "colab": {
          "base_uri": "https://localhost:8080/"
        },
        "id": "F_vdDoPsOK6S",
        "outputId": "7539b98c-7af3-4484-d439-00844e0a02f6"
      },
      "source": [
        "# Converting series in date time datatype\n",
        "pd.to_datetime(df.Start_Time)"
      ],
      "execution_count": null,
      "outputs": [
        {
          "output_type": "execute_result",
          "data": {
            "text/plain": [
              "0         2019-05-21 08:29:55\n",
              "1         2019-10-07 17:43:09\n",
              "2         2020-12-13 21:53:00\n",
              "3         2018-04-17 16:51:23\n",
              "4         2016-08-31 17:40:49\n",
              "                  ...        \n",
              "2906605   2018-06-28 08:49:01\n",
              "2906606   2019-01-10 02:01:01\n",
              "2906607   2020-11-23 12:52:00\n",
              "2906608   2019-12-29 22:38:00\n",
              "2906609   2018-03-26 13:35:03\n",
              "Name: Start_Time, Length: 2906610, dtype: datetime64[ns]"
            ]
          },
          "metadata": {
            "tags": []
          },
          "execution_count": 43
        }
      ]
    },
    {
      "cell_type": "code",
      "metadata": {
        "id": "C_rVUuvqOt0q"
      },
      "source": [
        "# Store it in original df\n",
        "df.Start_Time=pd.to_datetime(df.Start_Time)"
      ],
      "execution_count": null,
      "outputs": []
    },
    {
      "cell_type": "code",
      "metadata": {
        "colab": {
          "base_uri": "https://localhost:8080/"
        },
        "id": "iTJCQAkpO_y3",
        "outputId": "3b7aaf6a-186d-4f96-be11-5093d14ba101"
      },
      "source": [
        "# Checking First element\n",
        "df.Start_Time[0]"
      ],
      "execution_count": null,
      "outputs": [
        {
          "output_type": "execute_result",
          "data": {
            "text/plain": [
              "Timestamp('2019-05-21 08:29:55')"
            ]
          },
          "metadata": {
            "tags": []
          },
          "execution_count": 45
        }
      ]
    },
    {
      "cell_type": "code",
      "metadata": {
        "colab": {
          "base_uri": "https://localhost:8080/"
        },
        "id": "Pf983PBDQouw",
        "outputId": "736f13ae-a6f0-49d0-f5f6-822a56c2f818"
      },
      "source": [
        "# converting date to hr (it gives 24 hr clocktime)\n",
        "df.Start_Time.dt.hour"
      ],
      "execution_count": null,
      "outputs": [
        {
          "output_type": "execute_result",
          "data": {
            "text/plain": [
              "0           8\n",
              "1          17\n",
              "2          21\n",
              "3          16\n",
              "4          17\n",
              "           ..\n",
              "2906605     8\n",
              "2906606     2\n",
              "2906607    12\n",
              "2906608    22\n",
              "2906609    13\n",
              "Name: Start_Time, Length: 2906610, dtype: int64"
            ]
          },
          "metadata": {
            "tags": []
          },
          "execution_count": 46
        }
      ]
    },
    {
      "cell_type": "code",
      "metadata": {
        "colab": {
          "base_uri": "https://localhost:8080/",
          "height": 297
        },
        "id": "6VivvUMyRX0j",
        "outputId": "e4120940-2a6b-4301-a382-03db3d27781b"
      },
      "source": [
        "sns.histplot(df.Start_Time.dt.hour)"
      ],
      "execution_count": null,
      "outputs": [
        {
          "output_type": "execute_result",
          "data": {
            "text/plain": [
              "<matplotlib.axes._subplots.AxesSubplot at 0x7fa98600ea50>"
            ]
          },
          "metadata": {
            "tags": []
          },
          "execution_count": 47
        },
        {
          "output_type": "display_data",
          "data": {
            "image/png": "[encoded data removed]",
            "text/plain": [
              "<Figure size 432x288 with 1 Axes>"
            ]
          },
          "metadata": {
            "tags": []
          }
        }
      ]
    },
    {
      "cell_type": "code",
      "metadata": {
        "colab": {
          "base_uri": "https://localhost:8080/",
          "height": 297
        },
        "id": "WbbB-FP7Rs2K",
        "outputId": "17d0f3ef-21f1-4aff-afd8-563a20bf41a0"
      },
      "source": [
        "sns.histplot(df.Start_Time.dt.hour,bins=24)"
      ],
      "execution_count": null,
      "outputs": [
        {
          "output_type": "execute_result",
          "data": {
            "text/plain": [
              "<matplotlib.axes._subplots.AxesSubplot at 0x7fa985dae290>"
            ]
          },
          "metadata": {
            "tags": []
          },
          "execution_count": 48
        },
        {
          "output_type": "display_data",
          "data": {
            "image/png": "[encoded data removed]",
            "text/plain": [
              "<Figure size 432x288 with 1 Axes>"
            ]
          },
          "metadata": {
            "tags": []
          }
        }
      ]
    },
    {
      "cell_type": "code",
      "metadata": {
        "colab": {
          "base_uri": "https://localhost:8080/",
          "height": 351
        },
        "id": "gGzB_WckScnJ",
        "outputId": "96f42cd3-b091-40c1-abe2-42eb6e97780e"
      },
      "source": [
        "# making y axis in percentage (no need of histplot)\n",
        "sns.distplot(df.Start_Time.dt.hour,bins=24,norm_hist=True)"
      ],
      "execution_count": null,
      "outputs": [
        {
          "output_type": "stream",
          "text": [
            "/usr/local/lib/python3.7/dist-packages/seaborn/distributions.py:2557: FutureWarning: `distplot` is a deprecated function and will be removed in a future version. Please adapt your code to use either `displot` (a figure-level function with similar flexibility) or `histplot` (an axes-level function for histograms).\n",
            "  warnings.warn(msg, FutureWarning)\n"
          ],
          "name": "stderr"
        },
        {
          "output_type": "execute_result",
          "data": {
            "text/plain": [
              "<matplotlib.axes._subplots.AxesSubplot at 0x7fa985cbc7d0>"
            ]
          },
          "metadata": {
            "tags": []
          },
          "execution_count": 49
        },
        {
          "output_type": "display_data",
          "data": {
            "image/png": "[encoded data removed]",
            "text/plain": [
              "<Figure size 432x288 with 1 Axes>"
            ]
          },
          "metadata": {
            "tags": []
          }
        }
      ]
    },
    {
      "cell_type": "code",
      "metadata": {
        "colab": {
          "base_uri": "https://localhost:8080/",
          "height": 351
        },
        "id": "SwGWCTRlTGB0",
        "outputId": "a7c7e13a-d71a-425b-be04-a952764fdc63"
      },
      "source": [
        "# removing kde\n",
        "sns.distplot(df.Start_Time.dt.hour,bins=24,norm_hist=True,kde=False)"
      ],
      "execution_count": null,
      "outputs": [
        {
          "output_type": "stream",
          "text": [
            "/usr/local/lib/python3.7/dist-packages/seaborn/distributions.py:2557: FutureWarning: `distplot` is a deprecated function and will be removed in a future version. Please adapt your code to use either `displot` (a figure-level function with similar flexibility) or `histplot` (an axes-level function for histograms).\n",
            "  warnings.warn(msg, FutureWarning)\n"
          ],
          "name": "stderr"
        },
        {
          "output_type": "execute_result",
          "data": {
            "text/plain": [
              "<matplotlib.axes._subplots.AxesSubplot at 0x7fa985c5b410>"
            ]
          },
          "metadata": {
            "tags": []
          },
          "execution_count": 50
        },
        {
          "output_type": "display_data",
          "data": {
            "image/png": "[encoded data removed]",
            "text/plain": [
              "<Figure size 432x288 with 1 Axes>"
            ]
          },
          "metadata": {
            "tags": []
          }
        }
      ]
    },
    {
      "cell_type": "markdown",
      "metadata": {
        "id": "fTzpjuVBTf6Z"
      },
      "source": [
        " Most Accidents happend between 6 to 10 AM & 3 to 6 PM"
      ]
    },
    {
      "cell_type": "code",
      "metadata": {
        "colab": {
          "base_uri": "https://localhost:8080/",
          "height": 351
        },
        "id": "L2kVWVAn30eq",
        "outputId": "4c863b30-161e-455e-c95f-db1ab27a1cc4"
      },
      "source": [
        "# Checking Day of the week\n",
        "sns.distplot(df.Start_Time.dt.dayofweek,bins=24,norm_hist=True,kde=False)"
      ],
      "execution_count": null,
      "outputs": [
        {
          "output_type": "stream",
          "text": [
            "/usr/local/lib/python3.7/dist-packages/seaborn/distributions.py:2557: FutureWarning: `distplot` is a deprecated function and will be removed in a future version. Please adapt your code to use either `displot` (a figure-level function with similar flexibility) or `histplot` (an axes-level function for histograms).\n",
            "  warnings.warn(msg, FutureWarning)\n"
          ],
          "name": "stderr"
        },
        {
          "output_type": "execute_result",
          "data": {
            "text/plain": [
              "<matplotlib.axes._subplots.AxesSubplot at 0x7fa986123050>"
            ]
          },
          "metadata": {
            "tags": []
          },
          "execution_count": 51
        },
        {
          "output_type": "display_data",
          "data": {
            "image/png": "[encoded data removed]",
            "text/plain": [
              "<Figure size 432x288 with 1 Axes>"
            ]
          },
          "metadata": {
            "tags": []
          }
        }
      ]
    },
    {
      "cell_type": "code",
      "metadata": {
        "colab": {
          "base_uri": "https://localhost:8080/",
          "height": 351
        },
        "id": "7S6ySdFf445g",
        "outputId": "c7e4795a-c64f-4443-a5b9-1bcffaf4b54c"
      },
      "source": [
        "# Checking Day of the week\n",
        "sns.distplot(df.Start_Time.dt.dayofweek,bins=7,norm_hist=True,kde=False)"
      ],
      "execution_count": null,
      "outputs": [
        {
          "output_type": "stream",
          "text": [
            "/usr/local/lib/python3.7/dist-packages/seaborn/distributions.py:2557: FutureWarning: `distplot` is a deprecated function and will be removed in a future version. Please adapt your code to use either `displot` (a figure-level function with similar flexibility) or `histplot` (an axes-level function for histograms).\n",
            "  warnings.warn(msg, FutureWarning)\n"
          ],
          "name": "stderr"
        },
        {
          "output_type": "execute_result",
          "data": {
            "text/plain": [
              "<matplotlib.axes._subplots.AxesSubplot at 0x7fa985ae04d0>"
            ]
          },
          "metadata": {
            "tags": []
          },
          "execution_count": 54
        },
        {
          "output_type": "display_data",
          "data": {
            "image/png": "[encoded data removed]",
            "text/plain": [
              "<Figure size 432x288 with 1 Axes>"
            ]
          },
          "metadata": {
            "tags": []
          }
        }
      ]
    },
    {
      "cell_type": "markdown",
      "metadata": {
        "id": "Q6UOKVa84nPi"
      },
      "source": [
        "On weekends the number of accidents are lower"
      ]
    },
    {
      "cell_type": "code",
      "metadata": {
        "colab": {
          "base_uri": "https://localhost:8080/"
        },
        "id": "xoUe71qa4czb",
        "outputId": "ef982c59-bfe5-4673-fd09-982e21d12809"
      },
      "source": [
        " df.Start_Time.dt.dayofweek==6"
      ],
      "execution_count": null,
      "outputs": [
        {
          "output_type": "execute_result",
          "data": {
            "text/plain": [
              "0          False\n",
              "1          False\n",
              "2           True\n",
              "3          False\n",
              "4          False\n",
              "           ...  \n",
              "2906605    False\n",
              "2906606    False\n",
              "2906607    False\n",
              "2906608     True\n",
              "2906609    False\n",
              "Name: Start_Time, Length: 2906610, dtype: bool"
            ]
          },
          "metadata": {
            "tags": []
          },
          "execution_count": 55
        }
      ]
    },
    {
      "cell_type": "code",
      "metadata": {
        "colab": {
          "base_uri": "https://localhost:8080/"
        },
        "id": "AYPttENl43-_",
        "outputId": "f6c11611-e451-4a00-ed05-53040206fe1f"
      },
      "source": [
        " # Checking distribution for Sudays\n",
        " df.Start_Time[df.Start_Time.dt.dayofweek==6]"
      ],
      "execution_count": null,
      "outputs": [
        {
          "output_type": "execute_result",
          "data": {
            "text/plain": [
              "2         2020-12-13 21:53:00\n",
              "45        2019-12-15 13:47:00\n",
              "79        2019-06-30 10:21:30\n",
              "81        2017-05-07 15:44:45\n",
              "85        2020-10-18 10:26:01\n",
              "                  ...        \n",
              "2906556   2018-10-28 18:54:02\n",
              "2906570   2019-12-15 20:29:30\n",
              "2906579   2019-09-29 22:46:00\n",
              "2906582   2020-05-03 14:50:00\n",
              "2906608   2019-12-29 22:38:00\n",
              "Name: Start_Time, Length: 191547, dtype: datetime64[ns]"
            ]
          },
          "metadata": {
            "tags": []
          },
          "execution_count": 56
        }
      ]
    },
    {
      "cell_type": "code",
      "metadata": {
        "colab": {
          "base_uri": "https://localhost:8080/"
        },
        "id": "FCOeAAi87YLI",
        "outputId": "53c54f1e-40a1-4d6d-9207-33844016b856"
      },
      "source": [
        " df.Start_Time[df.Start_Time.dt.dayofweek==6].dt.hour"
      ],
      "execution_count": null,
      "outputs": [
        {
          "output_type": "execute_result",
          "data": {
            "text/plain": [
              "2          21\n",
              "45         13\n",
              "79         10\n",
              "81         15\n",
              "85         10\n",
              "           ..\n",
              "2906556    18\n",
              "2906570    20\n",
              "2906579    22\n",
              "2906582    14\n",
              "2906608    22\n",
              "Name: Start_Time, Length: 191547, dtype: int64"
            ]
          },
          "metadata": {
            "tags": []
          },
          "execution_count": 58
        }
      ]
    },
    {
      "cell_type": "code",
      "metadata": {
        "colab": {
          "base_uri": "https://localhost:8080/",
          "height": 351
        },
        "id": "TroKxvF48GHv",
        "outputId": "617ce782-6322-4626-aca9-7cfae737a130"
      },
      "source": [
        "sns.distplot(df.Start_Time[df.Start_Time.dt.dayofweek==6].dt.hour,bins=24,norm_hist=True,kde=False)"
      ],
      "execution_count": null,
      "outputs": [
        {
          "output_type": "stream",
          "text": [
            "/usr/local/lib/python3.7/dist-packages/seaborn/distributions.py:2557: FutureWarning: `distplot` is a deprecated function and will be removed in a future version. Please adapt your code to use either `displot` (a figure-level function with similar flexibility) or `histplot` (an axes-level function for histograms).\n",
            "  warnings.warn(msg, FutureWarning)\n"
          ],
          "name": "stderr"
        },
        {
          "output_type": "execute_result",
          "data": {
            "text/plain": [
              "<matplotlib.axes._subplots.AxesSubplot at 0x7fa9813f15d0>"
            ]
          },
          "metadata": {
            "tags": []
          },
          "execution_count": 59
        },
        {
          "output_type": "display_data",
          "data": {
            "image/png": "[encoded data removed]",
            "text/plain": [
              "<Figure size 432x288 with 1 Axes>"
            ]
          },
          "metadata": {
            "tags": []
          }
        }
      ]
    },
    {
      "cell_type": "code",
      "metadata": {
        "colab": {
          "base_uri": "https://localhost:8080/"
        },
        "id": "TDfwabnI91ek",
        "outputId": "0d2d0218-2e1a-4f16-9dd3-14076fb740ee"
      },
      "source": [
        "# Checking for weekends\n",
        "df.Start_Time[(df.Start_Time.dt.dayofweek==6 ) |(df.Start_Time.dt.dayofweek==5 )].dt.hour"
      ],
      "execution_count": null,
      "outputs": [
        {
          "output_type": "execute_result",
          "data": {
            "text/plain": [
              "2          21\n",
              "7          23\n",
              "16         14\n",
              "17         16\n",
              "19         14\n",
              "           ..\n",
              "2906579    22\n",
              "2906582    14\n",
              "2906585    16\n",
              "2906602     3\n",
              "2906608    22\n",
              "Name: Start_Time, Length: 407338, dtype: int64"
            ]
          },
          "metadata": {
            "tags": []
          },
          "execution_count": 62
        }
      ]
    },
    {
      "cell_type": "code",
      "metadata": {
        "colab": {
          "base_uri": "https://localhost:8080/",
          "height": 351
        },
        "id": "aDL2WaTA-Vrk",
        "outputId": "d40e64c7-c6a9-456f-ce0d-e3bf89574388"
      },
      "source": [
        "# Checking weekend distibution\n",
        "sns.distplot(df.Start_Time[(df.Start_Time.dt.dayofweek==6 ) |(df.Start_Time.dt.dayofweek==5 )].dt.hour,bins=24,norm_hist=True,kde=False)"
      ],
      "execution_count": null,
      "outputs": [
        {
          "output_type": "stream",
          "text": [
            "/usr/local/lib/python3.7/dist-packages/seaborn/distributions.py:2557: FutureWarning: `distplot` is a deprecated function and will be removed in a future version. Please adapt your code to use either `displot` (a figure-level function with similar flexibility) or `histplot` (an axes-level function for histograms).\n",
            "  warnings.warn(msg, FutureWarning)\n"
          ],
          "name": "stderr"
        },
        {
          "output_type": "execute_result",
          "data": {
            "text/plain": [
              "<matplotlib.axes._subplots.AxesSubplot at 0x7fa9810fae10>"
            ]
          },
          "metadata": {
            "tags": []
          },
          "execution_count": 64
        },
        {
          "output_type": "display_data",
          "data": {
            "image/png": "[encoded data removed]",
            "text/plain": [
              "<Figure size 432x288 with 1 Axes>"
            ]
          },
          "metadata": {
            "tags": []
          }
        }
      ]
    },
    {
      "cell_type": "markdown",
      "metadata": {
        "id": "TLeEYeYV8clv"
      },
      "source": [
        "During sunday most accidents are happend at afternoon between 10 AM To 6 PM unlike weekdays"
      ]
    },
    {
      "cell_type": "code",
      "metadata": {
        "colab": {
          "base_uri": "https://localhost:8080/",
          "height": 351
        },
        "id": "jM2VStY-_4-j",
        "outputId": "bce44ef9-2757-4b15-b4cf-5d0214e322b3"
      },
      "source": [
        "# Checking Monthly distibution\n",
        "sns.distplot(df.Start_Time[(df.Start_Time.dt.dayofweek==6 ) |(df.Start_Time.dt.dayofweek==5 )].dt.month,bins=12,norm_hist=True,kde=False)"
      ],
      "execution_count": null,
      "outputs": [
        {
          "output_type": "stream",
          "text": [
            "/usr/local/lib/python3.7/dist-packages/seaborn/distributions.py:2557: FutureWarning: `distplot` is a deprecated function and will be removed in a future version. Please adapt your code to use either `displot` (a figure-level function with similar flexibility) or `histplot` (an axes-level function for histograms).\n",
            "  warnings.warn(msg, FutureWarning)\n"
          ],
          "name": "stderr"
        },
        {
          "output_type": "execute_result",
          "data": {
            "text/plain": [
              "<matplotlib.axes._subplots.AxesSubplot at 0x7fa98107e790>"
            ]
          },
          "metadata": {
            "tags": []
          },
          "execution_count": 65
        },
        {
          "output_type": "display_data",
          "data": {
            "image/png": "[encoded data removed]",
            "text/plain": [
              "<Figure size 432x288 with 1 Axes>"
            ]
          },
          "metadata": {
            "tags": []
          }
        }
      ]
    },
    {
      "cell_type": "markdown",
      "metadata": {
        "id": "eEYWcNxBAV1H"
      },
      "source": [
        "Towords the  end of the year more accidents are happend"
      ]
    },
    {
      "cell_type": "code",
      "metadata": {
        "colab": {
          "base_uri": "https://localhost:8080/"
        },
        "id": "HQc7_WOgBOW8",
        "outputId": "9db7e84a-1bf7-4115-8f27-12b728cc4828"
      },
      "source": [
        "df.Start_Time.dt.year"
      ],
      "execution_count": null,
      "outputs": [
        {
          "output_type": "execute_result",
          "data": {
            "text/plain": [
              "0          2019\n",
              "1          2019\n",
              "2          2020\n",
              "3          2018\n",
              "4          2016\n",
              "           ... \n",
              "2906605    2018\n",
              "2906606    2019\n",
              "2906607    2020\n",
              "2906608    2019\n",
              "2906609    2018\n",
              "Name: Start_Time, Length: 2906610, dtype: int64"
            ]
          },
          "metadata": {
            "tags": []
          },
          "execution_count": 66
        }
      ]
    },
    {
      "cell_type": "code",
      "metadata": {
        "colab": {
          "base_uri": "https://localhost:8080/"
        },
        "id": "coGPO38ACHIq",
        "outputId": "e412a7e3-496a-4f84-df00-b200f07c1c4d"
      },
      "source": [
        "df.Start_Time[df.Start_Time.dt.year==2016]"
      ],
      "execution_count": null,
      "outputs": [
        {
          "output_type": "execute_result",
          "data": {
            "text/plain": [
              "4         2016-08-31 17:40:49\n",
              "16        2016-07-09 14:54:01\n",
              "35        2016-07-08 12:38:55\n",
              "43        2016-12-29 07:35:34\n",
              "57        2016-05-20 17:23:00\n",
              "                  ...        \n",
              "2906523   2016-10-14 00:04:41\n",
              "2906525   2016-12-18 13:34:26\n",
              "2906572   2016-08-31 03:48:54\n",
              "2906575   2016-12-09 11:28:52\n",
              "2906603   2016-12-19 06:34:56\n",
              "Name: Start_Time, Length: 270881, dtype: datetime64[ns]"
            ]
          },
          "metadata": {
            "tags": []
          },
          "execution_count": 68
        }
      ]
    },
    {
      "cell_type": "code",
      "metadata": {
        "colab": {
          "base_uri": "https://localhost:8080/"
        },
        "id": "jZ6Cyc63CfJZ",
        "outputId": "369be04a-c5d6-4051-f29a-75b59cfeb438"
      },
      "source": [
        "df.Start_Time[df.Start_Time.dt.year==2016].dt.month"
      ],
      "execution_count": null,
      "outputs": [
        {
          "output_type": "execute_result",
          "data": {
            "text/plain": [
              "4           8\n",
              "16          7\n",
              "35          7\n",
              "43         12\n",
              "57          5\n",
              "           ..\n",
              "2906523    10\n",
              "2906525    12\n",
              "2906572     8\n",
              "2906575    12\n",
              "2906603    12\n",
              "Name: Start_Time, Length: 270881, dtype: int64"
            ]
          },
          "metadata": {
            "tags": []
          },
          "execution_count": 69
        }
      ]
    },
    {
      "cell_type": "code",
      "metadata": {
        "colab": {
          "base_uri": "https://localhost:8080/",
          "height": 351
        },
        "id": "6Rro9JPkC1QU",
        "outputId": "7dfc9c7e-0507-47c4-a7d3-368d46a8346d"
      },
      "source": [
        "sns.distplot(df.Start_Time[df.Start_Time.dt.year==2016].dt.month,bins=24,norm_hist=True,kde=False)"
      ],
      "execution_count": null,
      "outputs": [
        {
          "output_type": "stream",
          "text": [
            "/usr/local/lib/python3.7/dist-packages/seaborn/distributions.py:2557: FutureWarning: `distplot` is a deprecated function and will be removed in a future version. Please adapt your code to use either `displot` (a figure-level function with similar flexibility) or `histplot` (an axes-level function for histograms).\n",
            "  warnings.warn(msg, FutureWarning)\n"
          ],
          "name": "stderr"
        },
        {
          "output_type": "execute_result",
          "data": {
            "text/plain": [
              "<matplotlib.axes._subplots.AxesSubplot at 0x7fa980e63050>"
            ]
          },
          "metadata": {
            "tags": []
          },
          "execution_count": 72
        },
        {
          "output_type": "display_data",
          "data": {
            "image/png": "[encoded data removed]",
            "text/plain": [
              "<Figure size 432x288 with 1 Axes>"
            ]
          },
          "metadata": {
            "tags": []
          }
        }
      ]
    },
    {
      "cell_type": "code",
      "metadata": {
        "colab": {
          "base_uri": "https://localhost:8080/",
          "height": 351
        },
        "id": "BQ-Sms40DLGe",
        "outputId": "87fdccd6-46d6-419a-ff38-c4cdcdf45881"
      },
      "source": [
        "sns.distplot(df.Start_Time[df.Start_Time.dt.year==2016].dt.month,bins=12,norm_hist=True,kde=False)"
      ],
      "execution_count": null,
      "outputs": [
        {
          "output_type": "stream",
          "text": [
            "/usr/local/lib/python3.7/dist-packages/seaborn/distributions.py:2557: FutureWarning: `distplot` is a deprecated function and will be removed in a future version. Please adapt your code to use either `displot` (a figure-level function with similar flexibility) or `histplot` (an axes-level function for histograms).\n",
            "  warnings.warn(msg, FutureWarning)\n"
          ],
          "name": "stderr"
        },
        {
          "output_type": "execute_result",
          "data": {
            "text/plain": [
              "<matplotlib.axes._subplots.AxesSubplot at 0x7fa980da0290>"
            ]
          },
          "metadata": {
            "tags": []
          },
          "execution_count": 73
        },
        {
          "output_type": "display_data",
          "data": {
            "image/png": "[encoded data removed]",
            "text/plain": [
              "<Figure size 432x288 with 1 Axes>"
            ]
          },
          "metadata": {
            "tags": []
          }
        }
      ]
    },
    {
      "cell_type": "markdown",
      "metadata": {
        "id": "R5DLyi9ZDR2M"
      },
      "source": [
        "Some of the data is missing for the year 2016"
      ]
    },
    {
      "cell_type": "code",
      "metadata": {
        "colab": {
          "base_uri": "https://localhost:8080/",
          "height": 351
        },
        "id": "gksoK2H1Dr6w",
        "outputId": "aed92188-3eb1-41de-bc48-20dd622d97cd"
      },
      "source": [
        "sns.distplot(df.Start_Time[df.Start_Time.dt.year==2017].dt.month,bins=12,norm_hist=True,kde=False)"
      ],
      "execution_count": null,
      "outputs": [
        {
          "output_type": "stream",
          "text": [
            "/usr/local/lib/python3.7/dist-packages/seaborn/distributions.py:2557: FutureWarning: `distplot` is a deprecated function and will be removed in a future version. Please adapt your code to use either `displot` (a figure-level function with similar flexibility) or `histplot` (an axes-level function for histograms).\n",
            "  warnings.warn(msg, FutureWarning)\n"
          ],
          "name": "stderr"
        },
        {
          "output_type": "execute_result",
          "data": {
            "text/plain": [
              "<matplotlib.axes._subplots.AxesSubplot at 0x7fa980d39d50>"
            ]
          },
          "metadata": {
            "tags": []
          },
          "execution_count": 74
        },
        {
          "output_type": "display_data",
          "data": {
            "image/png": "[encoded data removed]",
            "text/plain": [
              "<Figure size 432x288 with 1 Axes>"
            ]
          },
          "metadata": {
            "tags": []
          }
        }
      ]
    },
    {
      "cell_type": "code",
      "metadata": {
        "colab": {
          "base_uri": "https://localhost:8080/"
        },
        "id": "sLKjqO0kFGO0",
        "outputId": "dcd2eedb-c0d0-4526-a63a-7ffdd00d8a7c"
      },
      "source": [
        "df.columns"
      ],
      "execution_count": null,
      "outputs": [
        {
          "output_type": "execute_result",
          "data": {
            "text/plain": [
              "Index(['ID', 'Severity', 'Start_Time', 'End_Time', 'Start_Lat', 'Start_Lng',\n",
              "       'End_Lat', 'End_Lng', 'Distance(mi)', 'Description', 'Number', 'Street',\n",
              "       'Side', 'City', 'County', 'State', 'Zipcode', 'Country', 'Timezone',\n",
              "       'Airport_Code', 'Weather_Timestamp', 'Temperature(F)', 'Wind_Chill(F)',\n",
              "       'Humidity(%)', 'Pressure(in)', 'Visibility(mi)', 'Wind_Direction',\n",
              "       'Wind_Speed(mph)', 'Precipitation(in)', 'Weather_Condition', 'Amenity',\n",
              "       'Bump', 'Crossing', 'Give_Way', 'Junction', 'No_Exit', 'Railway',\n",
              "       'Roundabout', 'Station', 'Stop', 'Traffic_Calming', 'Traffic_Signal',\n",
              "       'Turning_Loop', 'Sunrise_Sunset', 'Civil_Twilight', 'Nautical_Twilight',\n",
              "       'Astronomical_Twilight'],\n",
              "      dtype='object')"
            ]
          },
          "metadata": {
            "tags": []
          },
          "execution_count": 76
        }
      ]
    },
    {
      "cell_type": "markdown",
      "metadata": {
        "id": "jc_gvYu6GIrw"
      },
      "source": [
        "# Start_Lat & Start_Lng"
      ]
    },
    {
      "cell_type": "code",
      "metadata": {
        "colab": {
          "base_uri": "https://localhost:8080/",
          "height": 299
        },
        "id": "0tWA6VAUGWJn",
        "outputId": "7bf2333c-e589-45dd-b0fc-5422ad3dbf4f"
      },
      "source": [
        "# Scatterplot\n",
        "sns.scatterplot(x=df.Start_Lng,y=df.Start_Lat)"
      ],
      "execution_count": null,
      "outputs": [
        {
          "output_type": "execute_result",
          "data": {
            "text/plain": [
              "<matplotlib.axes._subplots.AxesSubplot at 0x7fa980a35410>"
            ]
          },
          "metadata": {
            "tags": []
          },
          "execution_count": 77
        },
        {
          "output_type": "display_data",
          "data": {
            "image/png": "[encoded data removed]",
            "text/plain": [
              "<Figure size 432x288 with 1 Axes>"
            ]
          },
          "metadata": {
            "tags": []
          }
        }
      ]
    },
    {
      "cell_type": "code",
      "metadata": {
        "colab": {
          "base_uri": "https://localhost:8080/",
          "height": 1000
        },
        "id": "JMnoMS9nH_gI",
        "outputId": "b6c4cf3f-74c5-4229-c405-073a0d7cd626"
      },
      "source": [
        "# lets reduce the sample points to 0.1 percent of df\n",
        "df.sample(int(0.1*len(df)))"
      ],
      "execution_count": null,
      "outputs": [
        {
          "output_type": "execute_result",
          "data": {
            "text/html": [
              "<div>\n",
              "<style scoped>\n",
              "    .dataframe tbody tr th:only-of-type {\n",
              "        vertical-align: middle;\n",
              "    }\n",
              "\n",
              "    .dataframe tbody tr th {\n",
              "        vertical-align: top;\n",
              "    }\n",
              "\n",
              "    .dataframe thead th {\n",
              "        text-align: right;\n",
              "    }\n",
              "</style>\n",
              "<table border=\"1\" class=\"dataframe\">\n",
              "  <thead>\n",
              "    <tr style=\"text-align: right;\">\n",
              "      <th></th>\n",
              "      <th>ID</th>\n",
              "      <th>Severity</th>\n",
              "      <th>Start_Time</th>\n",
              "      <th>End_Time</th>\n",
              "      <th>Start_Lat</th>\n",
              "      <th>Start_Lng</th>\n",
              "      <th>End_Lat</th>\n",
              "      <th>End_Lng</th>\n",
              "      <th>Distance(mi)</th>\n",
              "      <th>Description</th>\n",
              "      <th>Number</th>\n",
              "      <th>Street</th>\n",
              "      <th>Side</th>\n",
              "      <th>City</th>\n",
              "      <th>County</th>\n",
              "      <th>State</th>\n",
              "      <th>Zipcode</th>\n",
              "      <th>Country</th>\n",
              "      <th>Timezone</th>\n",
              "      <th>Airport_Code</th>\n",
              "      <th>Weather_Timestamp</th>\n",
              "      <th>Temperature(F)</th>\n",
              "      <th>Wind_Chill(F)</th>\n",
              "      <th>Humidity(%)</th>\n",
              "      <th>Pressure(in)</th>\n",
              "      <th>Visibility(mi)</th>\n",
              "      <th>Wind_Direction</th>\n",
              "      <th>Wind_Speed(mph)</th>\n",
              "      <th>Precipitation(in)</th>\n",
              "      <th>Weather_Condition</th>\n",
              "      <th>Amenity</th>\n",
              "      <th>Bump</th>\n",
              "      <th>Crossing</th>\n",
              "      <th>Give_Way</th>\n",
              "      <th>Junction</th>\n",
              "      <th>No_Exit</th>\n",
              "      <th>Railway</th>\n",
              "      <th>Roundabout</th>\n",
              "      <th>Station</th>\n",
              "      <th>Stop</th>\n",
              "      <th>Traffic_Calming</th>\n",
              "      <th>Traffic_Signal</th>\n",
              "      <th>Turning_Loop</th>\n",
              "      <th>Sunrise_Sunset</th>\n",
              "      <th>Civil_Twilight</th>\n",
              "      <th>Nautical_Twilight</th>\n",
              "      <th>Astronomical_Twilight</th>\n",
              "    </tr>\n",
              "  </thead>\n",
              "  <tbody>\n",
              "    <tr>\n",
              "      <th>93143</th>\n",
              "      <td>A-93144</td>\n",
              "      <td>2</td>\n",
              "      <td>2020-09-18 20:13:00</td>\n",
              "      <td>2020-09-18 23:08:46</td>\n",
              "      <td>28.278797</td>\n",
              "      <td>-81.343427</td>\n",
              "      <td>28.278807</td>\n",
              "      <td>-81.343147</td>\n",
              "      <td>0.017</td>\n",
              "      <td>Incident on PARTIN SETTLEMENT RD near E IRLO B...</td>\n",
              "      <td>2478.0</td>\n",
              "      <td>E Irlo Bronson Memorial Hwy</td>\n",
              "      <td>R</td>\n",
              "      <td>Kissimmee</td>\n",
              "      <td>Osceola</td>\n",
              "      <td>FL</td>\n",
              "      <td>34744</td>\n",
              "      <td>US</td>\n",
              "      <td>US/Eastern</td>\n",
              "      <td>KISM</td>\n",
              "      <td>2020-09-18 19:56:00</td>\n",
              "      <td>84.0</td>\n",
              "      <td>84.0</td>\n",
              "      <td>72.0</td>\n",
              "      <td>29.80</td>\n",
              "      <td>10.0</td>\n",
              "      <td>WNW</td>\n",
              "      <td>7.0</td>\n",
              "      <td>0.0</td>\n",
              "      <td>Fair</td>\n",
              "      <td>False</td>\n",
              "      <td>False</td>\n",
              "      <td>True</td>\n",
              "      <td>False</td>\n",
              "      <td>False</td>\n",
              "      <td>False</td>\n",
              "      <td>False</td>\n",
              "      <td>False</td>\n",
              "      <td>False</td>\n",
              "      <td>False</td>\n",
              "      <td>False</td>\n",
              "      <td>True</td>\n",
              "      <td>False</td>\n",
              "      <td>Night</td>\n",
              "      <td>Night</td>\n",
              "      <td>Day</td>\n",
              "      <td>Day</td>\n",
              "    </tr>\n",
              "    <tr>\n",
              "      <th>1459023</th>\n",
              "      <td>A-1459024</td>\n",
              "      <td>3</td>\n",
              "      <td>2018-04-08 14:09:29</td>\n",
              "      <td>2018-04-08 14:54:09</td>\n",
              "      <td>42.344700</td>\n",
              "      <td>-83.043938</td>\n",
              "      <td>42.344700</td>\n",
              "      <td>-83.043938</td>\n",
              "      <td>0.000</td>\n",
              "      <td>Left hand shoulder blocked due to accident on ...</td>\n",
              "      <td>NaN</td>\n",
              "      <td>I-75 N</td>\n",
              "      <td>R</td>\n",
              "      <td>Detroit</td>\n",
              "      <td>Wayne</td>\n",
              "      <td>MI</td>\n",
              "      <td>48207</td>\n",
              "      <td>US</td>\n",
              "      <td>US/Eastern</td>\n",
              "      <td>KDET</td>\n",
              "      <td>2018-04-08 13:53:00</td>\n",
              "      <td>36.0</td>\n",
              "      <td>32.1</td>\n",
              "      <td>36.0</td>\n",
              "      <td>30.10</td>\n",
              "      <td>10.0</td>\n",
              "      <td>West</td>\n",
              "      <td>4.6</td>\n",
              "      <td>NaN</td>\n",
              "      <td>Mostly Cloudy</td>\n",
              "      <td>False</td>\n",
              "      <td>False</td>\n",
              "      <td>False</td>\n",
              "      <td>False</td>\n",
              "      <td>False</td>\n",
              "      <td>False</td>\n",
              "      <td>False</td>\n",
              "      <td>False</td>\n",
              "      <td>False</td>\n",
              "      <td>False</td>\n",
              "      <td>False</td>\n",
              "      <td>False</td>\n",
              "      <td>False</td>\n",
              "      <td>Day</td>\n",
              "      <td>Day</td>\n",
              "      <td>Day</td>\n",
              "      <td>Day</td>\n",
              "    </tr>\n",
              "    <tr>\n",
              "      <th>228334</th>\n",
              "      <td>A-228335</td>\n",
              "      <td>2</td>\n",
              "      <td>2019-12-06 17:41:00</td>\n",
              "      <td>2019-12-06 19:32:24</td>\n",
              "      <td>33.846720</td>\n",
              "      <td>-118.223739</td>\n",
              "      <td>33.846720</td>\n",
              "      <td>-118.223739</td>\n",
              "      <td>0.000</td>\n",
              "      <td>At S Wilmington Ave - Accident.</td>\n",
              "      <td>NaN</td>\n",
              "      <td>S Fordyce Ave</td>\n",
              "      <td>R</td>\n",
              "      <td>Compton</td>\n",
              "      <td>Los Angeles</td>\n",
              "      <td>CA</td>\n",
              "      <td>90220</td>\n",
              "      <td>US</td>\n",
              "      <td>US/Pacific</td>\n",
              "      <td>KHHR</td>\n",
              "      <td>2019-12-06 17:53:00</td>\n",
              "      <td>60.0</td>\n",
              "      <td>60.0</td>\n",
              "      <td>75.0</td>\n",
              "      <td>30.08</td>\n",
              "      <td>10.0</td>\n",
              "      <td>W</td>\n",
              "      <td>3.0</td>\n",
              "      <td>0.0</td>\n",
              "      <td>Cloudy</td>\n",
              "      <td>False</td>\n",
              "      <td>False</td>\n",
              "      <td>False</td>\n",
              "      <td>False</td>\n",
              "      <td>False</td>\n",
              "      <td>False</td>\n",
              "      <td>False</td>\n",
              "      <td>False</td>\n",
              "      <td>True</td>\n",
              "      <td>False</td>\n",
              "      <td>False</td>\n",
              "      <td>True</td>\n",
              "      <td>False</td>\n",
              "      <td>Night</td>\n",
              "      <td>Night</td>\n",
              "      <td>Day</td>\n",
              "      <td>Day</td>\n",
              "    </tr>\n",
              "    <tr>\n",
              "      <th>1148795</th>\n",
              "      <td>A-1148796</td>\n",
              "      <td>2</td>\n",
              "      <td>2017-06-08 05:49:55</td>\n",
              "      <td>2017-06-08 11:49:55</td>\n",
              "      <td>35.757800</td>\n",
              "      <td>-78.607850</td>\n",
              "      <td>35.756510</td>\n",
              "      <td>-78.618400</td>\n",
              "      <td>0.598</td>\n",
              "      <td>At Rock Quarry Rd/Exit 300 - Accident.</td>\n",
              "      <td>NaN</td>\n",
              "      <td>I-40 W</td>\n",
              "      <td>R</td>\n",
              "      <td>Raleigh</td>\n",
              "      <td>Wake</td>\n",
              "      <td>NC</td>\n",
              "      <td>27610</td>\n",
              "      <td>US</td>\n",
              "      <td>US/Eastern</td>\n",
              "      <td>KRDU</td>\n",
              "      <td>2017-06-08 05:51:00</td>\n",
              "      <td>55.9</td>\n",
              "      <td>NaN</td>\n",
              "      <td>87.0</td>\n",
              "      <td>29.94</td>\n",
              "      <td>10.0</td>\n",
              "      <td>NNE</td>\n",
              "      <td>9.2</td>\n",
              "      <td>NaN</td>\n",
              "      <td>Mostly Cloudy</td>\n",
              "      <td>False</td>\n",
              "      <td>False</td>\n",
              "      <td>False</td>\n",
              "      <td>False</td>\n",
              "      <td>True</td>\n",
              "      <td>False</td>\n",
              "      <td>False</td>\n",
              "      <td>False</td>\n",
              "      <td>False</td>\n",
              "      <td>False</td>\n",
              "      <td>False</td>\n",
              "      <td>False</td>\n",
              "      <td>False</td>\n",
              "      <td>Night</td>\n",
              "      <td>Day</td>\n",
              "      <td>Day</td>\n",
              "      <td>Day</td>\n",
              "    </tr>\n",
              "    <tr>\n",
              "      <th>1833714</th>\n",
              "      <td>A-1833715</td>\n",
              "      <td>2</td>\n",
              "      <td>2020-12-23 21:41:38</td>\n",
              "      <td>2020-12-23 23:11:20</td>\n",
              "      <td>35.236022</td>\n",
              "      <td>-80.839267</td>\n",
              "      <td>35.236227</td>\n",
              "      <td>-80.839479</td>\n",
              "      <td>0.019</td>\n",
              "      <td>Incident on W BROOKSHIRE FWY near N GRAHAM ST ...</td>\n",
              "      <td>NaN</td>\n",
              "      <td>Brookshire Fwy W</td>\n",
              "      <td>R</td>\n",
              "      <td>Charlotte</td>\n",
              "      <td>Mecklenburg</td>\n",
              "      <td>NC</td>\n",
              "      <td>28206</td>\n",
              "      <td>US</td>\n",
              "      <td>US/Eastern</td>\n",
              "      <td>KCLT</td>\n",
              "      <td>2020-12-23 21:52:00</td>\n",
              "      <td>54.0</td>\n",
              "      <td>54.0</td>\n",
              "      <td>59.0</td>\n",
              "      <td>29.38</td>\n",
              "      <td>10.0</td>\n",
              "      <td>ESE</td>\n",
              "      <td>6.0</td>\n",
              "      <td>0.0</td>\n",
              "      <td>Cloudy</td>\n",
              "      <td>False</td>\n",
              "      <td>False</td>\n",
              "      <td>False</td>\n",
              "      <td>False</td>\n",
              "      <td>False</td>\n",
              "      <td>False</td>\n",
              "      <td>False</td>\n",
              "      <td>False</td>\n",
              "      <td>False</td>\n",
              "      <td>False</td>\n",
              "      <td>False</td>\n",
              "      <td>False</td>\n",
              "      <td>False</td>\n",
              "      <td>Night</td>\n",
              "      <td>Night</td>\n",
              "      <td>Night</td>\n",
              "      <td>Night</td>\n",
              "    </tr>\n",
              "    <tr>\n",
              "      <th>...</th>\n",
              "      <td>...</td>\n",
              "      <td>...</td>\n",
              "      <td>...</td>\n",
              "      <td>...</td>\n",
              "      <td>...</td>\n",
              "      <td>...</td>\n",
              "      <td>...</td>\n",
              "      <td>...</td>\n",
              "      <td>...</td>\n",
              "      <td>...</td>\n",
              "      <td>...</td>\n",
              "      <td>...</td>\n",
              "      <td>...</td>\n",
              "      <td>...</td>\n",
              "      <td>...</td>\n",
              "      <td>...</td>\n",
              "      <td>...</td>\n",
              "      <td>...</td>\n",
              "      <td>...</td>\n",
              "      <td>...</td>\n",
              "      <td>...</td>\n",
              "      <td>...</td>\n",
              "      <td>...</td>\n",
              "      <td>...</td>\n",
              "      <td>...</td>\n",
              "      <td>...</td>\n",
              "      <td>...</td>\n",
              "      <td>...</td>\n",
              "      <td>...</td>\n",
              "      <td>...</td>\n",
              "      <td>...</td>\n",
              "      <td>...</td>\n",
              "      <td>...</td>\n",
              "      <td>...</td>\n",
              "      <td>...</td>\n",
              "      <td>...</td>\n",
              "      <td>...</td>\n",
              "      <td>...</td>\n",
              "      <td>...</td>\n",
              "      <td>...</td>\n",
              "      <td>...</td>\n",
              "      <td>...</td>\n",
              "      <td>...</td>\n",
              "      <td>...</td>\n",
              "      <td>...</td>\n",
              "      <td>...</td>\n",
              "      <td>...</td>\n",
              "    </tr>\n",
              "    <tr>\n",
              "      <th>1735609</th>\n",
              "      <td>A-1735610</td>\n",
              "      <td>2</td>\n",
              "      <td>2020-12-01 23:41:29</td>\n",
              "      <td>2020-12-02 04:26:29</td>\n",
              "      <td>39.835256</td>\n",
              "      <td>-84.819313</td>\n",
              "      <td>39.832956</td>\n",
              "      <td>-84.816883</td>\n",
              "      <td>0.205</td>\n",
              "      <td>Incident on I-70 EB near US-40 Road closed. Ta...</td>\n",
              "      <td>NaN</td>\n",
              "      <td>I-70 E</td>\n",
              "      <td>R</td>\n",
              "      <td>Richmond</td>\n",
              "      <td>Wayne</td>\n",
              "      <td>IN</td>\n",
              "      <td>47374</td>\n",
              "      <td>US</td>\n",
              "      <td>US/Eastern</td>\n",
              "      <td>KVES</td>\n",
              "      <td>2020-12-01 23:35:00</td>\n",
              "      <td>30.0</td>\n",
              "      <td>20.0</td>\n",
              "      <td>86.0</td>\n",
              "      <td>29.02</td>\n",
              "      <td>10.0</td>\n",
              "      <td>W</td>\n",
              "      <td>13.0</td>\n",
              "      <td>0.0</td>\n",
              "      <td>Fair</td>\n",
              "      <td>False</td>\n",
              "      <td>False</td>\n",
              "      <td>False</td>\n",
              "      <td>False</td>\n",
              "      <td>True</td>\n",
              "      <td>False</td>\n",
              "      <td>False</td>\n",
              "      <td>False</td>\n",
              "      <td>False</td>\n",
              "      <td>False</td>\n",
              "      <td>False</td>\n",
              "      <td>False</td>\n",
              "      <td>False</td>\n",
              "      <td>Night</td>\n",
              "      <td>Night</td>\n",
              "      <td>Night</td>\n",
              "      <td>Night</td>\n",
              "    </tr>\n",
              "    <tr>\n",
              "      <th>2541929</th>\n",
              "      <td>A-2541930</td>\n",
              "      <td>2</td>\n",
              "      <td>2017-09-27 12:15:56</td>\n",
              "      <td>2017-09-27 12:45:43</td>\n",
              "      <td>43.200211</td>\n",
              "      <td>-77.498383</td>\n",
              "      <td>43.200211</td>\n",
              "      <td>-77.498383</td>\n",
              "      <td>0.000</td>\n",
              "      <td>Accident on NY-404 Empire Blvd both ways at Gr...</td>\n",
              "      <td>2152.0</td>\n",
              "      <td>Empire Blvd</td>\n",
              "      <td>R</td>\n",
              "      <td>Webster</td>\n",
              "      <td>Monroe</td>\n",
              "      <td>NY</td>\n",
              "      <td>14580-2028</td>\n",
              "      <td>US</td>\n",
              "      <td>US/Eastern</td>\n",
              "      <td>KROC</td>\n",
              "      <td>2017-09-27 11:54:00</td>\n",
              "      <td>86.0</td>\n",
              "      <td>NaN</td>\n",
              "      <td>53.0</td>\n",
              "      <td>29.86</td>\n",
              "      <td>10.0</td>\n",
              "      <td>SW</td>\n",
              "      <td>10.4</td>\n",
              "      <td>NaN</td>\n",
              "      <td>Partly Cloudy</td>\n",
              "      <td>False</td>\n",
              "      <td>False</td>\n",
              "      <td>False</td>\n",
              "      <td>False</td>\n",
              "      <td>False</td>\n",
              "      <td>False</td>\n",
              "      <td>False</td>\n",
              "      <td>False</td>\n",
              "      <td>False</td>\n",
              "      <td>False</td>\n",
              "      <td>False</td>\n",
              "      <td>False</td>\n",
              "      <td>False</td>\n",
              "      <td>Day</td>\n",
              "      <td>Day</td>\n",
              "      <td>Day</td>\n",
              "      <td>Day</td>\n",
              "    </tr>\n",
              "    <tr>\n",
              "      <th>2406136</th>\n",
              "      <td>A-2406137</td>\n",
              "      <td>2</td>\n",
              "      <td>2016-09-06 18:25:34</td>\n",
              "      <td>2016-09-06 19:10:34</td>\n",
              "      <td>33.884968</td>\n",
              "      <td>-117.521301</td>\n",
              "      <td>33.884968</td>\n",
              "      <td>-117.521301</td>\n",
              "      <td>0.000</td>\n",
              "      <td>Right hand shoulder blocked due to accident on...</td>\n",
              "      <td>NaN</td>\n",
              "      <td>Riverside Fwy W</td>\n",
              "      <td>R</td>\n",
              "      <td>Corona</td>\n",
              "      <td>Riverside</td>\n",
              "      <td>CA</td>\n",
              "      <td>92879</td>\n",
              "      <td>US</td>\n",
              "      <td>US/Pacific</td>\n",
              "      <td>KAJO</td>\n",
              "      <td>2016-09-06 17:56:00</td>\n",
              "      <td>80.1</td>\n",
              "      <td>NaN</td>\n",
              "      <td>54.0</td>\n",
              "      <td>29.79</td>\n",
              "      <td>10.0</td>\n",
              "      <td>West</td>\n",
              "      <td>12.7</td>\n",
              "      <td>NaN</td>\n",
              "      <td>Clear</td>\n",
              "      <td>False</td>\n",
              "      <td>False</td>\n",
              "      <td>False</td>\n",
              "      <td>False</td>\n",
              "      <td>False</td>\n",
              "      <td>False</td>\n",
              "      <td>False</td>\n",
              "      <td>False</td>\n",
              "      <td>False</td>\n",
              "      <td>False</td>\n",
              "      <td>False</td>\n",
              "      <td>False</td>\n",
              "      <td>False</td>\n",
              "      <td>Day</td>\n",
              "      <td>Day</td>\n",
              "      <td>Day</td>\n",
              "      <td>Day</td>\n",
              "    </tr>\n",
              "    <tr>\n",
              "      <th>2260979</th>\n",
              "      <td>A-2260980</td>\n",
              "      <td>3</td>\n",
              "      <td>2018-11-18 05:26:19</td>\n",
              "      <td>2018-11-18 05:56:15</td>\n",
              "      <td>27.943660</td>\n",
              "      <td>-82.542950</td>\n",
              "      <td>27.902130</td>\n",
              "      <td>-82.637280</td>\n",
              "      <td>6.434</td>\n",
              "      <td>Between Kennedy Blvd/Exit 39 and SR-687/4th St...</td>\n",
              "      <td>NaN</td>\n",
              "      <td>I-275 N</td>\n",
              "      <td>R</td>\n",
              "      <td>Tampa</td>\n",
              "      <td>Hillsborough</td>\n",
              "      <td>FL</td>\n",
              "      <td>33609</td>\n",
              "      <td>US</td>\n",
              "      <td>US/Eastern</td>\n",
              "      <td>KTPA</td>\n",
              "      <td>2018-11-18 05:53:00</td>\n",
              "      <td>60.1</td>\n",
              "      <td>NaN</td>\n",
              "      <td>90.0</td>\n",
              "      <td>30.14</td>\n",
              "      <td>10.0</td>\n",
              "      <td>NE</td>\n",
              "      <td>5.8</td>\n",
              "      <td>NaN</td>\n",
              "      <td>Clear</td>\n",
              "      <td>False</td>\n",
              "      <td>False</td>\n",
              "      <td>False</td>\n",
              "      <td>False</td>\n",
              "      <td>False</td>\n",
              "      <td>False</td>\n",
              "      <td>False</td>\n",
              "      <td>False</td>\n",
              "      <td>False</td>\n",
              "      <td>False</td>\n",
              "      <td>False</td>\n",
              "      <td>False</td>\n",
              "      <td>False</td>\n",
              "      <td>Night</td>\n",
              "      <td>Night</td>\n",
              "      <td>Night</td>\n",
              "      <td>Night</td>\n",
              "    </tr>\n",
              "    <tr>\n",
              "      <th>1639286</th>\n",
              "      <td>A-1639287</td>\n",
              "      <td>3</td>\n",
              "      <td>2019-12-12 08:48:54</td>\n",
              "      <td>2019-12-12 10:07:39</td>\n",
              "      <td>30.595533</td>\n",
              "      <td>-88.154274</td>\n",
              "      <td>30.595533</td>\n",
              "      <td>-88.154274</td>\n",
              "      <td>0.000</td>\n",
              "      <td>Lane blocked due to accident on I-10 Eastbound...</td>\n",
              "      <td>NaN</td>\n",
              "      <td>Rangeline Rd</td>\n",
              "      <td>R</td>\n",
              "      <td>Mobile</td>\n",
              "      <td>Mobile</td>\n",
              "      <td>AL</td>\n",
              "      <td>36619</td>\n",
              "      <td>US</td>\n",
              "      <td>US/Central</td>\n",
              "      <td>KMOB</td>\n",
              "      <td>2019-12-12 08:56:00</td>\n",
              "      <td>48.0</td>\n",
              "      <td>43.0</td>\n",
              "      <td>66.0</td>\n",
              "      <td>30.11</td>\n",
              "      <td>7.0</td>\n",
              "      <td>ENE</td>\n",
              "      <td>12.0</td>\n",
              "      <td>0.0</td>\n",
              "      <td>Cloudy</td>\n",
              "      <td>False</td>\n",
              "      <td>False</td>\n",
              "      <td>False</td>\n",
              "      <td>False</td>\n",
              "      <td>False</td>\n",
              "      <td>False</td>\n",
              "      <td>False</td>\n",
              "      <td>False</td>\n",
              "      <td>False</td>\n",
              "      <td>False</td>\n",
              "      <td>False</td>\n",
              "      <td>False</td>\n",
              "      <td>False</td>\n",
              "      <td>Day</td>\n",
              "      <td>Day</td>\n",
              "      <td>Day</td>\n",
              "      <td>Day</td>\n",
              "    </tr>\n",
              "  </tbody>\n",
              "</table>\n",
              "<p>290661 rows × 47 columns</p>\n",
              "</div>"
            ],
            "text/plain": [
              "                ID  Severity  ... Nautical_Twilight Astronomical_Twilight\n",
              "93143      A-93144         2  ...               Day                   Day\n",
              "1459023  A-1459024         3  ...               Day                   Day\n",
              "228334    A-228335         2  ...               Day                   Day\n",
              "1148795  A-1148796         2  ...               Day                   Day\n",
              "1833714  A-1833715         2  ...             Night                 Night\n",
              "...            ...       ...  ...               ...                   ...\n",
              "1735609  A-1735610         2  ...             Night                 Night\n",
              "2541929  A-2541930         2  ...               Day                   Day\n",
              "2406136  A-2406137         2  ...               Day                   Day\n",
              "2260979  A-2260980         3  ...             Night                 Night\n",
              "1639286  A-1639287         3  ...               Day                   Day\n",
              "\n",
              "[290661 rows x 47 columns]"
            ]
          },
          "metadata": {
            "tags": []
          },
          "execution_count": 79
        }
      ]
    },
    {
      "cell_type": "code",
      "metadata": {
        "colab": {
          "base_uri": "https://localhost:8080/",
          "height": 297
        },
        "id": "jxDY0I3gImWH",
        "outputId": "39d121d7-784a-46b3-863f-c9c98b31fe09"
      },
      "source": [
        "# sampled df scatterplot\n",
        "sampled_df=df.sample(int(0.001*len(df)))\n",
        "sns.scatterplot(x=sampled_df.Start_Lng,y=sampled_df.Start_Lat)"
      ],
      "execution_count": null,
      "outputs": [
        {
          "output_type": "execute_result",
          "data": {
            "text/plain": [
              "<matplotlib.axes._subplots.AxesSubplot at 0x7fa97e8bdd90>"
            ]
          },
          "metadata": {
            "tags": []
          },
          "execution_count": 98
        },
        {
          "output_type": "display_data",
          "data": {
            "image/png": "[encoded data removed]",
            "text/plain": [
              "<Figure size 432x288 with 1 Axes>"
            ]
          },
          "metadata": {
            "tags": []
          }
        }
      ]
    },
    {
      "cell_type": "code",
      "metadata": {
        "id": "aO56Ypa9Khvx"
      },
      "source": [
        "import folium"
      ],
      "execution_count": null,
      "outputs": []
    },
    {
      "cell_type": "code",
      "metadata": {
        "colab": {
          "base_uri": "https://localhost:8080/",
          "height": 763
        },
        "id": "8pEQxpFaKnA1",
        "outputId": "308805c2-1573-43a9-c589-b424d70cbe78"
      },
      "source": [
        "# plotting one accident on map\n"
      ],
      "execution_count": null,
      "outputs": [
        {
          "output_type": "execute_result",
          "data": {
            "text/html": [
              "<div style=\"width:100%;\"><div style=\"position:relative;width:100%;height:0;padding-bottom:60%;\"><span style=\"color:#565656\">Make this Notebook Trusted to load map: File -> Trust Notebook</span><iframe src=\"about:blank\" style=\"position:absolute;width:100%;height:100%;left:0;top:0;border:none !important;\" data-html=%3C%21DOCTYPE%20html%3E%0A%3Chead%3E%20%20%20%20%0A%20%20%20%20%3Cmeta%20http-equiv%3D%22content-type%22%20content%3D%22text/html%3B%20charset%3DUTF-8%22%20/%3E%0A%20%20%20%20%3Cscript%3EL_PREFER_CANVAS%3Dfalse%3B%20L_NO_TOUCH%3Dfalse%3B%20L_DISABLE_3D%3Dfalse%3B%3C/script%3E%0A%20%20%20%20%3Cscript%20src%3D%22https%3A//cdn.jsdelivr.net/npm/leaflet%401.4.0/dist/leaflet.js%22%3E%3C/script%3E%0A%20%20%20%20%3Cscript%20src%3D%22https%3A//code.jquery.com/jquery-1.12.4.min.js%22%3E%3C/script%3E%0A%20%20%20%20%3Cscript%20src%3D%22https%3A//maxcdn.bootstrapcdn.com/bootstrap/3.2.0/js/bootstrap.min.js%22%3E%3C/script%3E%0A%20%20%20%20%3Cscript%20src%3D%22https%3A//cdnjs.cloudflare.com/ajax/libs/Leaflet.awesome-markers/2.0.2/leaflet.awesome-markers.js%22%3E%3C/script%3E%0A%20%20%20%20%3Clink%20rel%3D%22stylesheet%22%20href%3D%22https%3A//cdn.jsdelivr.net/npm/leaflet%401.4.0/dist/leaflet.css%22/%3E%0A%20%20%20%20%3Clink%20rel%3D%22stylesheet%22%20href%3D%22https%3A//maxcdn.bootstrapcdn.com/bootstrap/3.2.0/css/bootstrap.min.css%22/%3E%0A%20%20%20%20%3Clink%20rel%3D%22stylesheet%22%20href%3D%22https%3A//maxcdn.bootstrapcdn.com/bootstrap/3.2.0/css/bootstrap-theme.min.css%22/%3E%0A%20%20%20%20%3Clink%20rel%3D%22stylesheet%22%20href%3D%22https%3A//maxcdn.bootstrapcdn.com/font-awesome/4.6.3/css/font-awesome.min.css%22/%3E%0A%20%20%20%20%3Clink%20rel%3D%22stylesheet%22%20href%3D%22https%3A//cdnjs.cloudflare.com/ajax/libs/Leaflet.awesome-markers/2.0.2/leaflet.awesome-markers.css%22/%3E%0A%20%20%20%20%3Clink%20rel%3D%22stylesheet%22%20href%3D%22https%3A//rawcdn.githack.com/python-visualization/folium/master/folium/templates/leaflet.awesome.rotate.css%22/%3E%0A%20%20%20%20%3Cstyle%3Ehtml%2C%20body%20%7Bwidth%3A%20100%25%3Bheight%3A%20100%25%3Bmargin%3A%200%3Bpadding%3A%200%3B%7D%3C/style%3E%0A%20%20%20%20%3Cstyle%3E%23map%20%7Bposition%3Aabsolute%3Btop%3A0%3Bbottom%3A0%3Bright%3A0%3Bleft%3A0%3B%7D%3C/style%3E%0A%20%20%20%20%0A%20%20%20%20%3Cmeta%20name%3D%22viewport%22%20content%3D%22width%3Ddevice-width%2C%0A%20%20%20%20%20%20%20%20initial-scale%3D1.0%2C%20maximum-scale%3D1.0%2C%20user-scalable%3Dno%22%20/%3E%0A%20%20%20%20%3Cstyle%3E%23map_d271573ec0e64e1790f3e97efd97ff91%20%7B%0A%20%20%20%20%20%20%20%20position%3A%20relative%3B%0A%20%20%20%20%20%20%20%20width%3A%20100.0%25%3B%0A%20%20%20%20%20%20%20%20height%3A%20100.0%25%3B%0A%20%20%20%20%20%20%20%20left%3A%200.0%25%3B%0A%20%20%20%20%20%20%20%20top%3A%200.0%25%3B%0A%20%20%20%20%20%20%20%20%7D%0A%20%20%20%20%3C/style%3E%0A%3C/head%3E%0A%3Cbody%3E%20%20%20%20%0A%20%20%20%20%0A%20%20%20%20%3Cdiv%20class%3D%22folium-map%22%20id%3D%22map_d271573ec0e64e1790f3e97efd97ff91%22%20%3E%3C/div%3E%0A%3C/body%3E%0A%3Cscript%3E%20%20%20%20%0A%20%20%20%20%0A%20%20%20%20%0A%20%20%20%20%20%20%20%20var%20bounds%20%3D%20null%3B%0A%20%20%20%20%0A%0A%20%20%20%20var%20map_d271573ec0e64e1790f3e97efd97ff91%20%3D%20L.map%28%0A%20%20%20%20%20%20%20%20%27map_d271573ec0e64e1790f3e97efd97ff91%27%2C%20%7B%0A%20%20%20%20%20%20%20%20center%3A%20%5B0%2C%200%5D%2C%0A%20%20%20%20%20%20%20%20zoom%3A%201%2C%0A%20%20%20%20%20%20%20%20maxBounds%3A%20bounds%2C%0A%20%20%20%20%20%20%20%20layers%3A%20%5B%5D%2C%0A%20%20%20%20%20%20%20%20worldCopyJump%3A%20false%2C%0A%20%20%20%20%20%20%20%20crs%3A%20L.CRS.EPSG3857%2C%0A%20%20%20%20%20%20%20%20zoomControl%3A%20true%2C%0A%20%20%20%20%20%20%20%20%7D%29%3B%0A%0A%0A%20%20%20%20%0A%20%20%20%20var%20tile_layer_3278833057004c0d9a293fab69a2dabd%20%3D%20L.tileLayer%28%0A%20%20%20%20%20%20%20%20%27https%3A//%7Bs%7D.tile.openstreetmap.org/%7Bz%7D/%7Bx%7D/%7By%7D.png%27%2C%0A%20%20%20%20%20%20%20%20%7B%0A%20%20%20%20%20%20%20%20%22attribution%22%3A%20null%2C%0A%20%20%20%20%20%20%20%20%22detectRetina%22%3A%20false%2C%0A%20%20%20%20%20%20%20%20%22maxNativeZoom%22%3A%2018%2C%0A%20%20%20%20%20%20%20%20%22maxZoom%22%3A%2018%2C%0A%20%20%20%20%20%20%20%20%22minZoom%22%3A%200%2C%0A%20%20%20%20%20%20%20%20%22noWrap%22%3A%20false%2C%0A%20%20%20%20%20%20%20%20%22opacity%22%3A%201%2C%0A%20%20%20%20%20%20%20%20%22subdomains%22%3A%20%22abc%22%2C%0A%20%20%20%20%20%20%20%20%22tms%22%3A%20false%0A%7D%29.addTo%28map_d271573ec0e64e1790f3e97efd97ff91%29%3B%0A%3C/script%3E onload=\"this.contentDocument.open();this.contentDocument.write(    decodeURIComponent(this.getAttribute('data-html')));this.contentDocument.close();\" allowfullscreen webkitallowfullscreen mozallowfullscreen></iframe></div></div>"
            ],
            "text/plain": [
              "<folium.folium.Map at 0x7fa97ea96790>"
            ]
          },
          "metadata": {
            "tags": []
          },
          "execution_count": 85
        }
      ]
    },
    {
      "cell_type": "code",
      "metadata": {
        "id": "bNGK91KKLIJO"
      },
      "source": [
        "lat,lon=df.Start_Lat[0],df.Start_Lng[0]"
      ],
      "execution_count": null,
      "outputs": []
    },
    {
      "cell_type": "code",
      "metadata": {
        "colab": {
          "base_uri": "https://localhost:8080/"
        },
        "id": "0-uaORRULaFl",
        "outputId": "ef588d81-1670-43fd-ff08-83aa70eb903f"
      },
      "source": [
        "lat,lon"
      ],
      "execution_count": null,
      "outputs": [
        {
          "output_type": "execute_result",
          "data": {
            "text/plain": [
              "(34.808868, -82.26915699999998)"
            ]
          },
          "metadata": {
            "tags": []
          },
          "execution_count": 87
        }
      ]
    },
    {
      "cell_type": "code",
      "metadata": {
        "colab": {
          "base_uri": "https://localhost:8080/",
          "height": 763
        },
        "id": "HgWa_hvWLhhz",
        "outputId": "2185cd23-b5a2-4692-8417-f7a780937827"
      },
      "source": [
        "# Puttung Marker on location\n",
        "map=folium.Map()\n",
        "marker=folium.Marker((lat,lon))\n",
        "marker.add_to(map)\n",
        "map"
      ],
      "execution_count": null,
      "outputs": [
        {
          "output_type": "execute_result",
          "data": {
            "text/html": [
              "<div style=\"width:100%;\"><div style=\"position:relative;width:100%;height:0;padding-bottom:60%;\"><span style=\"color:#565656\">Make this Notebook Trusted to load map: File -> Trust Notebook</span><iframe src=\"about:blank\" style=\"position:absolute;width:100%;height:100%;left:0;top:0;border:none !important;\" data-html=%3C%21DOCTYPE%20html%3E%0A%3Chead%3E%20%20%20%20%0A%20%20%20%20%3Cmeta%20http-equiv%3D%22content-type%22%20content%3D%22text/html%3B%20charset%3DUTF-8%22%20/%3E%0A%20%20%20%20%3Cscript%3EL_PREFER_CANVAS%3Dfalse%3B%20L_NO_TOUCH%3Dfalse%3B%20L_DISABLE_3D%3Dfalse%3B%3C/script%3E%0A%20%20%20%20%3Cscript%20src%3D%22https%3A//cdn.jsdelivr.net/npm/leaflet%401.4.0/dist/leaflet.js%22%3E%3C/script%3E%0A%20%20%20%20%3Cscript%20src%3D%22https%3A//code.jquery.com/jquery-1.12.4.min.js%22%3E%3C/script%3E%0A%20%20%20%20%3Cscript%20src%3D%22https%3A//maxcdn.bootstrapcdn.com/bootstrap/3.2.0/js/bootstrap.min.js%22%3E%3C/script%3E%0A%20%20%20%20%3Cscript%20src%3D%22https%3A//cdnjs.cloudflare.com/ajax/libs/Leaflet.awesome-markers/2.0.2/leaflet.awesome-markers.js%22%3E%3C/script%3E%0A%20%20%20%20%3Clink%20rel%3D%22stylesheet%22%20href%3D%22https%3A//cdn.jsdelivr.net/npm/leaflet%401.4.0/dist/leaflet.css%22/%3E%0A%20%20%20%20%3Clink%20rel%3D%22stylesheet%22%20href%3D%22https%3A//maxcdn.bootstrapcdn.com/bootstrap/3.2.0/css/bootstrap.min.css%22/%3E%0A%20%20%20%20%3Clink%20rel%3D%22stylesheet%22%20href%3D%22https%3A//maxcdn.bootstrapcdn.com/bootstrap/3.2.0/css/bootstrap-theme.min.css%22/%3E%0A%20%20%20%20%3Clink%20rel%3D%22stylesheet%22%20href%3D%22https%3A//maxcdn.bootstrapcdn.com/font-awesome/4.6.3/css/font-awesome.min.css%22/%3E%0A%20%20%20%20%3Clink%20rel%3D%22stylesheet%22%20href%3D%22https%3A//cdnjs.cloudflare.com/ajax/libs/Leaflet.awesome-markers/2.0.2/leaflet.awesome-markers.css%22/%3E%0A%20%20%20%20%3Clink%20rel%3D%22stylesheet%22%20href%3D%22https%3A//rawcdn.githack.com/python-visualization/folium/master/folium/templates/leaflet.awesome.rotate.css%22/%3E%0A%20%20%20%20%3Cstyle%3Ehtml%2C%20body%20%7Bwidth%3A%20100%25%3Bheight%3A%20100%25%3Bmargin%3A%200%3Bpadding%3A%200%3B%7D%3C/style%3E%0A%20%20%20%20%3Cstyle%3E%23map%20%7Bposition%3Aabsolute%3Btop%3A0%3Bbottom%3A0%3Bright%3A0%3Bleft%3A0%3B%7D%3C/style%3E%0A%20%20%20%20%0A%20%20%20%20%3Cmeta%20name%3D%22viewport%22%20content%3D%22width%3Ddevice-width%2C%0A%20%20%20%20%20%20%20%20initial-scale%3D1.0%2C%20maximum-scale%3D1.0%2C%20user-scalable%3Dno%22%20/%3E%0A%20%20%20%20%3Cstyle%3E%23map_43bf234de3984f16bac7a7c66b724437%20%7B%0A%20%20%20%20%20%20%20%20position%3A%20relative%3B%0A%20%20%20%20%20%20%20%20width%3A%20100.0%25%3B%0A%20%20%20%20%20%20%20%20height%3A%20100.0%25%3B%0A%20%20%20%20%20%20%20%20left%3A%200.0%25%3B%0A%20%20%20%20%20%20%20%20top%3A%200.0%25%3B%0A%20%20%20%20%20%20%20%20%7D%0A%20%20%20%20%3C/style%3E%0A%3C/head%3E%0A%3Cbody%3E%20%20%20%20%0A%20%20%20%20%0A%20%20%20%20%3Cdiv%20class%3D%22folium-map%22%20id%3D%22map_43bf234de3984f16bac7a7c66b724437%22%20%3E%3C/div%3E%0A%3C/body%3E%0A%3Cscript%3E%20%20%20%20%0A%20%20%20%20%0A%20%20%20%20%0A%20%20%20%20%20%20%20%20var%20bounds%20%3D%20null%3B%0A%20%20%20%20%0A%0A%20%20%20%20var%20map_43bf234de3984f16bac7a7c66b724437%20%3D%20L.map%28%0A%20%20%20%20%20%20%20%20%27map_43bf234de3984f16bac7a7c66b724437%27%2C%20%7B%0A%20%20%20%20%20%20%20%20center%3A%20%5B0%2C%200%5D%2C%0A%20%20%20%20%20%20%20%20zoom%3A%201%2C%0A%20%20%20%20%20%20%20%20maxBounds%3A%20bounds%2C%0A%20%20%20%20%20%20%20%20layers%3A%20%5B%5D%2C%0A%20%20%20%20%20%20%20%20worldCopyJump%3A%20false%2C%0A%20%20%20%20%20%20%20%20crs%3A%20L.CRS.EPSG3857%2C%0A%20%20%20%20%20%20%20%20zoomControl%3A%20true%2C%0A%20%20%20%20%20%20%20%20%7D%29%3B%0A%0A%0A%20%20%20%20%0A%20%20%20%20var%20tile_layer_bae21e75e4a34eb288f34bf8f9ccd051%20%3D%20L.tileLayer%28%0A%20%20%20%20%20%20%20%20%27https%3A//%7Bs%7D.tile.openstreetmap.org/%7Bz%7D/%7Bx%7D/%7By%7D.png%27%2C%0A%20%20%20%20%20%20%20%20%7B%0A%20%20%20%20%20%20%20%20%22attribution%22%3A%20null%2C%0A%20%20%20%20%20%20%20%20%22detectRetina%22%3A%20false%2C%0A%20%20%20%20%20%20%20%20%22maxNativeZoom%22%3A%2018%2C%0A%20%20%20%20%20%20%20%20%22maxZoom%22%3A%2018%2C%0A%20%20%20%20%20%20%20%20%22minZoom%22%3A%200%2C%0A%20%20%20%20%20%20%20%20%22noWrap%22%3A%20false%2C%0A%20%20%20%20%20%20%20%20%22opacity%22%3A%201%2C%0A%20%20%20%20%20%20%20%20%22subdomains%22%3A%20%22abc%22%2C%0A%20%20%20%20%20%20%20%20%22tms%22%3A%20false%0A%7D%29.addTo%28map_43bf234de3984f16bac7a7c66b724437%29%3B%0A%20%20%20%20%0A%20%20%20%20%20%20%20%20var%20marker_c4a88798707d4a91b2b9f8f11ee0edc6%20%3D%20L.marker%28%0A%20%20%20%20%20%20%20%20%20%20%20%20%5B34.808868%2C%20-82.26915699999998%5D%2C%0A%20%20%20%20%20%20%20%20%20%20%20%20%7B%0A%20%20%20%20%20%20%20%20%20%20%20%20%20%20%20%20icon%3A%20new%20L.Icon.Default%28%29%2C%0A%20%20%20%20%20%20%20%20%20%20%20%20%20%20%20%20%7D%0A%20%20%20%20%20%20%20%20%20%20%20%20%29.addTo%28map_43bf234de3984f16bac7a7c66b724437%29%3B%0A%20%20%20%20%20%20%20%20%0A%3C/script%3E onload=\"this.contentDocument.open();this.contentDocument.write(    decodeURIComponent(this.getAttribute('data-html')));this.contentDocument.close();\" allowfullscreen webkitallowfullscreen mozallowfullscreen></iframe></div></div>"
            ],
            "text/plain": [
              "<folium.folium.Map at 0x7fa97eaf2490>"
            ]
          },
          "metadata": {
            "tags": []
          },
          "execution_count": 90
        }
      ]
    },
    {
      "cell_type": "code",
      "metadata": {
        "id": "BlNCL6IfTL-4"
      },
      "source": [
        "from folium import plugins"
      ],
      "execution_count": null,
      "outputs": []
    },
    {
      "cell_type": "code",
      "metadata": {
        "id": "S4Ug-LZKU9d3"
      },
      "source": [
        "# Creating Lat lon pairs\n",
        "lat_long_pairs=list(zip(list(sampled_df.Start_Lat),list(sampled_df.Start_Lng)))"
      ],
      "execution_count": null,
      "outputs": []
    },
    {
      "cell_type": "code",
      "metadata": {
        "colab": {
          "base_uri": "https://localhost:8080/",
          "height": 763
        },
        "id": "JFcQQS8FWafd",
        "outputId": "17b70ad0-8166-4a41-d3d5-aa2bbf2b7dee"
      },
      "source": [
        "# plotting heatmap to check where most accidents happend\n",
        "from folium.plugins import HeatMap\n",
        "map=folium.Map()\n",
        "HeatMap(lat_long_pairs).add_to(map)\n",
        "map"
      ],
      "execution_count": null,
      "outputs": [
        {
          "output_type": "execute_result",
          "data": {
            "text/html": [
              "<div style=\"width:100%;\"><div style=\"position:relative;width:100%;height:0;padding-bottom:60%;\"><span style=\"color:#565656\">Make this Notebook Trusted to load map: File -> Trust Notebook</span><iframe src=\"about:blank\" style=\"position:absolute;width:100%;height:100%;left:0;top:0;border:none !important;\" data-html=%3C%21DOCTYPE%20html%3E%0A%3Chead%3E%20%20%20%20%0A%20%20%20%20%3Cmeta%20http-equiv%3D%22content-type%22%20content%3D%22text/html%3B%20charset%3DUTF-8%22%20/%3E%0A%20%20%20%20%3Cscript%3EL_PREFER_CANVAS%3Dfalse%3B%20L_NO_TOUCH%3Dfalse%3B%20L_DISABLE_3D%3Dfalse%3B%3C/script%3E%0A%20%20%20%20%3Cscript%20src%3D%22https%3A//cdn.jsdelivr.net/npm/leaflet%401.4.0/dist/leaflet.js%22%3E%3C/script%3E%0A%20%20%20%20%3Cscript%20src%3D%22https%3A//code.jquery.com/jquery-1.12.4.min.js%22%3E%3C/script%3E%0A%20%20%20%20%3Cscript%20src%3D%22https%3A//maxcdn.bootstrapcdn.com/bootstrap/3.2.0/js/bootstrap.min.js%22%3E%3C/script%3E%0A%20%20%20%20%3Cscript%20src%3D%22https%3A//cdnjs.cloudflare.com/ajax/libs/Leaflet.awesome-markers/2.0.2/leaflet.awesome-markers.js%22%3E%3C/script%3E%0A%20%20%20%20%3Clink%20rel%3D%22stylesheet%22%20href%3D%22https%3A//cdn.jsdelivr.net/npm/leaflet%401.4.0/dist/leaflet.css%22/%3E%0A%20%20%20%20%3Clink%20rel%3D%22stylesheet%22%20href%3D%22https%3A//maxcdn.bootstrapcdn.com/bootstrap/3.2.0/css/bootstrap.min.css%22/%3E%0A%20%20%20%20%3Clink%20rel%3D%22stylesheet%22%20href%3D%22https%3A//maxcdn.bootstrapcdn.com/bootstrap/3.2.0/css/bootstrap-theme.min.css%22/%3E%0A%20%20%20%20%3Clink%20rel%3D%22stylesheet%22%20href%3D%22https%3A//maxcdn.bootstrapcdn.com/font-awesome/4.6.3/css/font-awesome.min.css%22/%3E%0A%20%20%20%20%3Clink%20rel%3D%22stylesheet%22%20href%3D%22https%3A//cdnjs.cloudflare.com/ajax/libs/Leaflet.awesome-markers/2.0.2/leaflet.awesome-markers.css%22/%3E%0A%20%20%20%20%3Clink%20rel%3D%22stylesheet%22%20href%3D%22https%3A//rawcdn.githack.com/python-visualization/folium/master/folium/templates/leaflet.awesome.rotate.css%22/%3E%0A%20%20%20%20%3Cstyle%3Ehtml%2C%20body%20%7Bwidth%3A%20100%25%3Bheight%3A%20100%25%3Bmargin%3A%200%3Bpadding%3A%200%3B%7D%3C/style%3E%0A%20%20%20%20%3Cstyle%3E%23map%20%7Bposition%3Aabsolute%3Btop%3A0%3Bbottom%3A0%3Bright%3A0%3Bleft%3A0%3B%7D%3C/style%3E%0A%20%20%20%20%0A%20%20%20%20%3Cmeta%20name%3D%22viewport%22%20content%3D%22width%3Ddevice-width%2C%0A%20%20%20%20%20%20%20%20initial-scale%3D1.0%2C%20maximum-scale%3D1.0%2C%20user-scalable%3Dno%22%20/%3E%0A%20%20%20%20%3Cstyle%3E%23map_972348eaee834cccb993e0e9420d3028%20%7B%0A%20%20%20%20%20%20%20%20position%3A%20relative%3B%0A%20%20%20%20%20%20%20%20width%3A%20100.0%25%3B%0A%20%20%20%20%20%20%20%20height%3A%20100.0%25%3B%0A%20%20%20%20%20%20%20%20left%3A%200.0%25%3B%0A%20%20%20%20%20%20%20%20top%3A%200.0%25%3B%0A%20%20%20%20%20%20%20%20%7D%0A%20%20%20%20%3C/style%3E%0A%20%20%20%20%3Cscript%20src%3D%22https%3A//leaflet.github.io/Leaflet.heat/dist/leaflet-heat.js%22%3E%3C/script%3E%0A%3C/head%3E%0A%3Cbody%3E%20%20%20%20%0A%20%20%20%20%0A%20%20%20%20%3Cdiv%20class%3D%22folium-map%22%20id%3D%22map_972348eaee834cccb993e0e9420d3028%22%20%3E%3C/div%3E%0A%3C/body%3E%0A%3Cscript%3E%20%20%20%20%0A%20%20%20%20%0A%20%20%20%20%0A%20%20%20%20%20%20%20%20var%20bounds%20%3D%20null%3B%0A%20%20%20%20%0A%0A%20%20%20%20var%20map_972348eaee834cccb993e0e9420d3028%20%3D%20L.map%28%0A%20%20%20%20%20%20%20%20%27map_972348eaee834cccb993e0e9420d3028%27%2C%20%7B%0A%20%20%20%20%20%20%20%20center%3A%20%5B0%2C%200%5D%2C%0A%20%20%20%20%20%20%20%20zoom%3A%201%2C%0A%20%20%20%20%20%20%20%20maxBounds%3A%20bounds%2C%0A%20%20%20%20%20%20%20%20layers%3A%20%5B%5D%2C%0A%20%20%20%20%20%20%20%20worldCopyJump%3A%20false%2C%0A%20%20%20%20%20%20%20%20crs%3A%20L.CRS.EPSG3857%2C%0A%20%20%20%20%20%20%20%20zoomControl%3A%20true%2C%0A%20%20%20%20%20%20%20%20%7D%29%3B%0A%0A%0A%20%20%20%20%0A%20%20%20%20var%20tile_layer_c96635c7ffb24008ab5c762bd5032680%20%3D%20L.tileLayer%28%0A%20%20%20%20%20%20%20%20%27https%3A//%7Bs%7D.tile.openstreetmap.org/%7Bz%7D/%7Bx%7D/%7By%7D.png%27%2C%0A%20%20%20%20%20%20%20%20%7B%0A%20%20%20%20%20%20%20%20%22attribution%22%3A%20null%2C%0A%20%20%20%20%20%20%20%20%22detectRetina%22%3A%20false%2C%0A%20%20%20%20%20%20%20%20%22maxNativeZoom%22%3A%2018%2C%0A%20%20%20%20%20%20%20%20%22maxZoom%22%3A%2018%2C%0A%20%20%20%20%20%20%20%20%22minZoom%22%3A%200%2C%0A%20%20%20%20%20%20%20%20%22noWrap%22%3A%20false%2C%0A%20%20%20%20%20%20%20%20%22opacity%22%3A%201%2C%0A%20%20%20%20%20%20%20%20%22subdomains%22%3A%20%22abc%22%2C%0A%20%20%20%20%20%20%20%20%22tms%22%3A%20false%0A%7D%29.addTo%28map_972348eaee834cccb993e0e9420d3028%29%3B%0A%20%20%20%20%0A%20%20%20%20%20%20%20%20%20%20%20%20var%20heat_map_13463f2f7bde4a1ba83d1eba274a76e6%20%3D%20L.heatLayer%28%0A%20%20%20%20%20%20%20%20%20%20%20%20%20%20%20%20%5B%5B30.519004%2C%20-84.36029599999998%5D%2C%20%5B41.825924%2C%20-71.4189%5D%2C%20%5B34.963661%2C%20-82.03613299999998%5D%2C%20%5B37.71554%2C%20-122.398495%5D%2C%20%5B35.113101%2C%20-81.146387%5D%2C%20%5B38.8312%2C%20-76.87612%5D%2C%20%5B33.385451%2C%20-111.93161%5D%2C%20%5B39.982731%2C%20-76.713724%5D%2C%20%5B38.680018%2C%20-121.33982%5D%2C%20%5B42.10953%2C%20-123.67758%5D%2C%20%5B29.515897%2C%20-98.429099%5D%2C%20%5B34.068870000000004%2C%20-117.3665%5D%2C%20%5B33.74562%2C%20-117.83325%5D%2C%20%5B42.387115%2C%20-83.437057%5D%2C%20%5B37.606865%2C%20-122.066605%5D%2C%20%5B28.107222%2C%20-81.944221%5D%2C%20%5B35.844051%2C%20-78.643631%5D%2C%20%5B34.031040000000004%2C%20-118.390388%5D%2C%20%5B39.572697%2C%20-119.807961%5D%2C%20%5B35.608627%2C%20-97.572044%5D%2C%20%5B37.352043%2C%20-122.060455%5D%2C%20%5B37.572567%2C%20-121.888512%5D%2C%20%5B37.437502%2C%20-109.47064%5D%2C%20%5B37.84319%2C%20-122.485945%5D%2C%20%5B29.337358%2C%20-98.566536%5D%2C%20%5B33.846699%2C%20-118.206772%5D%2C%20%5B39.784168%2C%20-105.109482%5D%2C%20%5B33.813428%2C%20-118.167665%5D%2C%20%5B29.731541%2C%20-95.480385%5D%2C%20%5B39.30582800000001%2C%20-76.74346899999998%5D%2C%20%5B33.963051%2C%20-82.39188399999998%5D%2C%20%5B44.965481%2C%20-93.287985%5D%2C%20%5B34.594833%2C%20-82.65802%5D%2C%20%5B39.643545%2C%20-104.877267%5D%2C%20%5B43.28284%2C%20-123.35588%5D%2C%20%5B39.196525%2C%20-123.044251%5D%2C%20%5B37.54052%2C%20-77.532928%5D%2C%20%5B37.320267%2C%20-121.99543%5D%2C%20%5B44.912353%2C%20-93.350666%5D%2C%20%5B34.291031%2C%20-118.469307%5D%2C%20%5B34.270227%2C%20-119.273266%5D%2C%20%5B34.85985%2C%20-81.00648000000002%5D%2C%20%5B34.140228%2C%20-118.016426%5D%2C%20%5B43.12422%2C%20-70.83323%5D%2C%20%5B37.494977%2C%20-122.228052%5D%2C%20%5B41.74952%2C%20-72.73179%5D%2C%20%5B36.148895%2C%20-86.782478%5D%2C%20%5B36.15904000000001%2C%20-115.314054%5D%2C%20%5B39.17665%2C%20-94.56266%5D%2C%20%5B27.935246000000006%2C%20-82.567456%5D%2C%20%5B28.50963%2C%20-81.41458%5D%2C%20%5B33.920235%2C%20-80.335922%5D%2C%20%5B34.081095%2C%20-81.00733000000002%5D%2C%20%5B41.94071%2C%20-88.00336%5D%2C%20%5B37.549667%2C%20-77.286224%5D%2C%20%5B40.697475%2C%20-111.54426%5D%2C%20%5B40.32217%2C%20-79.69631%5D%2C%20%5B32.454689%2C%20-93.750282%5D%2C%20%5B33.888798%2C%20-117.512415%5D%2C%20%5B29.396162%2C%20-98.498009%5D%2C%20%5B30.58906%2C%20-88.182159%5D%2C%20%5B33.559273%2C%20-117.673141%5D%2C%20%5B30.224569%2C%20-92.01033%5D%2C%20%5B32.776733%2C%20-96.811188%5D%2C%20%5B35.711163%2C%20-78.613248%5D%2C%20%5B34.33477%2C%20-118.509285%5D%2C%20%5B38.81611%2C%20-77.63576%5D%2C%20%5B33.903523%2C%20-118.105364%5D%2C%20%5B27.27454%2C%20-80.357178%5D%2C%20%5B39.733723%2C%20-84.204971%5D%2C%20%5B35.861912%2C%20-78.601387%5D%2C%20%5B40.92850900000001%2C%20-74.070511%5D%2C%20%5B47.158272%2C%20-122.434204%5D%2C%20%5B33.48512%2C%20-112.264%5D%2C%20%5B35.951509%2C%20-78.563568%5D%2C%20%5B39.0919%2C%20-94.63442%5D%2C%20%5B42.952084%2C%20-82.501938%5D%2C%20%5B34.15453%2C%20-118.157654%5D%2C%20%5B35.154509999999995%2C%20-80.79491999999998%5D%2C%20%5B39.983589%2C%20-76.665154%5D%2C%20%5B45.051201%2C%20-93.321243%5D%2C%20%5B25.870206%2C%20-80.256548%5D%2C%20%5B38.01911%2C%20-121.93475%5D%2C%20%5B25.92791%2C%20-80.20434%5D%2C%20%5B38.177532%2C%20-122.13662%5D%2C%20%5B34.072121%2C%20-118.099472%5D%2C%20%5B38.65222%2C%20-77.28206999999998%5D%2C%20%5B32.36262%2C%20-90.23146%5D%2C%20%5B38.512918%2C%20-121.467997%5D%2C%20%5B43.81156%2C%20-70.15805999999999%5D%2C%20%5B33.447464000000004%2C%20-82.032478%5D%2C%20%5B33.68662%2C%20-117.766%5D%2C%20%5B34.074589%2C%20-117.750221%5D%2C%20%5B26.20875%2C%20-80.138397%5D%2C%20%5B47.549248%2C%20-122.31292%5D%2C%20%5B39.74012000000001%2C%20-104.825203%5D%2C%20%5B39.00563%2C%20-104.510196%5D%2C%20%5B34.019112%2C%20-117.50271%5D%2C%20%5B30.074478000000006%2C%20-97.64418%5D%2C%20%5B41.716976%2C%20-87.944695%5D%2C%20%5B29.78511%2C%20-95.4521%5D%2C%20%5B45.745247%2C%20-120.82299%5D%2C%20%5B41.60359%2C%20-90.68412%5D%2C%20%5B45.99182%2C%20-94.33966%5D%2C%20%5B41.272022%2C%20-96.138794%5D%2C%20%5B38.902523%2C%20-77.00904799999998%5D%2C%20%5B40.726086%2C%20-73.475166%5D%2C%20%5B38.77441%2C%20-77.182129%5D%2C%20%5B32.72786%2C%20-97.59022%5D%2C%20%5B32.808409999999995%2C%20-96.84431%5D%2C%20%5B38.5412%2C%20-90.41925%5D%2C%20%5B32.676624%2C%20-96.857162%5D%2C%20%5B40.229669%2C%20-76.932138%5D%2C%20%5B37.975475%2C%20-122.063797%5D%2C%20%5B34.412689%2C%20-79.93866700000002%5D%2C%20%5B28.480491%2C%20-81.329856%5D%2C%20%5B41.74813%2C%20-87.79978%5D%2C%20%5B37.115668%2C%20-80.428901%5D%2C%20%5B34.071220000000004%2C%20-117.80858%5D%2C%20%5B29.688736%2C%20-95.353768%5D%2C%20%5B44.10282%2C%20-121.29924%5D%2C%20%5B46.95164000000001%2C%20-92.45118%5D%2C%20%5B38.188995%2C%20-85.73320799999998%5D%2C%20%5B42.899991%2C%20-73.78371700000002%5D%2C%20%5B30.43407%2C%20-81.655787%5D%2C%20%5B35.85736%2C%20-80.54933%5D%2C%20%5B37.024544%2C%20-122.211723%5D%2C%20%5B28.834615000000003%2C%20-82.04129499999998%5D%2C%20%5B37.62925300000001%2C%20-77.537834%5D%2C%20%5B40.1492%2C%20-75.05811%5D%2C%20%5B25.902288%2C%20-80.255907%5D%2C%20%5B38.879081%2C%20-77.253209%5D%2C%20%5B25.981918%2C%20-80.229969%5D%2C%20%5B29.580990000000003%2C%20-98.59663%5D%2C%20%5B34.554866%2C%20-119.91119%5D%2C%20%5B41.838219%2C%20-87.630669%5D%2C%20%5B40.23838%2C%20-76.895065%5D%2C%20%5B25.940687%2C%20-80.300309%5D%2C%20%5B33.813431%2C%20-118.167686%5D%2C%20%5B35.845432%2C%20-78.680284%5D%2C%20%5B30.49541%2C%20-88.33966%5D%2C%20%5B40.971394%2C%20-96.388428%5D%2C%20%5B33.542419%2C%20-86.64218100000002%5D%2C%20%5B37.559267%2C%20-122.280445%5D%2C%20%5B40.929222%2C%20-73.810928%5D%2C%20%5B34.20837%2C%20-86.878906%5D%2C%20%5B35.787182%2C%20-78.665947%5D%2C%20%5B29.386089%2C%20-98.553139%5D%2C%20%5B40.94482%2C%20-72.96265%5D%2C%20%5B36.03854000000001%2C%20-79.01359000000002%5D%2C%20%5B26.550041%2C%20-80.070625%5D%2C%20%5B32.358117%2C%20-90.431591%5D%2C%20%5B48.435665%2C%20-122.317513%5D%2C%20%5B41.081043%2C%20-73.922523%5D%2C%20%5B40.166578%2C%20-76.829521%5D%2C%20%5B40.70201%2C%20-73.86716%5D%2C%20%5B34.13217%2C%20-117.94976%5D%2C%20%5B33.95328%2C%20-118.08998%5D%2C%20%5B27.878794%2C%20-82.659882%5D%2C%20%5B42.190392%2C%20-88.13546%5D%2C%20%5B32.861614%2C%20-96.657342%5D%2C%20%5B41.972%2C%20-78.598099%5D%2C%20%5B37.403231%2C%20-122.046911%5D%2C%20%5B35.594493%2C%20-78.708004%5D%2C%20%5B34.026093%2C%20-117.752022%5D%2C%20%5B40.727981%2C%20-73.886414%5D%2C%20%5B37.802184%2C%20-122.297605%5D%2C%20%5B37.718063%2C%20-121.701027%5D%2C%20%5B34.968079%2C%20-81.97665400000002%5D%2C%20%5B36.982928%2C%20-121.959594%5D%2C%20%5B33.865011%2C%20-83.104%5D%2C%20%5B38.656788%2C%20-77.278976%5D%2C%20%5B42.202929%2C%20-88.11147%5D%2C%20%5B38.629592%2C%20-121.404129%5D%2C%20%5B36.137959%2C%20-120.102783%5D%2C%20%5B36.107842%2C%20-86.676979%5D%2C%20%5B40.039452%2C%20-76.293243%5D%2C%20%5B39.82727%2C%20-105.00703%5D%2C%20%5B40.568532%2C%20-74.326654%5D%2C%20%5B33.912631%2C%20-117.284418%5D%2C%20%5B41.835342%2C%20-87.94869200000002%5D%2C%20%5B27.466129%2C%20-82.575401%5D%2C%20%5B37.49509000000001%2C%20-77.0187%5D%2C%20%5B40.87278%2C%20-73.980972%5D%2C%20%5B42.946545%2C%20-85.646416%5D%2C%20%5B29.528654%2C%20-95.130676%5D%2C%20%5B44.976891%2C%20-93.088715%5D%2C%20%5B34.040422%2C%20-118.054707%5D%2C%20%5B33.98758%2C%20-118.362659%5D%2C%20%5B25.96374%2C%20-80.14678%5D%2C%20%5B45.040218%2C%20-123.081955%5D%2C%20%5B33.927329%2C%20-118.291951%5D%2C%20%5B29.78023%2C%20-95.433609%5D%2C%20%5B39.814697%2C%20-86.083549%5D%2C%20%5B38.189388%2C%20-121.262672%5D%2C%20%5B38.97332700000001%2C%20-78.212666%5D%2C%20%5B33.13885%2C%20-80.31419%5D%2C%20%5B33.053878999999995%2C%20-82.40600400000002%5D%2C%20%5B41.079632%2C%20-73.921959%5D%2C%20%5B33.87331%2C%20-118.248604%5D%2C%20%5B25.730042%2C%20-80.293594%5D%2C%20%5B38.275643%2C%20-122.04756299999998%5D%2C%20%5B40.6357%2C%20-111.905075%5D%2C%20%5B39.323112%2C%20-120.201776%5D%2C%20%5B43.010273%2C%20-83.679802%5D%2C%20%5B33.670491%2C%20-117.17082%5D%2C%20%5B35.464397%2C%20-97.636612%5D%2C%20%5B38.813763%2C%20-77.631632%5D%2C%20%5B33.669514%2C%20-117.822815%5D%2C%20%5B33.86056%2C%20-118.31343%5D%2C%20%5B40.45476%2C%20-79.93255%5D%2C%20%5B33.475842%2C%20-82.007042%5D%2C%20%5B41.827351%2C%20-70.958725%5D%2C%20%5B39.933411%2C%20-74.742789%5D%2C%20%5B45.019592%2C%20-92.985521%5D%2C%20%5B37.726311%2C%20-122.44603%5D%2C%20%5B34.068869%2C%20-117.839455%5D%2C%20%5B27.490627000000003%2C%20-82.472099%5D%2C%20%5B37.294685%2C%20-121.81015%5D%2C%20%5B34.149944%2C%20-80.94005600000001%5D%2C%20%5B33.829697%2C%20-118.208466%5D%2C%20%5B32.761971%2C%20-96.960129%5D%2C%20%5B45.19497%2C%20-93.55245%5D%2C%20%5B44.930767%2C%20-123.089104%5D%2C%20%5B33.427351%2C%20-117.149115%5D%2C%20%5B34.337318%2C%20-118.50763700000002%5D%2C%20%5B30.914419%2C%20-89.172958%5D%2C%20%5B38.673227%2C%20-121.640901%5D%2C%20%5B33.771361%2C%20-117.998532%5D%2C%20%5B28.259994%2C%20-81.43746999999998%5D%2C%20%5B42.359558%2C%20-83.436134%5D%2C%20%5B34.263802%2C%20-118.471832%5D%2C%20%5B30.275951%2C%20-97.736038%5D%2C%20%5B39.912518%2C%20-86.133667%5D%2C%20%5B36.101567%2C%20-86.765073%5D%2C%20%5B29.63083%2C%20-95.59014%5D%2C%20%5B25.606077%2C%20-80.350803%5D%2C%20%5B37.99121%2C%20-122.06815%5D%2C%20%5B38.287437%2C%20-121.458771%5D%2C%20%5B34.118959999999994%2C%20-118.16268%5D%2C%20%5B41.222313%2C%20-73.07854499999998%5D%2C%20%5B40.219017%2C%20-75.647888%5D%2C%20%5B35.107422%2C%20-81.60305%5D%2C%20%5B37.213013%2C%20-121.726578%5D%2C%20%5B33.754988%2C%20-84.378315%5D%2C%20%5B35.212128%2C%20-80.890518%5D%2C%20%5B41.670396%2C%20-72.83937900000002%5D%2C%20%5B25.97283%2C%20-80.23633000000002%5D%2C%20%5B39.305191%2C%20-120.52472%5D%2C%20%5B40.249138%2C%20-75.345398%5D%2C%20%5B34.131013%2C%20-117.206751%5D%2C%20%5B34.08168%2C%20-117.715651%5D%2C%20%5B40.917511%2C%20-74.814285%5D%2C%20%5B33.968167%2C%20-118.167854%5D%2C%20%5B44.75981%2C%20-93.21787%5D%2C%20%5B29.787458%2C%20-95.61763%5D%2C%20%5B27.58565%2C%20-82.53456%5D%2C%20%5B40.987404%2C%20-73.672813%5D%2C%20%5B35.97717%2C%20-78.77592%5D%2C%20%5B30.470449%2C%20-91.145798%5D%2C%20%5B41.75683%2C%20-72.65153000000002%5D%2C%20%5B42.69714000000001%2C%20-73.83899699999998%5D%2C%20%5B33.936679%2C%20-118.363486%5D%2C%20%5B39.981983%2C%20-76.744881%5D%2C%20%5B25.74657%2C%20-80.21982%5D%2C%20%5B35.61152%2C%20-119.64954%5D%2C%20%5B35.167075%2C%20-119.00235%5D%2C%20%5B34.177452%2C%20-117.155724%5D%2C%20%5B33.88394%2C%20-117.52528999999998%5D%2C%20%5B36.804131%2C%20-121.783806%5D%2C%20%5B29.117145%2C%20-81.617816%5D%2C%20%5B27.969267%2C%20-82.453796%5D%2C%20%5B25.927807%2C%20-80.20663499999998%5D%2C%20%5B40.7002%2C%20-73.98510999999998%5D%2C%20%5B34.27776%2C%20-118.60479%5D%2C%20%5B32.82201%2C%20-96.761528%5D%2C%20%5B37.42071%2C%20-76.82168%5D%2C%20%5B32.829853%2C%20-96.826401%5D%2C%20%5B29.135298%2C%20-82.107961%5D%2C%20%5B34.037506%2C%20-118.038268%5D%2C%20%5B39.94367%2C%20-75.19236%5D%2C%20%5B44.940281%2C%20-93.075821%5D%2C%20%5B47.441555%2C%20-122.21653%5D%2C%20%5B25.786917000000006%2C%20-80.200462%5D%2C%20%5B32.902367%2C%20-117.222878%5D%2C%20%5B27.870072%2C%20-82.34775400000002%5D%2C%20%5B41.871223%2C%20-87.918121%5D%2C%20%5B37.977248%2C%20-121.668426%5D%2C%20%5B35.167202%2C%20-81.475365%5D%2C%20%5B44.643628%2C%20-67.606875%5D%2C%20%5B42.26194%2C%20-87.90375%5D%2C%20%5B28.57255%2C%20-81.457642%5D%2C%20%5B37.334493%2C%20-122.028204%5D%2C%20%5B38.541199%2C%20-121.473938%5D%2C%20%5B41.154307%2C%20-91.18726%5D%2C%20%5B36.77617100000001%2C%20-119.785129%5D%2C%20%5B33.438721%2C%20-79.127441%5D%2C%20%5B41.301411%2C%20-72.913338%5D%2C%20%5B42.89025%2C%20-70.88067%5D%2C%20%5B26.46674%2C%20-80.08927%5D%2C%20%5B38.215238%2C%20-121.884231%5D%2C%20%5B40.24501400000001%2C%20-75.340528%5D%2C%20%5B41.474232%2C%20-81.693069%5D%2C%20%5B41.578308%2C%20-87.665741%5D%2C%20%5B44.95094%2C%20-93.10525%5D%2C%20%5B41.53797%2C%20-73.77626%5D%2C%20%5B34.684013%2C%20-82.714325%5D%2C%20%5B34.147118%2C%20-118.226044%5D%2C%20%5B41.538813%2C%20-72.809437%5D%2C%20%5B35.394167%2C%20-118.9675%5D%2C%20%5B40.609776%2C%20-73.964302%5D%2C%20%5B34.377811%2C%20-118.493652%5D%2C%20%5B26.362844%2C%20-98.019684%5D%2C%20%5B37.378239%2C%20-122.067566%5D%2C%20%5B35.594669%2C%20-97.560638%5D%2C%20%5B32.23565%2C%20-110.98449%5D%2C%20%5B35.442467%2C%20-97.530144%5D%2C%20%5B27.440311%2C%20-82.57099000000002%5D%2C%20%5B41.703053%2C%20-93.621567%5D%2C%20%5B34.035693%2C%20-118.098623%5D%2C%20%5B35.85509099999999%2C%20-78.58107%5D%2C%20%5B42.40054%2C%20-83.07091%5D%2C%20%5B38.92581%2C%20-77.23836999999997%5D%2C%20%5B27.389934000000004%2C%20-82.455656%5D%2C%20%5B39.805233%2C%20-104.939674%5D%2C%20%5B34.067454999999995%2C%20-117.586766%5D%2C%20%5B38.132023%2C%20-121.150757%5D%2C%20%5B33.462219%2C%20-112.047775%5D%2C%20%5B26.514440000000004%2C%20-80.069979%5D%2C%20%5B35.831764%2C%20-78.76355%5D%2C%20%5B33.8396%2C%20-118.263474%5D%2C%20%5B36.14423%2C%20-115.24305%5D%2C%20%5B47.62096%2C%20-122.31692%5D%2C%20%5B42.98748%2C%20-83.75093100000002%5D%2C%20%5B39.779419%2C%20-75.506485%5D%2C%20%5B33.61158%2C%20-111.96055%5D%2C%20%5B37.318859%2C%20-121.902054%5D%2C%20%5B41.035931%2C%20-74.071655%5D%2C%20%5B32.656291%2C%20-96.745058%5D%2C%20%5B30.378481%2C%20-91.067787%5D%2C%20%5B45.138563%2C%20-94.528947%5D%2C%20%5B40.304063%2C%20-76.847702%5D%2C%20%5B44.08404%2C%20-123.04656%5D%2C%20%5B34.065319%2C%20-117.304482%5D%2C%20%5B29.757175%2C%20-95.544708%5D%2C%20%5B32.297382%2C%20-110.995171%5D%2C%20%5B34.022175%2C%20-118.165727%5D%2C%20%5B37.84537%2C%20-122.22747%5D%2C%20%5B37.303051%2C%20-76.683212%5D%2C%20%5B35.80619799999999%2C%20-78.706429%5D%2C%20%5B40.823725%2C%20-73.87693%5D%2C%20%5B40.805177%2C%20-124.140782%5D%2C%20%5B38.970889%2C%20-77.17911099999998%5D%2C%20%5B45.51549%2C%20-122.69966%5D%2C%20%5B30.42909%2C%20-91.05638%5D%2C%20%5B34.01345%2C%20-117.44487%5D%2C%20%5B37.69085%2C%20-122.0851%5D%2C%20%5B45.55981%2C%20-122.17327%5D%2C%20%5B40.148327%2C%20-75.097748%5D%2C%20%5B38.120224%2C%20-122.23027%5D%2C%20%5B33.83445%2C%20-117.373322%5D%2C%20%5B34.26576%2C%20-118.44871%5D%2C%20%5B29.961752%2C%20-90.090646%5D%2C%20%5B42.274399%2C%20-71.050354%5D%2C%20%5B35.420769%2C%20-97.50798%5D%2C%20%5B33.670724%2C%20-112.113364%5D%2C%20%5B37.994793%2C%20-122.069527%5D%2C%20%5B37.648621%2C%20-122.091919%5D%2C%20%5B42.21086%2C%20-71.54399000000002%5D%2C%20%5B30.252846%2C%20-97.712624%5D%2C%20%5B42.977211%2C%20-73.85045600000002%5D%2C%20%5B38.365063%2C%20-122.712349%5D%2C%20%5B41.926389%2C%20-122.579472%5D%2C%20%5B37.64993%2C%20-122.097323%5D%2C%20%5B35.27164000000001%2C%20-80.85146999999998%5D%2C%20%5B41.046452%2C%20-81.729065%5D%2C%20%5B42.810638%2C%20-83.81460200000002%5D%2C%20%5B37.316732%2C%20-121.922098%5D%2C%20%5B33.639011%2C%20-112.169098%5D%2C%20%5B38.26103%2C%20-85.74192%5D%2C%20%5B34.03006%2C%20-118.44154%5D%2C%20%5B34.072678%2C%20-118.466637%5D%2C%20%5B33.60575%2C%20-112.300783%5D%2C%20%5B34.155853%2C%20-118.242045%5D%2C%20%5B34.673748%2C%20-86.7519%5D%2C%20%5B33.266571%2C%20-88.062202%5D%2C%20%5B36.758762%2C%20-76.340376%5D%2C%20%5B33.850735%2C%20-117.843925%5D%2C%20%5B36.324443%2C%20-119.34958799999998%5D%2C%20%5B39.14744500000001%2C%20-76.686185%5D%2C%20%5B38.80381%2C%20-76.907021%5D%2C%20%5B34.069969%2C%20-118.262627%5D%2C%20%5B25.984605%2C%20-80.165814%5D%2C%20%5B34.296219%2C%20-82.04615799999998%5D%2C%20%5B41.532201%2C%20-72.808276%5D%2C%20%5B28.036620000000006%2C%20-82.11081%5D%2C%20%5B40.072605%2C%20-75.123009%5D%2C%20%5B40.765156%2C%20-74.02310899999998%5D%2C%20%5B42.912728%2C%20-85.637247%5D%2C%20%5B40.39695%2C%20-74.55838%5D%2C%20%5B39.14004%2C%20-77.13425%5D%2C%20%5B42.990974%2C%20-83.526222%5D%2C%20%5B29.613638%2C%20-95.419563%5D%2C%20%5B38.192322%2C%20-78.997002%5D%2C%20%5B35.875744%2C%20-78.645027%5D%2C%20%5B33.520584%2C%20-80.791832%5D%2C%20%5B45.36141%2C%20-122.60946%5D%2C%20%5B40.674351%2C%20-111.888298%5D%2C%20%5B43.07716%2C%20-123.36127%5D%2C%20%5B32.700218%2C%20-85.313255%5D%2C%20%5B42.906502%2C%20-74.56280500000003%5D%2C%20%5B41.557915%2C%20-73.780487%5D%2C%20%5B29.644608%2C%20-95.482162%5D%2C%20%5B37.464375%2C%20-77.425552%5D%2C%20%5B36.07528%2C%20-95.95797%5D%2C%20%5B34.030476%2C%20-117.584593%5D%2C%20%5B39.82826%2C%20-75.08663%5D%2C%20%5B43.130957%2C%20-77.64978%5D%2C%20%5B39.904119%2C%20-75.341477%5D%2C%20%5B42.398159%2C%20-83.109512%5D%2C%20%5B40.92538%2C%20-74.96243%5D%2C%20%5B33.992641%2C%20-117.15376299999998%5D%2C%20%5B41.8671%2C%20-88.027489%5D%2C%20%5B39.658066%2C%20-104.843246%5D%2C%20%5B39.626923%2C%20-111.904839%5D%2C%20%5B37.542%2C%20-77.3997%5D%2C%20%5B43.014289%2C%20-83.68401999999998%5D%2C%20%5B40.832497%2C%20-73.950287%5D%2C%20%5B36.13855%2C%20-86.72809000000002%5D%2C%20%5B41.779972%2C%20-73.73644300000002%5D%2C%20%5B41.77726%2C%20-87.63006999999998%5D%2C%20%5B37.549795%2C%20-77.430144%5D%2C%20%5B40.842571%2C%20-96.682144%5D%2C%20%5B42.45721%2C%20-87.85462%5D%2C%20%5B32.649574%2C%20-97.321376%5D%2C%20%5B33.93437%2C%20-118.09973%5D%2C%20%5B30.24381%2C%20-93.18365%5D%2C%20%5B27.973291%2C%20-82.360374%5D%2C%20%5B44.95094%2C%20-93.10525%5D%2C%20%5B32.817162%2C%20-96.871399%5D%2C%20%5B43.101681%2C%20-73.64915500000002%5D%2C%20%5B30.322029%2C%20-97.70668%5D%2C%20%5B40.78377%2C%20-73.62621999999998%5D%2C%20%5B33.695877%2C%20-117.712246%5D%2C%20%5B41.281494%2C%20-111.985816%5D%2C%20%5B34.03448%2C%20-118.26679%5D%2C%20%5B43.125118%2C%20-77.60655200000002%5D%2C%20%5B30.117392%2C%20-82.655502%5D%2C%20%5B26.94008%2C%20-82.01906%5D%2C%20%5B40.831097%2C%20-74.141251%5D%2C%20%5B38.29705%2C%20-77.50638599999998%5D%2C%20%5B40.71595%2C%20-109.476303%5D%2C%20%5B45.007699%2C%20-93.105758%5D%2C%20%5B35.1795%2C%20-80.88503%5D%2C%20%5B33.002708%2C%20-80.668991%5D%2C%20%5B33.813084%2C%20-118.298203%5D%2C%20%5B34.915296999999995%2C%20-80.815066%5D%2C%20%5B34.76764%2C%20-92.388936%5D%2C%20%5B34.39333%2C%20-80.728989%5D%2C%20%5B38.80159%2C%20-90.651779%5D%2C%20%5B40.37591%2C%20-111.81577%5D%2C%20%5B33.91964%2C%20-80.952003%5D%2C%20%5B39.418272%2C%20-119.756161%5D%2C%20%5B37.400755%2C%20-122.036389%5D%2C%20%5B39.901429%2C%20-75.15244200000002%5D%2C%20%5B33.498969%2C%20-112.11303%5D%2C%20%5B39.174694%2C%20-84.490311%5D%2C%20%5B32.162815%2C%20-110.84078999999998%5D%2C%20%5B40.77983%2C%20-73.00825999999998%5D%2C%20%5B33.442349%2C%20-117.137482%5D%2C%20%5B37.900513%2C%20-122.310417%5D%2C%20%5B33.491451%2C%20-86.786919%5D%2C%20%5B39.705139%2C%20-86.148888%5D%2C%20%5B40.746548%2C%20-122.061874%5D%2C%20%5B33.858829%2C%20-118.290543%5D%2C%20%5B33.387106%2C%20-117.176896%5D%2C%20%5B29.94231%2C%20-90.08145%5D%2C%20%5B33.987602%2C%20-118.137419%5D%2C%20%5B43.03466%2C%20-83.518005%5D%2C%20%5B30.420996%2C%20-91.140549%5D%2C%20%5B39.976341%2C%20-83.119812%5D%2C%20%5B41.82278%2C%20-87.69461%5D%2C%20%5B25.627093%2C%20-80.38489%5D%2C%20%5B35.90096%2C%20-78.65222%5D%2C%20%5B47.492184%2C%20-122.192162%5D%2C%20%5B42.66821%2C%20-73.73115%5D%2C%20%5B33.84788%2C%20-117.856112%5D%2C%20%5B36.14819%2C%20-86.744904%5D%2C%20%5B38.2754%2C%20-104.48642%5D%2C%20%5B42.927685%2C%20-85.674103%5D%2C%20%5B33.67302%2C%20-111.98857%5D%2C%20%5B35.893866%2C%20-78.5118%5D%2C%20%5B37.104067%2C%20-121.13338799999998%5D%2C%20%5B40.13079000000001%2C%20-75.1162%5D%2C%20%5B40.01279%2C%20-75.75129%5D%2C%20%5B31.797697%2C%20-106.22961399999998%5D%2C%20%5B33.402599%2C%20-111.939735%5D%2C%20%5B44.097214%2C%20-123.12493899999998%5D%2C%20%5B34.473048%2C%20-117.344273%5D%2C%20%5B43.184496%2C%20-77.613753%5D%2C%20%5B38.598961%2C%20-121.383026%5D%2C%20%5B36.183971%2C%20-86.814217%5D%2C%20%5B38.870261%2C%20-77.300201%5D%2C%20%5B38.838531%2C%20-77.251312%5D%2C%20%5B32.792976%2C%20-96.727493%5D%2C%20%5B34.257214000000005%2C%20-118.996002%5D%2C%20%5B34.0406%2C%20-118.164825%5D%2C%20%5B28.283639%2C%20-81.374123%5D%2C%20%5B45.860359%2C%20-95.429527%5D%2C%20%5B38.743946%2C%20-90.392433%5D%2C%20%5B43.04276%2C%20-76.14754%5D%2C%20%5B34.129481%2C%20-118.47375%5D%2C%20%5B41.631199%2C%20-93.651482%5D%2C%20%5B30.16794%2C%20-85.669403%5D%2C%20%5B41.830872%2C%20-87.699524%5D%2C%20%5B35.623714%2C%20-97.513756%5D%2C%20%5B39.359455%2C%20-77.16626%5D%2C%20%5B30.381029%2C%20-91.038376%5D%2C%20%5B33.50013%2C%20-84.638992%5D%2C%20%5B38.887041%2C%20-77.217267%5D%2C%20%5B33.850147%2C%20-117.875916%5D%2C%20%5B32.881264%2C%20-97.099266%5D%2C%20%5B44.861767%2C%20-93.277893%5D%2C%20%5B39.129364%2C%20-76.862099%5D%2C%20%5B34.401215%2C%20-119.516502%5D%2C%20%5B40.055187%2C%20-77.483368%5D%2C%20%5B36.17644%2C%20-115.24399%5D%2C%20%5B35.92792%2C%20-78.85981%5D%2C%20%5B40.821369%2C%20-97.044563%5D%2C%20%5B43.827549%2C%20-84.75048100000002%5D%2C%20%5B37.558823%2C%20-77.68641099999998%5D%2C%20%5B35.101932%2C%20-85.265215%5D%2C%20%5B33.619968%2C%20-84.4869%5D%2C%20%5B34.05057%2C%20-118.21411%5D%2C%20%5B29.632040000000003%2C%20-95.357529%5D%2C%20%5B43.041798%2C%20-75.293778%5D%2C%20%5B37.509846%2C%20-122.488068%5D%2C%20%5B33.498323%2C%20-112.265814%5D%2C%20%5B32.275021%2C%20-90.206329%5D%2C%20%5B35.52695999999999%2C%20-119.759781%5D%2C%20%5B29.4895%2C%20-98.56838%5D%2C%20%5B37.87423%2C%20-122.3059%5D%2C%20%5B35.978161%2C%20-78.522018%5D%2C%20%5B44.69763%2C%20-93.28817%5D%2C%20%5B34.067421%2C%20-117.427971%5D%2C%20%5B33.28611%2C%20-117.149391%5D%2C%20%5B32.781261%2C%20-96.540718%5D%2C%20%5B34.05754%2C%20-118.25466000000002%5D%2C%20%5B41.81299600000001%2C%20-87.93650500000003%5D%2C%20%5B33.880959999999995%2C%20-117.59985%5D%2C%20%5B34.230751%2C%20-80.671234%5D%2C%20%5B48.752695%2C%20-122.462601%5D%2C%20%5B33.916428%2C%20-118.285736%5D%2C%20%5B33.902916%2C%20-84.274139%5D%2C%20%5B30.220972%2C%20-97.836128%5D%2C%20%5B33.952389000000004%2C%20-98.526283%5D%2C%20%5B47.663651%2C%20-122.376251%5D%2C%20%5B26.47101%2C%20-80.174456%5D%2C%20%5B41.519508%2C%20-74.020416%5D%2C%20%5B41.68675%2C%20-87.6011%5D%2C%20%5B34.914188%2C%20-82.10717%5D%2C%20%5B35.102940000000004%2C%20-81.624588%5D%2C%20%5B36.079102%2C%20-86.720505%5D%2C%20%5B35.055209999999995%2C%20-90.007439%5D%2C%20%5B35.14841%2C%20-80.83091999999998%5D%2C%20%5B34.034931%2C%20-118.368523%5D%2C%20%5B42.384476%2C%20-83.15235899999998%5D%2C%20%5B35.97721%2C%20-83.97939000000002%5D%2C%20%5B40.697922%2C%20-74.2556%5D%2C%20%5B37.160012%2C%20-93.291105%5D%2C%20%5B28.640225%2C%20-81.440126%5D%2C%20%5B39.277725%2C%20-77.32356999999998%5D%2C%20%5B35.33414099999999%2C%20-80.750351%5D%2C%20%5B45.45874%2C%20-123.816%5D%2C%20%5B26.528852%2C%20-80.072968%5D%2C%20%5B38.495212%2C%20-77.38305%5D%2C%20%5B34.035374%2C%20-118.268639%5D%2C%20%5B40.130874%2C%20-76.217019%5D%2C%20%5B33.968879%2C%20-117.32866%5D%2C%20%5B33.77556%2C%20-112.13081%5D%2C%20%5B34.259737%2C%20-118.438464%5D%2C%20%5B39.091515%2C%20-94.680862%5D%2C%20%5B34.070206%2C%20-117.864616%5D%2C%20%5B45.48653%2C%20-122.7772%5D%2C%20%5B43.034485%2C%20-76.017174%5D%2C%20%5B45.58047%2C%20-122.54358%5D%2C%20%5B41.22850800000001%2C%20-81.627563%5D%2C%20%5B35.811947%2C%20-78.778778%5D%2C%20%5B43.118752%2C%20-87.918663%5D%2C%20%5B41.74387%2C%20-87.83663%5D%2C%20%5B41.995083%2C%20-73.875603%5D%2C%20%5B34.868694%2C%20-82.358223%5D%2C%20%5B30.31513%2C%20-81.770172%5D%2C%20%5B36.96719%2C%20-119.523369%5D%2C%20%5B34.07978%2C%20-118.22052%5D%2C%20%5B42.351097%2C%20-83.04805%5D%2C%20%5B35.788666%2C%20-78.6448%5D%2C%20%5B45.808836%2C%20-119.959298%5D%2C%20%5B35.213772%2C%20-80.844551%5D%2C%20%5B32.852734000000005%2C%20-79.98790699999998%5D%2C%20%5B34.01189%2C%20-78.776825%5D%2C%20%5B38.020227%2C%20-121.941774%5D%2C%20%5B32.796326%2C%20-79.85305%5D%2C%20%5B33.74641%2C%20-118.00703%5D%2C%20%5B38.642739%2C%20-121.123429%5D%2C%20%5B41.82602%2C%20-71.42199000000002%5D%2C%20%5B42.310743%2C%20-114.57474%5D%2C%20%5B41.828971%2C%20-88.102264%5D%2C%20%5B40.336044%2C%20-74.100212%5D%2C%20%5B38.550306%2C%20-121.473874%5D%2C%20%5B45.678768%2C%20-122.640488%5D%2C%20%5B26.19994%2C%20-80.29573%5D%2C%20%5B45.180314%2C%20-93.112643%5D%2C%20%5B45.659126%2C%20-118.73061%5D%2C%20%5B30.425871%2C%20-87.21528599999998%5D%2C%20%5B28.438370000000006%2C%20-81.39907%5D%2C%20%5B34.442467%2C%20-79.372826%5D%2C%20%5B40.924741%2C%20-123.69111399999998%5D%2C%20%5B35.17485%2C%20-82.189301%5D%2C%20%5B34.144809%2C%20-118.167533%5D%2C%20%5B34.690142%2C%20-117.800609%5D%2C%20%5B32.65696%2C%20-83.74406%5D%2C%20%5B33.310631%2C%20-80.647926%5D%2C%20%5B30.41938%2C%20-91.096611%5D%2C%20%5B30.466528000000004%2C%20-88.419449%5D%2C%20%5B40.1595%2C%20-75.408386%5D%2C%20%5B39.798363%2C%20-104.866501%5D%2C%20%5B39.363011%2C%20-123.502831%5D%2C%20%5B41.635811%2C%20-88.161911%5D%2C%20%5B42.39682%2C%20-88.18394%5D%2C%20%5B44.767823%2C%20-122.536004%5D%2C%20%5B39.492458%2C%20-119.784668%5D%2C%20%5B35.232121%2C%20-80.83416%5D%2C%20%5B32.923790000000004%2C%20-96.76877%5D%2C%20%5B33.919569%2C%20-117.103861%5D%2C%20%5B43.185287%2C%20-77.638885%5D%2C%20%5B39.32595%2C%20-120.60066%5D%2C%20%5B29.753016%2C%20-95.369347%5D%2C%20%5B25.450527%2C%20-80.44099399999998%5D%2C%20%5B36.628556%2C%20-121.838%5D%2C%20%5B31.55777%2C%20-85.545578%5D%2C%20%5B47.742413%2C%20-122.187187%5D%2C%20%5B39.248356%2C%20-112.103943%5D%2C%20%5B30.49571%2C%20-97.745689%5D%2C%20%5B36.959255%2C%20-76.410736%5D%2C%20%5B34.152344%2C%20-118.094184%5D%2C%20%5B33.65785%2C%20-117.77778%5D%2C%20%5B28.73176%2C%20-82.360786%5D%2C%20%5B28.019495000000006%2C%20-82.726128%5D%2C%20%5B33.934027%2C%20-79.083893%5D%2C%20%5B27.27873%2C%20-80.36155%5D%2C%20%5B37.001641%2C%20-122.020908%5D%2C%20%5B45.45631%2C%20-123.846039%5D%2C%20%5B45.426481%2C%20-122.744246%5D%2C%20%5B42.498013%2C%20-83.53607199999998%5D%2C%20%5B44.781963%2C%20-93.469521%5D%2C%20%5B33.86898%2C%20-117.73051%5D%2C%20%5B40.50203%2C%20-111.89099%5D%2C%20%5B39.349953%2C%20-76.496826%5D%2C%20%5B33.441685%2C%20-86.73050699999997%5D%2C%20%5B41.59145%2C%20-84.05396999999998%5D%2C%20%5B40.168743%2C%20-75.144524%5D%2C%20%5B35.215614%2C%20-80.923088%5D%2C%20%5B42.376877%2C%20-71.163521%5D%2C%20%5B45.10885%2C%20-93.30116%5D%2C%20%5B25.526896%2C%20-80.453445%5D%2C%20%5B36.14062%2C%20-86.73200000000001%5D%2C%20%5B43.243271%2C%20-75.68313%5D%2C%20%5B37.60344%2C%20-77.5019%5D%2C%20%5B37.772062%2C%20-122.224812%5D%2C%20%5B38.614121%2C%20-90.196248%5D%2C%20%5B33.690109%2C%20-117.768278%5D%2C%20%5B36.774387%2C%20-120.721519%5D%2C%20%5B29.958648%2C%20-90.076956%5D%2C%20%5B33.461849%2C%20-112.119865%5D%2C%20%5B41.81557100000001%2C%20-71.413433%5D%2C%20%5B35.3525%2C%20-119.018611%5D%2C%20%5B29.728859000000003%2C%20-95.460205%5D%2C%20%5B39.096626%2C%20-76.80127%5D%2C%20%5B45.303994%2C%20-118.052703%5D%2C%20%5B27.481690000000004%2C%20-82.40563%5D%2C%20%5B34.06697%2C%20-117.44821%5D%2C%20%5B39.279392%2C%20-121.098976%5D%2C%20%5B34.046562%2C%20-118.446243%5D%2C%20%5B39.309693%2C%20-76.74507%5D%2C%20%5B29.810841%2C%20-95.492599%5D%2C%20%5B37.628124%2C%20-122.121002%5D%2C%20%5B37.808491%2C%20-122.367348%5D%2C%20%5B45.276386%2C%20-111.340302%5D%2C%20%5B34.07966%2C%20-117.62709%5D%2C%20%5B37.253855%2C%20-121.880768%5D%2C%20%5B38.91095%2C%20-76.98719799999998%5D%2C%20%5B38.59486%2C%20-121.44422%5D%2C%20%5B31.228586%2C%20-85.434753%5D%2C%20%5B34.0516%2C%20-118.458568%5D%2C%20%5B34.001225%2C%20-117.350575%5D%2C%20%5B45.352692%2C%20-122.613117%5D%2C%20%5B39.769241%2C%20-86.326859%5D%2C%20%5B33.980759%2C%20-81.10700200000002%5D%2C%20%5B40.759106%2C%20-74.20826%5D%2C%20%5B36.14729000000001%2C%20-86.744014%5D%2C%20%5B45.51564000000001%2C%20-122.69931%5D%2C%20%5B35.246262%2C%20-80.96977199999998%5D%2C%20%5B33.932809000000006%2C%20-118.299072%5D%2C%20%5B30.24247%2C%20-97.717247%5D%2C%20%5B37.66398%2C%20-110.19126%5D%2C%20%5B33.76878%2C%20-84.651474%5D%2C%20%5B28.537449%2C%20-81.363747%5D%2C%20%5B33.826571%2C%20-118.20467%5D%2C%20%5B34.016396%2C%20-117.55011%5D%2C%20%5B38.597488%2C%20-120.223083%5D%2C%20%5B30.336119%2C%20-81.679245%5D%2C%20%5B37.82254%2C%20-122.269028%5D%2C%20%5B39.29538%2C%20-76.5876%5D%2C%20%5B35.985119%2C%20-79.884499%5D%2C%20%5B42.972706%2C%20-85.68%5D%2C%20%5B35.10296%2C%20-80.88443000000002%5D%2C%20%5B35.79492600000001%2C%20-78.583477%5D%2C%20%5B38.64996%2C%20-96.029381%5D%2C%20%5B41.23195%2C%20-111.97025%5D%2C%20%5B43.00214%2C%20-83.749329%5D%2C%20%5B28.341225%2C%20-81.516366%5D%2C%20%5B45.70483%2C%20-118.03411%5D%2C%20%5B45.6164%2C%20-123.06754%5D%2C%20%5B39.446174%2C%20-75.22003199999997%5D%2C%20%5B42.975567%2C%20-85.627151%5D%2C%20%5B33.944844%2C%20-118.099155%5D%2C%20%5B33.955366999999995%2C%20-84.516286%5D%2C%20%5B47.642921%2C%20-122.316978%5D%2C%20%5B25.684137%2C%20-80.416422%5D%2C%20%5B33.904366%2C%20-117.460419%5D%2C%20%5B34.003586%2C%20-84.336052%5D%2C%20%5B34.556847%2C%20-118.132202%5D%2C%20%5B37.690708%2C%20-122.093391%5D%2C%20%5B37.312778%2C%20-77.335709%5D%2C%20%5B34.284428000000005%2C%20-83.83221400000002%5D%2C%20%5B32.894997%2C%20-96.838326%5D%2C%20%5B43.14334%2C%20-77.5716%5D%2C%20%5B40.83593%2C%20-73.870201%5D%2C%20%5B39.82748%2C%20-86.03294%5D%2C%20%5B32.8405%2C%20-97.35307%5D%2C%20%5B33.468616%2C%20-82.027214%5D%2C%20%5B25.701238%2C%20-80.334038%5D%2C%20%5B34.895032%2C%20-120.418297%5D%2C%20%5B35.786358%2C%20-78.642967%5D%2C%20%5B33.82124%2C%20-117.51876%5D%2C%20%5B41.7567%2C%20-71.43506%5D%2C%20%5B26.524%2C%20-80.07266%5D%2C%20%5B34.134529%2C%20-117.379227%5D%2C%20%5B33.48558%2C%20-80.47148100000003%5D%2C%20%5B37.7961%2C%20-122.26892%5D%2C%20%5B35.352276%2C%20-118.99953899999998%5D%2C%20%5B33.99814%2C%20-118.14721000000002%5D%2C%20%5B37.864692%2C%20-122.574474%5D%2C%20%5B40.70581%2C%20-73.45575%5D%2C%20%5B32.749432%2C%20-96.822884%5D%2C%20%5B37.86472%2C%20-122.3033%5D%2C%20%5B38.43195%2C%20-121.488797%5D%2C%20%5B37.145508%2C%20-121.98497%5D%2C%20%5B37.663849%2C%20-121.682167%5D%2C%20%5B38.11006500000001%2C%20-84.583145%5D%2C%20%5B43.211649%2C%20-124.242568%5D%2C%20%5B29.60942%2C%20-95.38658%5D%2C%20%5B29.77053%2C%20-95.21562%5D%2C%20%5B41.707539%2C%20-71.154648%5D%2C%20%5B33.736964%2C%20-84.325336%5D%2C%20%5B30.359659000000004%2C%20-97.69095%5D%2C%20%5B36.82766%2C%20-76.07771%5D%2C%20%5B27.599798%2C%20-82.292763%5D%2C%20%5B39.997544%2C%20-105.25382%5D%2C%20%5B30.456074%2C%20-91.10688%5D%2C%20%5B34.025543%2C%20-117.751869%5D%2C%20%5B32.7804%2C%20-96.77406%5D%2C%20%5B40.16364%2C%20-75.48588000000002%5D%2C%20%5B25.846719%2C%20-80.38744799999998%5D%2C%20%5B34.174116999999995%2C%20-118.159691%5D%2C%20%5B41.42483%2C%20-81.53556999999998%5D%2C%20%5B40.79678300000001%2C%20-73.47285600000002%5D%2C%20%5B30.611547%2C%20-90.971381%5D%2C%20%5B41.882622%2C%20-87.969101%5D%2C%20%5B39.096249%2C%20-94.590042%5D%2C%20%5B32.726448%2C%20-97.320595%5D%2C%20%5B33.803047%2C%20-84.407753%5D%2C%20%5B35.949787%2C%20-119.107506%5D%2C%20%5B29.685272%2C%20-95.400002%5D%2C%20%5B40.277489%2C%20-75.260452%5D%2C%20%5B30.074467%2C%20-95.411568%5D%2C%20%5B31.211366%2C%20-83.459237%5D%2C%20%5B32.042278%2C%20-81.1483%5D%2C%20%5B37.147876%2C%20-121.987865%5D%2C%20%5B33.737565000000004%2C%20-117.833658%5D%2C%20%5B33.89694%2C%20-117.48606%5D%2C%20%5B25.687515%2C%20-80.34970899999998%5D%2C%20%5B33.910015%2C%20-117.238937%5D%2C%20%5B40.841646%2C%20-73.88835999999998%5D%2C%20%5B32.7804%2C%20-96.77406%5D%2C%20%5B35.889931%2C%20-78.562668%5D%2C%20%5B38.160159%2C%20-121.295329%5D%2C%20%5B34.140846%2C%20-118.277763%5D%2C%20%5B35.51263400000001%2C%20-97.578972%5D%2C%20%5B29.732616%2C%20-95.605789%5D%2C%20%5B35.719669%2C%20-78.65412099999998%5D%2C%20%5B25.68692%2C%20-80.416652%5D%2C%20%5B34.356003%2C%20-79.318962%5D%2C%20%5B35.688873%2C%20-119.229553%5D%2C%20%5B34.186609999999995%2C%20-118.40127%5D%2C%20%5B37.649326%2C%20-122.091366%5D%2C%20%5B32.16315%2C%20-110.93353%5D%2C%20%5B29.47904%2C%20-98.5225%5D%2C%20%5B29.400236%2C%20-98.534142%5D%2C%20%5B39.086237%2C%20-77.753079%5D%2C%20%5B37.489824%2C%20-121.929538%5D%2C%20%5B34.42171%2C%20-119.628923%5D%2C%20%5B43.658895%2C%20-122.228839%5D%2C%20%5B38.82814000000001%2C%20-77.117789%5D%2C%20%5B28.91541%2C%20-82.47191%5D%2C%20%5B38.61859000000001%2C%20-121.419315%5D%2C%20%5B38.096428%2C%20-122.56179%5D%2C%20%5B38.01267%2C%20-122.27148%5D%2C%20%5B25.510592000000006%2C%20-80.412231%5D%2C%20%5B25.703383%2C%20-80.29084300000002%5D%2C%20%5B29.784176%2C%20-95.531746%5D%2C%20%5B41.82506%2C%20-71.43027%5D%2C%20%5B34.031918%2C%20-118.27449%5D%2C%20%5B33.754559%2C%20-84.378334%5D%2C%20%5B45.19354000000001%2C%20-93.33621%5D%2C%20%5B43.01427%2C%20-87.91599000000002%5D%2C%20%5B36.371947%2C%20-119.637017%5D%2C%20%5B25.796963%2C%20-80.321442%5D%2C%20%5B39.174072%2C%20-119.766914%5D%2C%20%5B36.1665%2C%20-86.61210600000003%5D%2C%20%5B38.633268%2C%20-121.501156%5D%2C%20%5B48.200294%2C%20-122.125183%5D%2C%20%5B30.190384%2C%20-97.770691%5D%2C%20%5B35.906258%2C%20-84.144989%5D%2C%20%5B34.125538%2C%20-117.201467%5D%2C%20%5B33.117490000000004%2C%20-111.84189%5D%2C%20%5B45.061576%2C%20-123.572199%5D%2C%20%5B33.460346%2C%20-86.94498399999998%5D%2C%20%5B35.76654%2C%20-78.73536999999997%5D%2C%20%5B35.03145%2C%20-85.31608%5D%2C%20%5B33.829116%2C%20-118.208125%5D%2C%20%5B43.031048%2C%20-87.97890500000003%5D%2C%20%5B35.96431%2C%20-119.30406200000002%5D%2C%20%5B25.98505%2C%20-80.16551199999998%5D%2C%20%5B38.553616%2C%20-121.474228%5D%2C%20%5B39.701485%2C%20-76.332882%5D%2C%20%5B42.484062%2C%20-83.084908%5D%2C%20%5B38.06496%2C%20-122.165245%5D%2C%20%5B39.523719%2C%20-76.350352%5D%2C%20%5B30.492392%2C%20-91.124165%5D%2C%20%5B30.455866%2C%20-81.62674799999998%5D%2C%20%5B40.9148%2C%20-73.7829%5D%2C%20%5B35.0955%2C%20-106.56342%5D%2C%20%5B29.697090000000006%2C%20-95.333977%5D%2C%20%5B41.9003%2C%20-87.91969%5D%2C%20%5B39.229913%2C%20-76.71419200000003%5D%2C%20%5B27.571014%2C%20-82.57296%5D%2C%20%5B32.323212%2C%20-86.238068%5D%2C%20%5B28.486384%2C%20-81.441927%5D%2C%20%5B34.446281%2C%20-82.70642099999998%5D%2C%20%5B33.420059%2C%20-82.03244000000002%5D%2C%20%5B34.129997%2C%20-117.933472%5D%2C%20%5B42.88854600000001%2C%20-83.55252800000002%5D%2C%20%5B39.91368%2C%20-83.01722%5D%2C%20%5B35.416874%2C%20-97.489876%5D%2C%20%5B29.769444%2C%20-95.365273%5D%2C%20%5B30.509251000000006%2C%20-91.144386%5D%2C%20%5B33.964459999999995%2C%20-117.32559%5D%2C%20%5B42.040455%2C%20-87.819801%5D%2C%20%5B42.359558%2C%20-83.436134%5D%2C%20%5B28.306784000000004%2C%20-81.57002299999998%5D%2C%20%5B40.82418%2C%20-111.9488%5D%2C%20%5B44.77%2C%20-123.04471%5D%2C%20%5B44.58424%2C%20-121.15328%5D%2C%20%5B32.268703%2C%20-110.91813700000002%5D%2C%20%5B45.83283%2C%20-119.76293%5D%2C%20%5B33.785431%2C%20-84.383003%5D%2C%20%5B28.597589000000006%2C%20-81.215836%5D%2C%20%5B33.165333000000004%2C%20-87.55017099999998%5D%2C%20%5B30.441628%2C%20-91.130127%5D%2C%20%5B35.842911%2C%20-78.680161%5D%2C%20%5B41.452225%2C%20-81.69049100000002%5D%2C%20%5B34.58413400000001%2C%20-119.266633%5D%2C%20%5B44.889603%2C%20-93.350197%5D%2C%20%5B40.767174%2C%20-74.021164%5D%2C%20%5B34.21394%2C%20-80.98552%5D%2C%20%5B45.287758%2C%20-93.002441%5D%2C%20%5B38.678394%2C%20-77.787086%5D%2C%20%5B42.84966%2C%20-85.80855%5D%2C%20%5B42.973518%2C%20-85.639778%5D%2C%20%5B33.801968%2C%20-118.114662%5D%2C%20%5B34.054359000000005%2C%20-118.004349%5D%2C%20%5B38.892086%2C%20-76.847115%5D%2C%20%5B34.299048%2C%20-118.419774%5D%2C%20%5B34.036964000000005%2C%20-81.110214%5D%2C%20%5B37.803886%2C%20-122.301971%5D%2C%20%5B37.467678%2C%20-122.292015%5D%2C%20%5B37.641724%2C%20-121.223369%5D%2C%20%5B44.26867%2C%20-93.95925%5D%2C%20%5B40.836418%2C%20-73.873695%5D%2C%20%5B40.568008%2C%20-75.519661%5D%2C%20%5B34.063507%2C%20-117.287646%5D%2C%20%5B33.262867%2C%20-111.789566%5D%2C%20%5B34.071098%2C%20-83.551976%5D%2C%20%5B35.623581%2C%20-97.52066%5D%2C%20%5B41.636294%2C%20-91.035701%5D%2C%20%5B40.987941%2C%20-77.547007%5D%2C%20%5B33.854225%2C%20-117.79065%5D%2C%20%5B44.979195%2C%20-93.287598%5D%2C%20%5B39.494518%2C%20-76.667458%5D%2C%20%5B33.190201%2C%20-87.561035%5D%2C%20%5B38.41405%2C%20-121.900075%5D%2C%20%5B39.60568%2C%20-77.72584%5D%2C%20%5B34.54484%2C%20-118.127839%5D%2C%20%5B37.901941%2C%20-122.07045%5D%2C%20%5B35.22214%2C%20-80.86839%5D%2C%20%5B30.285372%2C%20-97.76326%5D%2C%20%5B28.556536%2C%20-82.377586%5D%2C%20%5B37.584019%2C%20-77.469452%5D%2C%20%5B33.844864%2C%20-117.8762%5D%2C%20%5B33.78525%2C%20-117.83116%5D%2C%20%5B34.833031%2C%20-82.296837%5D%2C%20%5B35.834835%2C%20-78.671143%5D%2C%20%5B41.10057000000001%2C%20-74.0332%5D%2C%20%5B44.984653%2C%20-93.349098%5D%2C%20%5B33.727823%2C%20-84.502447%5D%2C%20%5B34.14517%2C%20-118.2178%5D%2C%20%5B34.05057%2C%20-118.21411%5D%2C%20%5B39.70282%2C%20-86.25953%5D%2C%20%5B28.381197%2C%20-81.50153399999998%5D%2C%20%5B38.897526%2C%20-77.198044%5D%2C%20%5B34.807114%2C%20-82.192184%5D%2C%20%5B33.873314%2C%20-118.011391%5D%2C%20%5B28.687494%2C%20-81.467943%5D%2C%20%5B26.01499%2C%20-80.305977%5D%2C%20%5B40.011005%2C%20-75.261002%5D%2C%20%5B38.808941%2C%20-104.840843%5D%2C%20%5B33.831833%2C%20-84.426376%5D%2C%20%5B43.22947%2C%20-73.84907%5D%2C%20%5B38.918627%2C%20-77.231966%5D%2C%20%5B42.030525%2C%20-88.26799799999998%5D%2C%20%5B29.70295%2C%20-95.352631%5D%2C%20%5B25.9406%2C%20-80.19075%5D%2C%20%5B47.593548%2C%20-122.32066299999998%5D%2C%20%5B38.825466%2C%20-104.822048%5D%2C%20%5B33.992104%2C%20-81.287842%5D%2C%20%5B34.649516%2C%20-110.344372%5D%2C%20%5B29.402763%2C%20-98.443993%5D%2C%20%5B35.33430900000001%2C%20-97.519661%5D%2C%20%5B42.47715%2C%20-83.202026%5D%2C%20%5B30.373568%2C%20-97.691101%5D%2C%20%5B37.830688%2C%20-121.288612%5D%2C%20%5B34.442699%2C%20-117.172638%5D%2C%20%5B33.856784999999995%2C%20-118.028526%5D%2C%20%5B38.960175%2C%20-92.253288%5D%2C%20%5B33.825357000000004%2C%20-118.218449%5D%2C%20%5B34.131531%2C%20-82.126389%5D%2C%20%5B33.743252000000005%2C%20-117.122719%5D%2C%20%5B40.629364%2C%20-74.301552%5D%2C%20%5B40.106889%2C%20-123.794385%5D%2C%20%5B32.67535%2C%20-117.10963999999998%5D%2C%20%5B42.49641%2C%20-83.35094000000002%5D%2C%20%5B38.1911%2C%20-85.72438000000002%5D%2C%20%5B33.622214%2C%20-84.42721%5D%2C%20%5B36.80404%2C%20-121.78381%5D%2C%20%5B39.120731%2C%20-78.192093%5D%2C%20%5B38.72373%2C%20-94.83404%5D%2C%20%5B32.926147%2C%20-96.828201%5D%2C%20%5B36.19214%2C%20-86.78002%5D%2C%20%5B35.338879%2C%20-80.824173%5D%2C%20%5B36.110241%2C%20-86.721214%5D%2C%20%5B34.76598%2C%20-118.78951%5D%2C%20%5B38.804497%2C%20-77.50415%5D%2C%20%5B33.774057%2C%20-117.94503600000002%5D%2C%20%5B36.692662%2C%20-80.731741%5D%2C%20%5B29.627291%2C%20-95.462578%5D%2C%20%5B41.036476%2C%20-73.816154%5D%2C%20%5B34.078632%2C%20-117.740792%5D%2C%20%5B34.056068%2C%20-117.5466%5D%2C%20%5B35.40015%2C%20-119.398903%5D%2C%20%5B38.89168%2C%20-76.95625%5D%2C%20%5B38.00557%2C%20-122.08276%5D%2C%20%5B33.884682%2C%20-79.504295%5D%2C%20%5B34.154546999999994%2C%20-118.15761299999998%5D%2C%20%5B32.695114000000004%2C%20-96.894516%5D%2C%20%5B33.864239000000005%2C%20-117.260524%5D%2C%20%5B33.933846%2C%20-118.361327%5D%2C%20%5B38.94679%2C%20-94.88211%5D%2C%20%5B47.698704%2C%20-122.344612%5D%2C%20%5B40.676997%2C%20-74.001551%5D%2C%20%5B36.254787%2C%20-119.708995%5D%2C%20%5B43.089489%2C%20-83.694153%5D%2C%20%5B44.86203%2C%20-93.459877%5D%2C%20%5B38.6414%2C%20-121.46097%5D%2C%20%5B25.83329%2C%20-80.321823%5D%2C%20%5B45.4982%2C%20-94.1882%5D%2C%20%5B25.595026%2C%20-80.454201%5D%2C%20%5B44.981866%2C%20-123.325347%5D%2C%20%5B35.76779600000001%2C%20-78.624756%5D%2C%20%5B34.05365%2C%20-118.450302%5D%2C%20%5B34.275005%2C%20-119.18943%5D%2C%20%5B37.64876%2C%20-122.09684%5D%2C%20%5B33.928490000000004%2C%20-118.23848%5D%2C%20%5B41.825729%2C%20-71.419891%5D%2C%20%5B42.536022%2C%20-70.989143%5D%2C%20%5B39.65375%2C%20-86.08267%5D%2C%20%5B35.870861%2C%20-78.58048199999998%5D%2C%20%5B38.861839%2C%20-94.527297%5D%2C%20%5B39.877735%2C%20-75.009712%5D%2C%20%5B29.668159000000006%2C%20-95.262161%5D%2C%20%5B32.276871%2C%20-90.186943%5D%2C%20%5B45.38233%2C%20-92.70356%5D%2C%20%5B40.25105300000001%2C%20-75.311134%5D%2C%20%5B44.89357800000001%2C%20-123.22863999999998%5D%2C%20%5B44.944942%2C%20-93.077974%5D%2C%20%5B33.628392%2C%20-117.72041000000002%5D%2C%20%5B35.959545%2C%20-83.959641%5D%2C%20%5B42.007641%2C%20-88.144699%5D%2C%20%5B39.022774%2C%20-76.946196%5D%2C%20%5B37.900803%2C%20-121.221181%5D%2C%20%5B28.198267%2C%20-82.739933%5D%2C%20%5B42.068367%2C%20-86.436447%5D%2C%20%5B44.966118%2C%20-93.26992%5D%2C%20%5B32.807598%2C%20-96.77018%5D%2C%20%5B32.74194%2C%20-117.01635%5D%2C%20%5B39.419824%2C%20-76.63930500000002%5D%2C%20%5B33.614851%2C%20-117.707571%5D%2C%20%5B37.033898%2C%20-76.344992%5D%2C%20%5B40.66928%2C%20-111.90125%5D%2C%20%5B39.01536%2C%20-77.12218%5D%2C%20%5B35.733901%2C%20-83.024615%5D%2C%20%5B26.706161%2C%20-80.0755%5D%2C%20%5B29.796470000000006%2C%20-95.56363%5D%2C%20%5B30.43015%2C%20-81.57575%5D%2C%20%5B36.152027%2C%20-86.858772%5D%2C%20%5B32.80436%2C%20-96.92179%5D%2C%20%5B32.729519%2C%20-96.763618%5D%2C%20%5B38.66408%2C%20-121.35702%5D%2C%20%5B27.841195000000006%2C%20-82.634654%5D%2C%20%5B30.230549%2C%20-97.721176%5D%2C%20%5B39.097928%2C%20-77.532943%5D%2C%20%5B34.057133%2C%20-83.99296600000002%5D%2C%20%5B34.93334%2C%20-86.77399%5D%2C%20%5B34.885670000000005%2C%20-82.353241%5D%2C%20%5B38.27337%2C%20-122.671511%5D%2C%20%5B39.914187%2C%20-104.98981100000002%5D%2C%20%5B41.65237%2C%20-93.70524%5D%2C%20%5B39.519516%2C%20-76.18561600000002%5D%2C%20%5B32.94052%2C%20-117.11036%5D%2C%20%5B33.010415%2C%20-96.843555%5D%2C%20%5B37.683941%2C%20-121.053268%5D%2C%20%5B41.8355%2C%20-87.68427%5D%2C%20%5B37.321537%2C%20-120.543%5D%2C%20%5B44.09844%2C%20-92.51252%5D%2C%20%5B34.0065%2C%20-118.15532%5D%2C%20%5B33.951512%2C%20-117.385319%5D%2C%20%5B34.69158%2C%20-87.61699%5D%2C%20%5B38.2313%2C%20-122.112427%5D%2C%20%5B26.593019%2C%20-81.678833%5D%2C%20%5B34.070578000000005%2C%20-117.394568%5D%2C%20%5B29.675625%2C%20-95.508644%5D%2C%20%5B41.85968%2C%20-87.9193%5D%2C%20%5B41.31953%2C%20-72.89338000000002%5D%2C%20%5B39.461616%2C%20-85.6466%5D%2C%20%5B33.766376%2C%20-84.527321%5D%2C%20%5B33.721989%2C%20-81.567627%5D%2C%20%5B38.820179%2C%20-77.645348%5D%2C%20%5B39.292385%2C%20-76.701775%5D%2C%20%5B44.847971%2C%20-93.2981%5D%2C%20%5B33.742939%2C%20-84.3694%5D%2C%20%5B33.889848%2C%20-117.646279%5D%2C%20%5B34.726971%2C%20-82.388802%5D%2C%20%5B33.96816%2C%20-118.16765%5D%2C%20%5B29.804487%2C%20-95.284676%5D%2C%20%5B42.240475%2C%20-87.954994%5D%2C%20%5B32.194614%2C%20-110.839821%5D%2C%20%5B39.95252%2C%20-75.20924000000002%5D%2C%20%5B41.56821%2C%20-87.30626%5D%2C%20%5B47.613728%2C%20-122.33918%5D%2C%20%5B29.779791%2C%20-95.42202%5D%2C%20%5B26.665253000000003%2C%20-81.806938%5D%2C%20%5B36.966522%2C%20-76.29454%5D%2C%20%5B26.712645%2C%20-80.078094%5D%2C%20%5B26.350828000000003%2C%20-80.117874%5D%2C%20%5B28.422651%2C%20-81.404776%5D%2C%20%5B32.599148%2C%20-97.319351%5D%2C%20%5B33.796211%2C%20-84.393692%5D%2C%20%5B39.494827%2C%20-122.249046%5D%2C%20%5B34.039394%2C%20-81.09461999999998%5D%2C%20%5B40.64817%2C%20-75.28378000000002%5D%2C%20%5B34.154144%2C%20-118.157204%5D%2C%20%5B41.949393%2C%20-71.345545%5D%2C%20%5B33.4413%2C%20-112.03758%5D%2C%20%5B41.72765%2C%20-88.02793100000002%5D%2C%20%5B33.854836%2C%20-81.537216%5D%2C%20%5B42.25196%2C%20-83.30088%5D%2C%20%5B38.462669%2C%20-77.406853%5D%2C%20%5B40.67399%2C%20-73.80162%5D%2C%20%5B32.868053%2C%20-96.6679%5D%2C%20%5B41.839109%2C%20-124.025103%5D%2C%20%5B30.288469%2C%20-97.629768%5D%2C%20%5B25.855227%2C%20-80.185488%5D%2C%20%5B33.474172%2C%20-112.03867%5D%2C%20%5B33.45645%2C%20-117.651695%5D%2C%20%5B43.869709%2C%20-121.403229%5D%2C%20%5B39.848934%2C%20-104.985458%5D%2C%20%5B34.020934999999994%2C%20-117.814174%5D%2C%20%5B32.713161%2C%20-96.822952%5D%2C%20%5B35.553951%2C%20-80.779701%5D%2C%20%5B41.66563%2C%20-71.16181999999998%5D%2C%20%5B33.759769%2C%20-78.925331%5D%2C%20%5B33.761036%2C%20-84.493912%5D%2C%20%5B26.007168%2C%20-80.166661%5D%2C%20%5B33.512069%2C%20-84.238785%5D%2C%20%5B40.665218%2C%20-73.901833%5D%2C%20%5B29.91803%2C%20-95.55596%5D%2C%20%5B32.94062%2C%20-80.050674%5D%2C%20%5B33.371272999999995%2C%20-117.25231200000002%5D%2C%20%5B30.584194%2C%20-84.610716%5D%2C%20%5B29.626797%2C%20-95.507423%5D%2C%20%5B36.911755%2C%20-76.262229%5D%2C%20%5B45.546417%2C%20-122.537422%5D%2C%20%5B34.293552000000005%2C%20-81.545998%5D%2C%20%5B29.8392%2C%20-95.56395%5D%2C%20%5B34.141838%2C%20-81.47138199999998%5D%2C%20%5B34.170799%2C%20-118.605888%5D%2C%20%5B29.588482%2C%20-98.474304%5D%2C%20%5B41.089329%2C%20-95.928154%5D%2C%20%5B33.728005%2C%20-117.989146%5D%2C%20%5B32.79177%2C%20-96.73262%5D%2C%20%5B36.833655%2C%20-76.133104%5D%2C%20%5B28.618668%2C%20-81.26604499999998%5D%2C%20%5B26.676285%2C%20-80.069511%5D%2C%20%5B33.928787%2C%20-118.280396%5D%2C%20%5B42.240471%2C%20-87.945427%5D%2C%20%5B30.190487%2C%20-97.770775%5D%2C%20%5B35.07535900000001%2C%20-82.574692%5D%2C%20%5B35.852299%2C%20-78.55246%5D%2C%20%5B33.536347%2C%20-112.269593%5D%2C%20%5B42.1232%2C%20-87.81306%5D%2C%20%5B36.115044%2C%20-95.904839%5D%2C%20%5B45.577843%2C%20-92.992676%5D%2C%20%5B47.770689%2C%20-97.077995%5D%2C%20%5B35.172508%2C%20-80.857925%5D%2C%20%5B34.128807%2C%20-118.346901%5D%2C%20%5B38.628937%2C%20-90.31842%5D%2C%20%5B43.15556%2C%20-77.56851999999998%5D%2C%20%5B28.436211%2C%20-81.36751600000002%5D%2C%20%5B29.814776%2C%20-95.361243%5D%2C%20%5B33.712331%2C%20-117.360216%5D%2C%20%5B39.019748%2C%20-76.960263%5D%2C%20%5B38.889119%2C%20-122.604404%5D%2C%20%5B41.903865%2C%20-88.116721%5D%2C%20%5B40.001102%2C%20-77.105858%5D%2C%20%5B39.97547%2C%20-83.11887%5D%2C%20%5B29.347711%2C%20-98.425086%5D%2C%20%5B26.546141%2C%20-80.07154799999998%5D%2C%20%5B44.28854000000001%2C%20-92.47131%5D%2C%20%5B33.984337%2C%20-117.842659%5D%2C%20%5B35.897446%2C%20-78.760124%5D%2C%20%5B34.81987%2C%20-82.267776%5D%2C%20%5B34.135921%2C%20-117.399917%5D%2C%20%5B33.628387%2C%20-84.455798%5D%2C%20%5B38.730213%2C%20-120.815453%5D%2C%20%5B37.29196500000001%2C%20-80.10601%5D%2C%20%5B45.44751%2C%20-122.885063%5D%2C%20%5B44.88729%2C%20-93.36902%5D%2C%20%5B36.613003000000006%2C%20-121.566677%5D%2C%20%5B44.636921%2C%20-123.944223%5D%2C%20%5B34.440208%2C%20-118.626213%5D%2C%20%5B41.058739%2C%20-73.82265500000003%5D%2C%20%5B42.054787%2C%20-87.828659%5D%2C%20%5B38.410355%2C%20-122.949272%5D%2C%20%5B34.03072%2C%20-117.58908999999998%5D%2C%20%5B32.79096%2C%20-96.75879%5D%2C%20%5B33.911048%2C%20-117.448379%5D%2C%20%5B40.132198%2C%20-75.38472%5D%2C%20%5B42.366279%2C%20-88.16917%5D%2C%20%5B28.19508%2C%20-82.753723%5D%2C%20%5B40.23333%2C%20-75.23606%5D%2C%20%5B27.780865%2C%20-82.705403%5D%2C%20%5B38.48437%2C%20-77.39264%5D%2C%20%5B42.417213%2C%20-82.937149%5D%2C%20%5B34.16597%2C%20-118.15825%5D%2C%20%5B28.508842%2C%20-81.4188%5D%2C%20%5B30.181101%2C%20-92.019287%5D%2C%20%5B33.975271%2C%20-117.098964%5D%2C%20%5B44.512001%2C%20-88.15023000000002%5D%2C%20%5B34.886608%2C%20-82.302628%5D%2C%20%5B35.020790000000005%2C%20-82.430672%5D%2C%20%5B27.949539%2C%20-82.354291%5D%2C%20%5B42.912647%2C%20-85.628098%5D%2C%20%5B45.980362%2C%20-118.38731%5D%2C%20%5B40.117485%2C%20-74.755852%5D%2C%20%5B40.079453%2C%20-75.306885%5D%2C%20%5B33.91426%2C%20-84.35101999999998%5D%2C%20%5B33.92889%2C%20-118.290387%5D%2C%20%5B33.493053%2C%20-81.916809%5D%2C%20%5B41.55035%2C%20-73.058807%5D%2C%20%5B34.039364%2C%20-81.09362%5D%2C%20%5B30.439457%2C%20-91.195885%5D%2C%20%5B30.461046000000003%2C%20-91.1017%5D%2C%20%5B30.346817%2C%20-91.029877%5D%2C%20%5B41.195404%2C%20-73.687111%5D%2C%20%5B32.626587%2C%20-117.042435%5D%2C%20%5B41.902813%2C%20-70.964836%5D%2C%20%5B33.69834%2C%20-84.445198%5D%2C%20%5B34.978237%2C%20-82.01215400000002%5D%2C%20%5B37.653018%2C%20-122.110347%5D%2C%20%5B35.060604%2C%20-80.95616899999997%5D%2C%20%5B37.333656%2C%20-121.937309%5D%2C%20%5B41.597282%2C%20-90.459%5D%2C%20%5B35.116946%2C%20-118.492662%5D%2C%20%5B40.587749%2C%20-111.942238%5D%2C%20%5B45.063548%2C%20-122.941008%5D%2C%20%5B34.436089%2C%20-118.59381100000002%5D%2C%20%5B44.95825%2C%20-93.09101%5D%2C%20%5B33.448669%2C%20-86.81770300000002%5D%2C%20%5B33.751104%2C%20-84.451187%5D%2C%20%5B33.942863%2C%20-118.027616%5D%2C%20%5B36.474678%2C%20-119.636185%5D%2C%20%5B42.43594%2C%20-83.09479499999998%5D%2C%20%5B45.302868%2C%20-122.769089%5D%2C%20%5B32.894137%2C%20-96.768718%5D%2C%20%5B25.930752%2C%20-80.204658%5D%2C%20%5B30.235531%2C%20-97.756363%5D%2C%20%5B39.842079%2C%20-105.131844%5D%2C%20%5B45.03664000000001%2C%20-93.076149%5D%2C%20%5B39.457272%2C%20-84.203796%5D%2C%20%5B34.098019%2C%20-118.322304%5D%2C%20%5B46.75097%2C%20-92.10215%5D%2C%20%5B33.79483%2C%20-118.10495%5D%2C%20%5B40.49223%2C%20-80.01029%5D%2C%20%5B38.757019%2C%20-90.04418199999998%5D%2C%20%5B30.304363%2C%20-97.698616%5D%2C%20%5B37.14435%2C%20-121.98468%5D%2C%20%5B39.10513%2C%20-94.75585%5D%2C%20%5B42.674099%2C%20-84.653938%5D%2C%20%5B38.56831500000001%2C%20-121.508156%5D%2C%20%5B34.002117%2C%20-117.35138700000002%5D%2C%20%5B34.842403000000004%2C%20-82.469841%5D%2C%20%5B34.031634000000004%2C%20-118.187841%5D%2C%20%5B35.6786%2C%20-80.413673%5D%2C%20%5B28.473476%2C%20-81.396745%5D%2C%20%5B43.981737%2C%20-121.458674%5D%2C%20%5B38.084829%2C%20-122.551131%5D%2C%20%5B25.80838%2C%20-80.26268%5D%2C%20%5B37.576256%2C%20-121.880296%5D%2C%20%5B26.276136%2C%20-80.12496800000002%5D%2C%20%5B34.120895000000004%2C%20-117.894768%5D%2C%20%5B45.316406%2C%20-122.908641%5D%2C%20%5B39.325465%2C%20-123.304154%5D%2C%20%5B41.767425%2C%20-72.655397%5D%2C%20%5B35.055637%2C%20-90.01421500000002%5D%2C%20%5B34.07856%2C%20-118.22003%5D%2C%20%5B35.4069%2C%20-97.57681%5D%2C%20%5B33.150058%2C%20-117.198304%5D%2C%20%5B42.04138%2C%20-88.29101999999997%5D%2C%20%5B34.861759%2C%20-82.356812%5D%2C%20%5B38.65714000000001%2C%20-121.38276%5D%2C%20%5B42.41544%2C%20-88.07307%5D%2C%20%5B32.874435%2C%20-96.68232%5D%2C%20%5B30.436905%2C%20-84.26178%5D%2C%20%5B39.27041%2C%20-76.65691%5D%2C%20%5B39.04810300000001%2C%20-77.150727%5D%2C%20%5B34.081623%2C%20-117.71933%5D%2C%20%5B40.13203%2C%20-75.19689%5D%2C%20%5B33.873735%2C%20-118.209129%5D%2C%20%5B37.827602%2C%20-120.96096%5D%2C%20%5B25.626145%2C%20-80.41645%5D%2C%20%5B32.745037%2C%20-96.727097%5D%2C%20%5B28.746777%2C%20-81.366837%5D%2C%20%5B44.385757%2C%20-88.41878%5D%2C%20%5B37.316435%2C%20-121.9683%5D%2C%20%5B41.72488900000001%2C%20-72.66996400000002%5D%2C%20%5B33.462959999999995%2C%20-112.1972%5D%2C%20%5B35.599983%2C%20-119.21067%5D%2C%20%5B40.25423%2C%20-76.82605%5D%2C%20%5B33.600056%2C%20-112.119736%5D%2C%20%5B40.64492%2C%20-73.798462%5D%2C%20%5B34.030426%2C%20-117.583967%5D%2C%20%5B33.93583%2C%20-118.09295%5D%2C%20%5B40.86097%2C%20-73.828407%5D%2C%20%5B34.148314%2C%20-118.697862%5D%2C%20%5B36.29757%2C%20-79.94039000000002%5D%2C%20%5B32.765476%2C%20-117.110092%5D%2C%20%5B33.705101%2C%20-117.954277%5D%2C%20%5B39.943171%2C%20-104.98801%5D%2C%20%5B33.83934%2C%20-81.21174599999998%5D%2C%20%5B42.760477%2C%20-86.097651%5D%2C%20%5B33.520920000000004%2C%20-86.849358%5D%2C%20%5B34.120349%2C%20-118.338995%5D%2C%20%5B47.590374%2C%20-122.322495%5D%2C%20%5B34.710896000000005%2C%20-120.435921%5D%2C%20%5B36.743415%2C%20-119.819212%5D%2C%20%5B36.157055%2C%20-84.072586%5D%2C%20%5B30.451363%2C%20-91.132179%5D%2C%20%5B37.509953%2C%20-122.251463%5D%2C%20%5B32.27523%2C%20-110.986656%5D%2C%20%5B39.349953%2C%20-76.496826%5D%2C%20%5B36.137406%2C%20-120.210546%5D%2C%20%5B29.832214%2C%20-95.545319%5D%2C%20%5B45.675305%2C%20-121.275275%5D%2C%20%5B33.854820000000004%2C%20-87.330933%5D%2C%20%5B34.074826%2C%20-117.200864%5D%2C%20%5B37.70137%2C%20-121.849892%5D%2C%20%5B34.053478000000005%2C%20-118.232361%5D%2C%20%5B39.753159%2C%20-86.145317%5D%2C%20%5B26.701811%2C%20-81.75923900000002%5D%2C%20%5B40.346798%2C%20-74.283051%5D%2C%20%5B33.25112%2C%20-111.94459%5D%2C%20%5B34.273708%2C%20-118.339525%5D%2C%20%5B47.95186%2C%20-122.10139%5D%2C%20%5B43.908273%2C%20-122.777967%5D%2C%20%5B33.410027%2C%20-82.026772%5D%2C%20%5B28.420101000000006%2C%20-81.474068%5D%2C%20%5B29.995175%2C%20-90.109659%5D%2C%20%5B37.361299%2C%20-118.422827%5D%2C%20%5B37.70154%2C%20-121.86729%5D%2C%20%5B39.76895%2C%20-104.79989%5D%2C%20%5B42.12421%2C%20-70.940239%5D%2C%20%5B40.20969%2C%20-77.930931%5D%2C%20%5B38.84876%2C%20-77.22027%5D%2C%20%5B38.206718%2C%20-77.498348%5D%2C%20%5B35.79040300000001%2C%20-119.250907%5D%2C%20%5B44.943146%2C%20-93.274513%5D%2C%20%5B26.01087%2C%20-80.171448%5D%2C%20%5B43.14227%2C%20-77.586198%5D%2C%20%5B47.780136%2C%20-92.656082%5D%2C%20%5B40.503956%2C%20-74.399178%5D%2C%20%5B34.142265%2C%20-80.803162%5D%2C%20%5B29.662374%2C%20-95.58564%5D%2C%20%5B34.04575%2C%20-81.101151%5D%2C%20%5B44.04017%2C%20-121.30637%5D%2C%20%5B29.73587%2C%20-95.624306%5D%2C%20%5B42.357838%2C%20-83.216385%5D%2C%20%5B40.854761%2C%20-73.96887199999998%5D%2C%20%5B41.808441%2C%20-88.083033%5D%2C%20%5B43.01852%2C%20-112.40792%5D%2C%20%5B40.129749%2C%20-76.304802%5D%2C%20%5B32.275871%2C%20-110.943787%5D%2C%20%5B27.88025%2C%20-82.82004%5D%2C%20%5B34.31171%2C%20-117.47612%5D%2C%20%5B33.835377%2C%20-79.577618%5D%2C%20%5B33.936032%2C%20-117.116711%5D%2C%20%5B39.049047%2C%20-76.93158000000003%5D%2C%20%5B35.044212%2C%20-85.16056%5D%2C%20%5B40.430653%2C%20-79.957886%5D%2C%20%5B36.110394%2C%20-86.773514%5D%2C%20%5B40.178471%2C%20-74.099467%5D%2C%20%5B35.042229%2C%20-80.76870699999998%5D%2C%20%5B40.79384%2C%20-73.93188%5D%2C%20%5B41.295947%2C%20-73.933402%5D%2C%20%5B35.805706%2C%20-90.635002%5D%2C%20%5B25.810097%2C%20-80.38633%5D%2C%20%5B32.74796%2C%20-97.30966%5D%2C%20%5B40.84584%2C%20-73.931061%5D%2C%20%5B42.37498%2C%20-83.21669%5D%2C%20%5B25.930767000000003%2C%20-80.188369%5D%2C%20%5B34.059242%2C%20-118.245747%5D%2C%20%5B34.629326%2C%20-86.952286%5D%2C%20%5B40.212502%2C%20-75.368759%5D%2C%20%5B38.712879%2C%20-121.044724%5D%2C%20%5B42.970169%2C%20-85.669083%5D%2C%20%5B30.191427%2C%20-81.715525%5D%2C%20%5B39.703497%2C%20-84.252185%5D%2C%20%5B40.70795%2C%20-74.15609%5D%2C%20%5B37.51784%2C%20-77.34283%5D%2C%20%5B25.748801%2C%20-80.335788%5D%2C%20%5B30.676277%2C%20-88.127258%5D%2C%20%5B33.98181%2C%20-118.07486000000002%5D%2C%20%5B37.73173900000001%2C%20-122.404314%5D%2C%20%5B35.20167199999999%2C%20-80.76059000000002%5D%2C%20%5B36.009444%2C%20-120.919167%5D%2C%20%5B37.32868%2C%20-122.05224%5D%2C%20%5B28.479132%2C%20-81.449211%5D%2C%20%5B34.053913%2C%20-84.593376%5D%2C%20%5B40.78463%2C%20-73.52877%5D%2C%20%5B41.86974%2C%20-87.88283%5D%2C%20%5B40.093609%2C%20-75.298668%5D%2C%20%5B45.52858%2C%20-122.687%5D%2C%20%5B39.74798%2C%20-86.03618%5D%2C%20%5B33.117684000000004%2C%20-117.31923700000002%5D%2C%20%5B40.73394%2C%20-73.86445%5D%2C%20%5B36.150608%2C%20-86.785187%5D%2C%20%5B33.91703%2C%20-84.33953100000002%5D%2C%20%5B41.891861%2C%20-87.91805%5D%2C%20%5B40.26649000000001%2C%20-77.04961999999998%5D%2C%20%5B37.94489%2C%20-122.4868%5D%2C%20%5B38.425636%2C%20-122.848244%5D%2C%20%5B40.653797%2C%20-74.008087%5D%2C%20%5B35.395851%2C%20-80.836617%5D%2C%20%5B33.462032%2C%20-112.065269%5D%2C%20%5B34.043694%2C%20-84.03072399999998%5D%2C%20%5B34.077183000000005%2C%20-118.282008%5D%2C%20%5B25.786051%2C%20-80.189095%5D%2C%20%5B40.72429%2C%20-111.9451%5D%2C%20%5B45.5699%2C%20-122.5509%5D%2C%20%5B35.795731%2C%20-78.652878%5D%2C%20%5B39.939968%2C%20-75.231018%5D%2C%20%5B40.81888%2C%20-73.0625%5D%2C%20%5B29.9419%2C%20-90.089462%5D%2C%20%5B27.43125%2C%20-82.575466%5D%2C%20%5B34.274888%2C%20-118.565327%5D%2C%20%5B37.76821500000001%2C%20-122.405867%5D%2C%20%5B33.433979%2C%20-111.891151%5D%2C%20%5B34.530892%2C%20-83.704642%5D%2C%20%5B42.474384%2C%20-83.43205999999998%5D%2C%20%5B40.69673%2C%20-73.981009%5D%2C%20%5B40.653797%2C%20-74.008087%5D%2C%20%5B30.48008%2C%20-91.115288%5D%2C%20%5B36.154049%2C%20-86.834572%5D%2C%20%5B39.110615%2C%20-84.530891%5D%2C%20%5B45.64668%2C%20-118.81773%5D%2C%20%5B32.672740999999995%2C%20-97.375305%5D%2C%20%5B34.068089%2C%20-117.524895%5D%2C%20%5B44.89127%2C%20-93.443504%5D%2C%20%5B37.811062%2C%20-122.249443%5D%2C%20%5B34.49213%2C%20-118.62088%5D%2C%20%5B36.854179%2C%20-97.345058%5D%2C%20%5B35.796188%2C%20-78.655128%5D%2C%20%5B42.49573%2C%20-83.36595%5D%2C%20%5B39.411201%2C%20-76.66444399999997%5D%2C%20%5B40.244148%2C%20-122.461685%5D%2C%20%5B44.86866%2C%20-93.43269%5D%2C%20%5B40.315157%2C%20-76.929048%5D%2C%20%5B29.937009000000003%2C%20-90.10552%5D%2C%20%5B45.496952%2C%20-122.6733%5D%2C%20%5B34.065105%2C%20-80.95668%5D%2C%20%5B35.346066%2C%20-80.840324%5D%2C%20%5B40.252823%2C%20-112.220993%5D%2C%20%5B40.33133%2C%20-74.63823000000002%5D%2C%20%5B39.186478%2C%20-84.263336%5D%2C%20%5B25.985781%2C%20-80.165138%5D%2C%20%5B26.121794%2C%20-80.168564%5D%2C%20%5B40.834332%2C%20-73.86479200000002%5D%2C%20%5B29.697517%2C%20-95.245819%5D%2C%20%5B34.16086%2C%20-118.381022%5D%2C%20%5B26.331472%2C%20-81.750259%5D%2C%20%5B41.429005%2C%20-73.80442%5D%2C%20%5B30.111213%2C%20-95.436524%5D%2C%20%5B39.29797%2C%20-76.57656899999998%5D%2C%20%5B42.37952%2C%20-83.03334%5D%2C%20%5B47.65423%2C%20-122.3226%5D%2C%20%5B33.808521%2C%20-84.377617%5D%2C%20%5B36.15404%2C%20-86.75744%5D%2C%20%5B34.858925%2C%20-82.259857%5D%2C%20%5B40.047408%2C%20-74.902173%5D%2C%20%5B33.437436%2C%20-111.960114%5D%2C%20%5B33.938182%2C%20-118.362444%5D%2C%20%5B30.252029%2C%20-81.497917%5D%2C%20%5B40.79794%2C%20-72.90724%5D%2C%20%5B33.91296%2C%20-84.28615%5D%2C%20%5B34.020092%2C%20-117.815084%5D%2C%20%5B34.15285%2C%20-118.121318%5D%2C%20%5B41.15498%2C%20-95.93864%5D%2C%20%5B38.965362%2C%20-77.180746%5D%2C%20%5B39.899204%2C%20-75.175499%5D%2C%20%5B40.522309%2C%20-111.8913%5D%2C%20%5B37.320629%2C%20-121.995506%5D%2C%20%5B40.39628%2C%20-79.99819000000002%5D%2C%20%5B34.064277000000004%2C%20-117.296063%5D%2C%20%5B41.123198%2C%20-73.345955%5D%2C%20%5B41.14727%2C%20-74.05892%5D%2C%20%5B35.796825%2C%20-78.656013%5D%2C%20%5B39.68162%2C%20-75.65576999999998%5D%2C%20%5B36.791141%2C%20-119.781446%5D%2C%20%5B40.00607%2C%20-78.43564%5D%2C%20%5B37.263173%2C%20-77.438827%5D%2C%20%5B34.03553400000001%2C%20-118.169891%5D%2C%20%5B34.068143%2C%20-117.860001%5D%2C%20%5B33.989822%2C%20-117.350021%5D%2C%20%5B29.90078%2C%20-90.07146999999998%5D%2C%20%5B43.944828%2C%20-91.719718%5D%2C%20%5B40.133495%2C%20-75.45159100000002%5D%2C%20%5B41.876633%2C%20-83.39579%5D%2C%20%5B43.419281%2C%20-73.27887%5D%2C%20%5B40.741914%2C%20-74.083929%5D%2C%20%5B40.163445%2C%20-82.923264%5D%2C%20%5B40.433189%2C%20-79.962447%5D%2C%20%5B40.45056%2C%20-76.5166%5D%2C%20%5B34.21175%2C%20-118.22831%5D%2C%20%5B33.989639000000004%2C%20-117.360039%5D%2C%20%5B41.80328%2C%20-87.948555%5D%2C%20%5B37.896904%2C%20-122.101845%5D%2C%20%5B43.09449%2C%20-76.04941%5D%2C%20%5B35.95776%2C%20-86.558089%5D%2C%20%5B33.809055%2C%20-118.287476%5D%2C%20%5B34.066502%2C%20-117.990723%5D%2C%20%5B28.494552%2C%20-81.395985%5D%2C%20%5B36.51785200000001%2C%20-119.521064%5D%2C%20%5B39.641579%2C%20-75.937703%5D%2C%20%5B40.687752%2C%20-75.250999%5D%2C%20%5B40.15394000000001%2C%20-76.82121%5D%2C%20%5B42.16773%2C%20-87.92178%5D%2C%20%5B40.721397%2C%20-73.394508%5D%2C%20%5B41.72046%2C%20-87.72135%5D%2C%20%5B38.12863%2C%20-77.51318%5D%2C%20%5B36.73968%2C%20-79.94612%5D%2C%20%5B38.927502%2C%20-76.927944%5D%2C%20%5B34.033724%2C%20-118.436737%5D%2C%20%5B37.74219%2C%20-121.525634%5D%2C%20%5B35.88548%2C%20-78.84295%5D%2C%20%5B34.081741%2C%20-80.924477%5D%2C%20%5B37.764023%2C%20-122.216843%5D%2C%20%5B31.21905%2C%20-83.46078%5D%2C%20%5B40.176604%2C%20-122.234133%5D%2C%20%5B37.777729%2C%20-122.167419%5D%2C%20%5B40.711143%2C%20-74.197266%5D%2C%20%5B34.078362%2C%20-117.741556%5D%2C%20%5B34.004472%2C%20-118.06387%5D%2C%20%5B33.87636%2C%20-118.08778%5D%2C%20%5B40.23268%2C%20-76.92636999999998%5D%2C%20%5B25.811501%2C%20-80.19859100000002%5D%2C%20%5B36.80449%2C%20-76.19686999999998%5D%2C%20%5B35.162884000000005%2C%20-80.876099%5D%2C%20%5B37.467233%2C%20-122.208957%5D%2C%20%5B26.980099%2C%20-82.023674%5D%2C%20%5B32.915925%2C%20-96.934979%5D%2C%20%5B34.0217%2C%20-118.17391%5D%2C%20%5B34.117523%2C%20-83.762787%5D%2C%20%5B42.27477%2C%20-71.05026%5D%2C%20%5B34.050568%2C%20-118.214081%5D%2C%20%5B39.760342%2C%20-76.670242%5D%2C%20%5B45.52184000000001%2C%20-122.66591%5D%2C%20%5B34.068657%2C%20-118.042221%5D%2C%20%5B45.166538%2C%20-93.391495%5D%2C%20%5B39.38883%2C%20-81.43966999999998%5D%2C%20%5B38.780323%2C%20-76.997284%5D%2C%20%5B33.062717%2C%20-117.069077%5D%2C%20%5B29.017582%2C%20-81.232262%5D%2C%20%5B34.145733%2C%20-117.296444%5D%2C%20%5B40.788551%2C%20-73.829086%5D%2C%20%5B33.749186%2C%20-118.269141%5D%2C%20%5B30.156677%2C%20-82.689163%5D%2C%20%5B41.86968%2C%20-87.88883%5D%2C%20%5B39.72314%2C%20-86.12079%5D%2C%20%5B29.59697%2C%20-95.386337%5D%2C%20%5B30.187407%2C%20-84.306313%5D%2C%20%5B39.574426%2C%20-76.159518%5D%2C%20%5B33.910926%2C%20-118.171021%5D%2C%20%5B40.188435%2C%20-75.529297%5D%2C%20%5B45.0439%2C%20-93.284477%5D%2C%20%5B38.051235%2C%20-122.22937%5D%2C%20%5B33.43954%2C%20-111.96676%5D%2C%20%5B44.819897%2C%20-93.208832%5D%2C%20%5B39.0725%2C%20-77.06469%5D%2C%20%5B37.79792%2C%20-121.107%5D%2C%20%5B39.03781%2C%20-94.55567%5D%2C%20%5B40.634252%2C%20-111.817754%5D%2C%20%5B32.642281%2C%20-96.823318%5D%2C%20%5B29.957353%2C%20-90.093817%5D%2C%20%5B41.070021%2C%20-122.359467%5D%2C%20%5B42.963955%2C%20-77.348099%5D%2C%20%5B30.261578000000004%2C%20-97.791573%5D%2C%20%5B32.77879%2C%20-96.782021%5D%2C%20%5B36.017399%2C%20-95.868523%5D%2C%20%5B40.034409%2C%20-82.932724%5D%2C%20%5B28.509970000000006%2C%20-81.256442%5D%2C%20%5B30.340389%2C%20-97.699203%5D%2C%20%5B38.015911%2C%20-121.88263700000002%5D%2C%20%5B38.624279%2C%20-121.382759%5D%2C%20%5B38.385876%2C%20-122.716103%5D%2C%20%5B34.03665%2C%20-118.16132%5D%2C%20%5B33.850553999999995%2C%20-117.534643%5D%2C%20%5B41.424764%2C%20-73.375128%5D%2C%20%5B43.680835%2C%20-85.519584%5D%2C%20%5B27.782608000000003%2C%20-82.638518%5D%2C%20%5B39.98548%2C%20-75.09354%5D%2C%20%5B44.305714%2C%20-88.248985%5D%2C%20%5B25.972601%2C%20-80.178612%5D%2C%20%5B33.51384%2C%20-81.851067%5D%2C%20%5B34.126408000000005%2C%20-117.91603899999998%5D%2C%20%5B34.067875%2C%20-118.029144%5D%2C%20%5B27.342145%2C%20-82.530998%5D%2C%20%5B38.837128%2C%20-77.447281%5D%2C%20%5B35.167363%2C%20-80.742918%5D%2C%20%5B34.309998%2C%20-81.575867%5D%2C%20%5B45.486561%2C%20-122.584312%5D%2C%20%5B26.617167%2C%20-80.17390400000002%5D%2C%20%5B44.62031500000001%2C%20-123.64924%5D%2C%20%5B36.26088%2C%20-86.73819%5D%2C%20%5B39.946987%2C%20-76.72069499999998%5D%2C%20%5B38.552139%2C%20-121.41575%5D%2C%20%5B30.351263%2C%20-97.748967%5D%2C%20%5B41.056206%2C%20-111.961266%5D%2C%20%5B42.661145%2C%20-122.679272%5D%2C%20%5B42.4216%2C%20-83.09092%5D%2C%20%5B42.927814%2C%20-85.681854%5D%2C%20%5B34.043694%2C%20-84.03072399999998%5D%2C%20%5B44.051537%2C%20-121.307022%5D%2C%20%5B40.976921%2C%20-73.698959%5D%2C%20%5B40.109425%2C%20-75.295377%5D%2C%20%5B34.049049%2C%20-117.549889%5D%2C%20%5B32.28648%2C%20-110.97812%5D%2C%20%5B34.095673%2C%20-116.958656%5D%2C%20%5B41.8045%2C%20-71.07592%5D%2C%20%5B36.148941%2C%20-86.85791800000001%5D%2C%20%5B32.439155%2C%20-93.847214%5D%2C%20%5B39.63553%2C%20-104.89346%5D%2C%20%5B42.684796%2C%20-124.427202%5D%2C%20%5B34.001853999999994%2C%20-117.834564%5D%2C%20%5B43.2127%2C%20-123.35492%5D%2C%20%5B34.141987%2C%20-117.322319%5D%2C%20%5B38.98456%2C%20-77.15894%5D%2C%20%5B33.689267%2C%20-117.919301%5D%2C%20%5B34.216301%2C%20-118.408592%5D%2C%20%5B37.412582%2C%20-122.079369%5D%2C%20%5B32.344219%2C%20-86.223892%5D%2C%20%5B28.552509000000004%2C%20-81.447525%5D%2C%20%5B33.848946000000005%2C%20-84.364655%5D%2C%20%5B28.539803000000006%2C%20-81.482033%5D%2C%20%5B33.879988%2C%20-117.607996%5D%2C%20%5B38.0475%2C%20-84.54342%5D%2C%20%5B34.549911%2C%20-82.73677099999998%5D%2C%20%5B45.32874%2C%20-93.56129%5D%2C%20%5B34.034126%2C%20-118.027214%5D%2C%20%5B39.205686%2C%20-121.107434%5D%2C%20%5B39.83533%2C%20-105.02244%5D%2C%20%5B40.07189%2C%20-75.096808%5D%2C%20%5B32.691265%2C%20-96.857071%5D%2C%20%5B25.8796%2C%20-80.32353%5D%2C%20%5B47.678932%2C%20-122.184494%5D%2C%20%5B33.901878%2C%20-118.286894%5D%2C%20%5B25.840174%2C%20-80.387222%5D%2C%20%5B38.572189%2C%20-121.50906%5D%2C%20%5B38.641436%2C%20-121.461791%5D%2C%20%5B40.696213%2C%20-75.178322%5D%2C%20%5B28.364491%2C%20-81.366318%5D%2C%20%5B25.652264%2C%20-80.415784%5D%2C%20%5B33.91602%2C%20-117.43966%5D%2C%20%5B30.392688%2C%20-85.872962%5D%2C%20%5B38.496404%2C%20-121.446465%5D%2C%20%5B39.72558%2C%20-105.022643%5D%2C%20%5B36.981371%2C%20-120.084065%5D%2C%20%5B28.1283%2C%20-81.95063%5D%2C%20%5B32.264972%2C%20-110.926721%5D%2C%20%5B29.93748%2C%20-95.47395%5D%2C%20%5B33.889046%2C%20-98.505394%5D%2C%20%5B41.224018%2C%20-96.043098%5D%2C%20%5B43.0999%2C%20-77.800087%5D%2C%20%5B38.237906%2C%20-122.096608%5D%2C%20%5B44.48861%2C%20-68.36995999999999%5D%2C%20%5B35.55439000000001%2C%20-120.705223%5D%2C%20%5B30.249866%2C%20-97.73877%5D%2C%20%5B30.44366%2C%20-89.03511999999998%5D%2C%20%5B38.884148%2C%20-77.224899%5D%2C%20%5B36.088085%2C%20-86.942818%5D%2C%20%5B30.40778%2C%20-97.747902%5D%2C%20%5B39.725422%2C%20-105.014473%5D%2C%20%5B40.307255%2C%20-75.900013%5D%2C%20%5B35.98157%2C%20-78.61164000000002%5D%2C%20%5B40.71834000000001%2C%20-111.88826%5D%2C%20%5B25.595473%2C%20-80.371781%5D%2C%20%5B42.699549%2C%20-123.381671%5D%2C%20%5B28.535439%2C%20-81.28564399999998%5D%2C%20%5B36.059769%2C%20-79.88024899999998%5D%2C%20%5B25.51848%2C%20-80.371941%5D%2C%20%5B30.236343%2C%20-81.514297%5D%2C%20%5B36.431067%2C%20-119.801184%5D%2C%20%5B35.19277800000001%2C%20-120.700461%5D%2C%20%5B38.65309%2C%20-90.44824%5D%2C%20%5B35.458307%2C%20-90.211344%5D%2C%20%5B35.14841%2C%20-80.83091999999998%5D%2C%20%5B34.030312%2C%20-117.694526%5D%2C%20%5B36.75803%2C%20-76.2775%5D%2C%20%5B26.116341%2C%20-80.169373%5D%2C%20%5B41.895539%2C%20-88.53657700000002%5D%2C%20%5B39.78313%2C%20-105.00687%5D%2C%20%5B42.57805%2C%20-83.85377%5D%2C%20%5B34.290974%2C%20-117.45192%5D%2C%20%5B41.517448%2C%20-81.662071%5D%2C%20%5B30.421556%2C%20-91.187504%5D%2C%20%5B33.892474%2C%20-118.192031%5D%2C%20%5B45.94154%2C%20-93.09834%5D%2C%20%5B33.585026%2C%20-84.513145%5D%2C%20%5B39.889111%2C%20-75.104874%5D%2C%20%5B41.72728%2C%20-71.189583%5D%2C%20%5B44.961771%2C%20-70.160119%5D%2C%20%5B41.03251%2C%20-111.94752%5D%2C%20%5B37.107644%2C%20-77.35948%5D%2C%20%5B41.57768%2C%20-87.54395%5D%2C%20%5B26.858145%2C%20-81.971062%5D%2C%20%5B41.163054%2C%20-79.00503499999998%5D%2C%20%5B37.82225%2C%20-122.26937%5D%2C%20%5B36.169998%2C%20-86.772697%5D%2C%20%5B30.304015000000003%2C%20-81.642333%5D%2C%20%5B34.480540999999995%2C%20-82.647949%5D%2C%20%5B37.808498%2C%20-122.366852%5D%2C%20%5B38.836609%2C%20-104.77594%5D%2C%20%5B41.491383%2C%20-72.80947900000002%5D%2C%20%5B38.496029%2C%20-121.426735%5D%2C%20%5B40.036617%2C%20-75.35652900000002%5D%2C%20%5B39.7928%2C%20-121.898602%5D%2C%20%5B38.29147%2C%20-78.93258%5D%2C%20%5B39.21893%2C%20-76.65815%5D%2C%20%5B42.504543%2C%20-83.114975%5D%2C%20%5B29.983502%2C%20-95.769678%5D%2C%20%5B38.49031%2C%20-121.51456%5D%2C%20%5B40.596191%2C%20-75.33754%5D%2C%20%5B39.821606%2C%20-84.144295%5D%2C%20%5B40.458656%2C%20-79.99834399999997%5D%2C%20%5B42.429214%2C%20-122.596245%5D%2C%20%5B30.596616%2C%20-88.164688%5D%2C%20%5B39.79813%2C%20-84.2448%5D%2C%20%5B35.572071%2C%20-97.635002%5D%2C%20%5B30.313926%2C%20-81.66201%5D%2C%20%5B33.126639000000004%2C%20-117.10841%5D%2C%20%5B33.559268%2C%20-117.673129%5D%2C%20%5B41.816575%2C%20-71.51049499999998%5D%2C%20%5B38.116282%2C%20-121.173523%5D%2C%20%5B32.660470000000004%2C%20-117.07509%5D%2C%20%5B37.827479%2C%20-122.283759%5D%2C%20%5B33.42278%2C%20-111.73642%5D%2C%20%5B38.77412800000001%2C%20-76.99618000000002%5D%2C%20%5B41.85996%2C%20-87.64423000000002%5D%2C%20%5B33.695485999999995%2C%20-84.499808%5D%2C%20%5B35.391185%2C%20-118.982235%5D%2C%20%5B33.841998%2C%20-84.32965899999998%5D%2C%20%5B33.881453%2C%20-117.578149%5D%2C%20%5B33.911396999999994%2C%20-118.166827%5D%2C%20%5B30.42948%2C%20-97.69532%5D%2C%20%5B38.64747%2C%20-121.528756%5D%2C%20%5B40.059738%2C%20-76.87252%5D%2C%20%5B25.780846%2C%20-80.199883%5D%2C%20%5B41.96831%2C%20-71.50477%5D%2C%20%5B44.86187%2C%20-93.286133%5D%2C%20%5B26.673937%2C%20-80.06088299999998%5D%2C%20%5B33.18238%2C%20-117.30033%5D%2C%20%5B35.823078%2C%20-78.622398%5D%2C%20%5B40.255223%2C%20-75.270119%5D%2C%20%5B35.1374%2C%20-80.8763%5D%2C%20%5B35.376251%2C%20-80.707992%5D%2C%20%5B39.562313%2C%20-74.751755%5D%2C%20%5B27.916674%2C%20-82.787773%5D%2C%20%5B40.71349%2C%20-74.30138000000002%5D%2C%20%5B37.983841%2C%20-122.524681%5D%2C%20%5B31.759840000000004%2C%20-106.349907%5D%2C%20%5B33.37266%2C%20-111.96784%5D%2C%20%5B29.717634000000004%2C%20-95.356285%5D%2C%20%5B30.179857%2C%20-82.688461%5D%2C%20%5B36.082909%2C%20-86.732277%5D%2C%20%5B47.526119%2C%20-122.27693899999998%5D%2C%20%5B40.8227%2C%20-74.12556%5D%2C%20%5B33.778073%2C%20-118.088491%5D%2C%20%5B40.260517%2C%20-74.409752%5D%2C%20%5B38.26581%2C%20-85.66588%5D%2C%20%5B47.17022100000001%2C%20-122.472789%5D%2C%20%5B34.153465000000004%2C%20-118.652107%5D%2C%20%5B47.546703%2C%20-122.387199%5D%2C%20%5B25.685224%2C%20-80.422399%5D%2C%20%5B34.409431%2C%20-117.39402%5D%2C%20%5B38.91723%2C%20-76.97801%5D%2C%20%5B32.8351%2C%20-96.89956%5D%2C%20%5B35.048513%2C%20-118.172375%5D%2C%20%5B39.369827%2C%20-76.51371800000003%5D%2C%20%5B42.7085%2C%20-71.153397%5D%2C%20%5B28.61099%2C%20-81.3867%5D%2C%20%5B34.037806%2C%20-118.02201399999998%5D%2C%20%5B39.96401%2C%20-77.57743%5D%2C%20%5B38.46445%2C%20-122.72691%5D%2C%20%5B40.479705%2C%20-104.856251%5D%2C%20%5B33.78388%2C%20-118.09132%5D%2C%20%5B38.5283%2C%20-121.33495%5D%2C%20%5B34.351174%2C%20-119.302829%5D%2C%20%5B45.265953%2C%20-122.781398%5D%2C%20%5B32.245026%2C%20-110.935364%5D%2C%20%5B39.885223%2C%20-104.987511%5D%2C%20%5B27.71241%2C%20-82.33507%5D%2C%20%5B40.731851%2C%20-73.871949%5D%2C%20%5B30.016266%2C%20-95.357574%5D%2C%20%5B40.193213%2C%20-74.870227%5D%2C%20%5B30.239826%2C%20-92.124962%5D%2C%20%5B35.736874%2C%20-83.02499399999998%5D%2C%20%5B37.527821%2C%20-121.998322%5D%2C%20%5B44.19392%2C%20-71.68135%5D%2C%20%5B35.11816%2C%20-80.93145799999998%5D%2C%20%5B33.916411%2C%20-118.278307%5D%2C%20%5B32.782176%2C%20-96.856586%5D%2C%20%5B43.09639%2C%20-73.752747%5D%2C%20%5B43.083591%2C%20-75.335178%5D%2C%20%5B33.460777%2C%20-112.082542%5D%2C%20%5B33.753873%2C%20-118.251804%5D%2C%20%5B38.561472%2C%20-121.358297%5D%2C%20%5B42.20111%2C%20-121.810088%5D%2C%20%5B28.410324%2C%20-81.42427099999998%5D%2C%20%5B33.70348%2C%20-84.170181%5D%2C%20%5B41.756458%2C%20-87.625351%5D%2C%20%5B45.038998%2C%20-93.060837%5D%2C%20%5B34.798573%2C%20-82.372467%5D%2C%20%5B41.71466%2C%20-88.01071999999998%5D%2C%20%5B35.58605%2C%20-89.09071%5D%2C%20%5B41.01208%2C%20-73.702372%5D%2C%20%5B25.688526%2C%20-80.319399%5D%2C%20%5B34.065833000000005%2C%20-117.805424%5D%2C%20%5B26.542156%2C%20-81.87131%5D%2C%20%5B38.411911%2C%20-121.390167%5D%2C%20%5B35.17584%2C%20-80.756571%5D%2C%20%5B33.91001%2C%20-84.36326%5D%2C%20%5B32.769962%2C%20-117.206474%5D%2C%20%5B37.45227%2C%20-122.12716%5D%2C%20%5B28.318206%2C%20-81.559702%5D%2C%20%5B25.990541%2C%20-80.165848%5D%2C%20%5B33.4625%2C%20-112.02907%5D%2C%20%5B41.98069%2C%20-87.8705%5D%2C%20%5B40.539518%2C%20-74.307482%5D%2C%20%5B35.40815%2C%20-97.539101%5D%2C%20%5B34.104820000000004%2C%20-80.829308%5D%2C%20%5B34.873104999999995%2C%20-92.121101%5D%2C%20%5B40.84573%2C%20-73.94314%5D%2C%20%5B41.830223%2C%20-88.168304%5D%2C%20%5B33.77657%2C%20-84.6019%5D%2C%20%5B39.94776%2C%20-78.2297%5D%2C%20%5B44.039619%2C%20-121.156479%5D%2C%20%5B36.152897%2C%20-95.761711%5D%2C%20%5B40.76594%2C%20-111.94209%5D%2C%20%5B33.962523%2C%20-117.32206%5D%2C%20%5B33.931606%2C%20-118.361927%5D%2C%20%5B38.58990900000001%2C%20-121.401496%5D%2C%20%5B36.127048%2C%20-86.727776%5D%2C%20%5B32.557171000000004%2C%20-93.710548%5D%2C%20%5B25.772717%2C%20-80.369401%5D%2C%20%5B29.803213%2C%20-95.280167%5D%2C%20%5B39.981839%2C%20-76.69155699999997%5D%2C%20%5B29.91089%2C%20-95.41263%5D%2C%20%5B37.86576%2C%20-122.03828%5D%2C%20%5B39.870758%2C%20-75.30117%5D%2C%20%5B32.761978000000006%2C%20-96.74572%5D%2C%20%5B41.92509%2C%20-77.11706%5D%2C%20%5B35.37710999999999%2C%20-97.574333%5D%2C%20%5B30.243440000000003%2C%20-81.76271%5D%2C%20%5B44.869027%2C%20-92.999392%5D%2C%20%5B36.57524%2C%20-121.91363%5D%2C%20%5B34.037319000000004%2C%20-118.03846%5D%2C%20%5B29.768076%2C%20-95.356964%5D%2C%20%5B37.6451%2C%20-122.093956%5D%2C%20%5B40.051388%2C%20-77.96010600000002%5D%2C%20%5B39.79156%2C%20-74.23769%5D%2C%20%5B28.558155%2C%20-81.381279%5D%2C%20%5B32.514961%2C%20-93.746758%5D%2C%20%5B33.516472%2C%20-112.060623%5D%2C%20%5B45.521882%2C%20-122.665132%5D%2C%20%5B35.15416%2C%20-89.88245400000002%5D%2C%20%5B42.86933%2C%20-87.93749%5D%2C%20%5B38.55368%2C%20-76.04314000000002%5D%2C%20%5B38.663925%2C%20-121.272102%5D%2C%20%5B26.3124%2C%20-80.11719000000002%5D%2C%20%5B33.826065%2C%20-117.925354%5D%2C%20%5B30.273357%2C%20-92.015976%5D%2C%20%5B45.056937%2C%20-93.311702%5D%2C%20%5B41.8926%2C%20-87.92059%5D%2C%20%5B41.28999%2C%20-72.66717%5D%2C%20%5B41.109889%2C%20-73.551497%5D%2C%20%5B30.442732%2C%20-91.190056%5D%2C%20%5B39.816296%2C%20-84.13041700000002%5D%2C%20%5B25.597919%2C%20-80.372591%5D%2C%20%5B40.157318%2C%20-83.030388%5D%2C%20%5B33.85075%2C%20-117.83745%5D%2C%20%5B39.31791%2C%20-76.73749000000002%5D%2C%20%5B39.09145%2C%20-77.527817%5D%2C%20%5B39.334049%2C%20-84.282104%5D%2C%20%5B41.319949%2C%20-73.983133%5D%2C%20%5B37.88352800000001%2C%20-122.308627%5D%2C%20%5B38.41457%2C%20-120.129467%5D%2C%20%5B47.127251%2C%20-122.542267%5D%2C%20%5B42.010147%2C%20-86.533188%5D%2C%20%5B39.74769000000001%2C%20-86.14095%5D%2C%20%5B43.03252%2C%20-87.97272%5D%2C%20%5B27.961969%2C%20-82.795858%5D%2C%20%5B29.451303000000006%2C%20-98.617691%5D%2C%20%5B34.009705%2C%20-117.427293%5D%2C%20%5B32.841809999999995%2C%20-79.86703%5D%2C%20%5B35.127009%2C%20-120.598697%5D%2C%20%5B32.460781%2C%20-86.195137%5D%2C%20%5B34.06812%2C%20-118.03762%5D%2C%20%5B40.806892%2C%20-73.924423%5D%2C%20%5B43.48086%2C%20-121.68661000000002%5D%2C%20%5B35.669529%2C%20-78.834633%5D%2C%20%5B34.892672999999995%2C%20-82.160774%5D%2C%20%5B39.204922%2C%20-94.492371%5D%2C%20%5B34.002178%2C%20-117.351494%5D%2C%20%5B39.786629%2C%20-84.18869000000002%5D%2C%20%5B43.030231%2C%20-77.965118%5D%2C%20%5B35.56282%2C%20-97.64962%5D%2C%20%5B35.14676%2C%20-80.81931999999998%5D%2C%20%5B26.603941%2C%20-80.173615%5D%2C%20%5B29.93755%2C%20-95.482979%5D%2C%20%5B29.46794%2C%20-98.474205%5D%2C%20%5B34.173161%2C%20-118.535988%5D%2C%20%5B41.264126%2C%20-73.68420400000002%5D%2C%20%5B34.01497%2C%20-118.170071%5D%2C%20%5B29.898005%2C%20-95.412376%5D%2C%20%5B39.402089%2C%20-76.425527%5D%2C%20%5B39.173763%2C%20-77.24650600000002%5D%2C%20%5B47.562714%2C%20-122.321281%5D%2C%20%5B45.12032%2C%20-68.694978%5D%2C%20%5B38.99242%2C%20-84.64406600000002%5D%2C%20%5B27.388906%2C%20-82.505646%5D%2C%20%5B40.708%2C%20-74.248039%5D%2C%20%5B37.328677%2C%20-122.052233%5D%2C%20%5B45.20742%2C%20-93.043356%5D%2C%20%5B39.09769%2C%20-84.51697%5D%2C%20%5B29.150515%2C%20-82.184914%5D%2C%20%5B40.15715%2C%20-82.99861899999998%5D%2C%20%5B32.694519%2C%20-117.130814%5D%2C%20%5B28.565428000000004%2C%20-81.194839%5D%2C%20%5B37.63016%2C%20-122.43478%5D%2C%20%5B37.323948%2C%20-121.892509%5D%2C%20%5B28.524071000000006%2C%20-81.31031%5D%2C%20%5B44.89795%2C%20-93.06591%5D%2C%20%5B40.164249%2C%20-111.64684%5D%2C%20%5B43.176781%2C%20-77.54493000000002%5D%2C%20%5B34.117709999999995%2C%20-117.84919%5D%2C%20%5B27.993453%2C%20-82.45384%5D%2C%20%5B39.10533%2C%20-94.715291%5D%2C%20%5B32.85325%2C%20-96.56263%5D%2C%20%5B40.77289%2C%20-74.03276%5D%2C%20%5B41.12434%2C%20-73.703918%5D%2C%20%5B37.779812%2C%20-121.314735%5D%2C%20%5B45.55981%2C%20-122.17327%5D%2C%20%5B38.322506%2C%20-109.424706%5D%2C%20%5B40.84395%2C%20-73.89755%5D%2C%20%5B29.790359%2C%20-95.089569%5D%2C%20%5B26.304499%2C%20-80.119743%5D%2C%20%5B35.125206%2C%20-80.917503%5D%2C%20%5B37.695976%2C%20-122.115435%5D%2C%20%5B30.38742%2C%20-81.55812%5D%2C%20%5B34.259827%2C%20-118.330101%5D%2C%20%5B39.69167%2C%20-105.80929%5D%2C%20%5B31.212673%2C%20-87.180359%5D%2C%20%5B39.24814%2C%20-84.44634%5D%2C%20%5B41.525429%2C%20-72.762672%5D%2C%20%5B37.780964%2C%20-122.173241%5D%2C%20%5B32.74492%2C%20-96.72657%5D%2C%20%5B31.690620000000006%2C%20-106.29459%5D%2C%20%5B29.022416%2C%20-80.946731%5D%2C%20%5B37.70672%2C%20-88.57105%5D%2C%20%5B38.583157%2C%20-121.360016%5D%2C%20%5B33.880565999999995%2C%20-81.036987%5D%2C%20%5B30.407854%2C%20-97.67395%5D%2C%20%5B39.83159000000001%2C%20-123.248144%5D%2C%20%5B33.903557%2C%20-118.286888%5D%2C%20%5B40.61541%2C%20-74.15767%5D%2C%20%5B40.570233%2C%20-124.109226%5D%2C%20%5B34.053134%2C%20-118.963097%5D%2C%20%5B39.942303%2C%20-75.142685%5D%2C%20%5B38.637509%2C%20-121.41186%5D%2C%20%5B41.98759%2C%20-88.08853%5D%2C%20%5B33.902477000000005%2C%20-117.276882%5D%2C%20%5B34.897789%2C%20-82.325073%5D%2C%20%5B38.476051%2C%20-122.952728%5D%2C%20%5B42.1437%2C%20-77.11278%5D%2C%20%5B38.693073%2C%20-77.218262%5D%2C%20%5B37.119862%2C%20-93.172241%5D%2C%20%5B47.46766%2C%20-122.21853%5D%2C%20%5B47.530827%2C%20-119.492313%5D%2C%20%5B35.33448%2C%20-97.335747%5D%2C%20%5B40.21645%2C%20-76.432838%5D%2C%20%5B35.848033%2C%20-81.612729%5D%2C%20%5B44.643586%2C%20-122.858133%5D%2C%20%5B38.983521%2C%20-105.04541%5D%2C%20%5B36.280579%2C%20-86.725616%5D%2C%20%5B34.03007%2C%20-117.70245%5D%2C%20%5B34.858878000000004%2C%20-118.162459%5D%2C%20%5B37.477642%2C%20-77.47934000000002%5D%2C%20%5B29.687901%2C%20-82.225488%5D%2C%20%5B40.348541%2C%20-75.391518%5D%2C%20%5B30.56012%2C%20-84.35862%5D%2C%20%5B37.890141%2C%20-121.514389%5D%2C%20%5B29.614458000000006%2C%20-95.19529%5D%2C%20%5B28.228231%2C%20-82.73165999999998%5D%2C%20%5B38.610726%2C%20-121.405359%5D%2C%20%5B31.7602%2C%20-106.39994%5D%2C%20%5B45.140335%2C%20-122.891366%5D%2C%20%5B30.280373%2C%20-97.721336%5D%2C%20%5B42.190731%2C%20-88.107552%5D%2C%20%5B27.438823%2C%20-82.45228%5D%2C%20%5B42.560219%2C%20-88.976906%5D%2C%20%5B39.74984%2C%20-105.01722%5D%2C%20%5B26.36321%2C%20-80.11973%5D%2C%20%5B37.515906%2C%20-120.452922%5D%2C%20%5B37.784214%2C%20-121.189339%5D%2C%20%5B41.01495%2C%20-76.48455%5D%2C%20%5B34.17667%2C%20-118.4683%5D%2C%20%5B40.86082800000001%2C%20-74.36599%5D%2C%20%5B35.47599%2C%20-97.502632%5D%2C%20%5B39.092995%2C%20-77.122437%5D%2C%20%5B37.488979%2C%20-77.482697%5D%2C%20%5B35.458836%2C%20-97.618843%5D%2C%20%5B30.518854%2C%20-87.274597%5D%2C%20%5B37.51294%2C%20-77.44809000000002%5D%2C%20%5B35.420738%2C%20-97.530212%5D%2C%20%5B39.98745%2C%20-105.23664%5D%2C%20%5B41.262726%2C%20-95.947174%5D%2C%20%5B34.691299%2C%20-82.990059%5D%2C%20%5B32.694237%2C%20-117.125107%5D%2C%20%5B33.941%2C%20-117.270208%5D%2C%20%5B32.178083%2C%20-110.998888%5D%2C%20%5B36.967069%2C%20-121.902282%5D%2C%20%5B45.037506%2C%20-93.064514%5D%2C%20%5B36.116119%2C%20-86.77325400000002%5D%2C%20%5B39.16516%2C%20-104.85307%5D%2C%20%5B25.942456%2C%20-80.205276%5D%2C%20%5B25.78423%2C%20-80.28893000000002%5D%2C%20%5B35.78499%2C%20-115.32542%5D%2C%20%5B30.542493%2C%20-91.015349%5D%2C%20%5B32.906509%2C%20-96.89966%5D%2C%20%5B34.01593%2C%20-118.173027%5D%2C%20%5B39.764469%2C%20-104.942863%5D%2C%20%5B40.816113%2C%20-73.02018000000002%5D%2C%20%5B43.23031%2C%20-77.50912%5D%2C%20%5B40.71816%2C%20-111.89309%5D%2C%20%5B34.02525%2C%20-117.81185%5D%2C%20%5B40.97733%2C%20-73.6982%5D%2C%20%5B40.328419%2C%20-78.86668399999998%5D%2C%20%5B38.290914%2C%20-122.034774%5D%2C%20%5B42.47603%2C%20-83.11779%5D%2C%20%5B39.09612%2C%20-94.56048%5D%2C%20%5B42.492062%2C%20-83.001083%5D%2C%20%5B43.191822%2C%20-77.61823299999998%5D%2C%20%5B39.114143%2C%20-76.777969%5D%2C%20%5B43.043144%2C%20-83.69386300000002%5D%2C%20%5B46.232968%2C%20-112.766858%5D%2C%20%5B37.317062%2C%20-121.94059%5D%2C%20%5B47.733395%2C%20-122.325348%5D%2C%20%5B38.516869%2C%20-121.463257%5D%2C%20%5B34.163902%2C%20-118.472351%5D%2C%20%5B35.08639%2C%20-90.02561%5D%2C%20%5B42.4911%2C%20-123.36284%5D%2C%20%5B38.563396%2C%20-121.491638%5D%2C%20%5B42.36778%2C%20-71.2698%5D%2C%20%5B41.72457%2C%20-73.09805%5D%2C%20%5B39.056485%2C%20-78.249085%5D%2C%20%5B45.141373%2C%20-93.391953%5D%2C%20%5B42.910479%2C%20-71.464388%5D%2C%20%5B46.198327%2C%20-107.261913%5D%2C%20%5B41.234222%2C%20-96.081429%5D%2C%20%5B26.547203000000003%2C%20-81.795151%5D%2C%20%5B32.661655%2C%20-96.721848%5D%2C%20%5B40.529031%2C%20-89.02762%5D%2C%20%5B45.066925%2C%20-93.187691%5D%2C%20%5B42.055099%2C%20-70.725334%5D%2C%20%5B40.744213%2C%20-73.771652%5D%2C%20%5B30.201490000000003%2C%20-81.75224%5D%2C%20%5B34.034239%2C%20-118.350166%5D%2C%20%5B35.856411%2C%20-80.909798%5D%2C%20%5B41.801701%2C%20-73.798523%5D%2C%20%5B35.731268%2C%20-78.65131099999998%5D%2C%20%5B39.006697%2C%20-76.898753%5D%2C%20%5B30.1945%2C%20-90.435768%5D%2C%20%5B36.878805%2C%20-76.850711%5D%2C%20%5B36.84489%2C%20-76.32941%5D%2C%20%5B30.458839%2C%20-91.058128%5D%2C%20%5B30.613156%2C%20-97.6875%5D%2C%20%5B38.008424%2C%20-122.275602%5D%2C%20%5B30.299702000000003%2C%20-97.750381%5D%2C%20%5B36.692107%2C%20-119.61033%5D%2C%20%5B38.380219%2C%20-121.365672%5D%2C%20%5B35.152596%2C%20-106.588974%5D%2C%20%5B41.703129%2C%20-87.59191899999998%5D%2C%20%5B25.51931%2C%20-80.404527%5D%2C%20%5B25.866604%2C%20-80.323013%5D%2C%20%5B26.15486%2C%20-80.13311%5D%2C%20%5B33.492554%2C%20-117.145248%5D%2C%20%5B42.030594%2C%20-88.233574%5D%2C%20%5B40.429033%2C%20-79.95638199999998%5D%2C%20%5B26.338285%2C%20-81.788101%5D%2C%20%5B39.118204%2C%20-121.634623%5D%2C%20%5B25.708177%2C%20-80.284834%5D%2C%20%5B43.166369%2C%20-77.694023%5D%2C%20%5B34.87743%2C%20-82.70473%5D%2C%20%5B38.88458%2C%20-77.01263%5D%2C%20%5B32.791856%2C%20-96.699956%5D%2C%20%5B40.71826%2C%20-112.0709%5D%2C%20%5B34.314137%2C%20-82.599556%5D%2C%20%5B36.168583%2C%20-86.814133%5D%2C%20%5B44.96022%2C%20-123.28468%5D%2C%20%5B38.5285%2C%20-121.519096%5D%2C%20%5B42.415469%2C%20-88.123687%5D%2C%20%5B26.158457%2C%20-80.776237%5D%2C%20%5B38.544683%2C%20-120.371284%5D%2C%20%5B36.13345%2C%20-95.88676%5D%2C%20%5B44.93339%2C%20-123.07436%5D%2C%20%5B41.10211%2C%20-73.99729%5D%2C%20%5B42.25196%2C%20-83.30088%5D%2C%20%5B38.661368%2C%20-120.97016399999998%5D%2C%20%5B35.889381%2C%20-78.551819%5D%2C%20%5B36.153327%2C%20-86.777834%5D%2C%20%5B32.0982%2C%20-81.31943000000003%5D%2C%20%5B26.545885%2C%20-81.89813199999998%5D%2C%20%5B39.838365%2C%20-121.938646%5D%2C%20%5B34.133481%2C%20-117.435965%5D%2C%20%5B34.78632%2C%20-82.376762%5D%2C%20%5B27.585493%2C%20-82.540367%5D%2C%20%5B33.452301%2C%20-112.03643%5D%2C%20%5B25.86483%2C%20-80.38769%5D%2C%20%5B27.269093%2C%20-82.456352%5D%2C%20%5B34.123276000000004%2C%20-117.69429%5D%2C%20%5B35.266174%2C%20-80.73164399999997%5D%2C%20%5B37.908653%2C%20-121.600403%5D%2C%20%5B33.364174%2C%20-111.894051%5D%2C%20%5B37.005006%2C%20-122.18462%5D%2C%20%5B28.552809000000003%2C%20-81.413841%5D%2C%20%5B32.827271%2C%20-97.385185%5D%2C%20%5B39.364362%2C%20-94.374359%5D%2C%20%5B33.78635%2C%20-118.28113%5D%2C%20%5B38.449287%2C%20-122.725983%5D%2C%20%5B33.912067%2C%20-118.159843%5D%2C%20%5B28.552449%2C%20-81.32716500000002%5D%2C%20%5B36.844786%2C%20-76.170433%5D%2C%20%5B40.963428%2C%20-72.94950899999998%5D%2C%20%5B47.69058%2C%20-122.34721%5D%2C%20%5B39.039345%2C%20-77.07592700000002%5D%2C%20%5B33.875607%2C%20-118.193085%5D%2C%20%5B35.49509000000001%2C%20-97.77758%5D%2C%20%5B33.901070000000004%2C%20-84.244003%5D%2C%20%5B34.134622%2C%20-117.651449%5D%2C%20%5B43.405303%2C%20-124.222992%5D%2C%20%5B33.489871%2C%20-84.219226%5D%2C%20%5B40.12103%2C%20-80.47454%5D%2C%20%5B34.921776%2C%20-81.988838%5D%2C%20%5B43.69656%2C%20-124.01381%5D%2C%20%5B32.070347%2C%20-81.161102%5D%2C%20%5B39.15833%2C%20-108.738737%5D%2C%20%5B34.030006%2C%20-117.712372%5D%2C%20%5B37.35539%2C%20-120.63508%5D%2C%20%5B39.75917800000001%2C%20-86.167412%5D%2C%20%5B43.17547%2C%20-76.11928%5D%2C%20%5B32.821665%2C%20-117.158221%5D%2C%20%5B41.515003%2C%20-94.194656%5D%2C%20%5B33.624146%2C%20-84.400077%5D%2C%20%5B29.766694%2C%20-82.50523199999998%5D%2C%20%5B36.0899%2C%20-95.88647%5D%2C%20%5B46.976425%2C%20-123.654999%5D%2C%20%5B34.07163%2C%20-118.11023%5D%2C%20%5B39.276062%2C%20-121.661214%5D%2C%20%5B33.386552%2C%20-111.674941%5D%2C%20%5B37.53743%2C%20-77.52911999999998%5D%2C%20%5B38.23915%2C%20-85.75329%5D%2C%20%5B37.86218%2C%20-121.28047%5D%2C%20%5B30.91442%2C%20-89.17296%5D%2C%20%5B41.850742%2C%20-87.645051%5D%2C%20%5B39.70463%2C%20-105.25456%5D%2C%20%5B34.791351%2C%20-82.417435%5D%2C%20%5B34.71994%2C%20-86.579613%5D%2C%20%5B26.65062%2C%20-80.06841%5D%2C%20%5B37.63511%2C%20-77.45916%5D%2C%20%5B33.591339000000005%2C%20-112.017464%5D%2C%20%5B35.100121%2C%20-89.98719799999998%5D%2C%20%5B43.17731%2C%20-85.272468%5D%2C%20%5B38.659569%2C%20-120.97293700000002%5D%2C%20%5B25.49942%2C%20-80.446175%5D%2C%20%5B43.177078%2C%20-77.683296%5D%2C%20%5B26.432413%2C%20-81.777878%5D%2C%20%5B34.06004%2C%20-118.2148%5D%2C%20%5B40.169283%2C%20-120.966165%5D%2C%20%5B33.26821%2C%20-117.43641%5D%2C%20%5B39.639809%2C%20-84.264656%5D%2C%20%5B35.72481900000001%2C%20-78.658203%5D%2C%20%5B35.638481%2C%20-97.531624%5D%2C%20%5B40.74638%2C%20-73.977631%5D%2C%20%5B29.387917%2C%20-98.512154%5D%2C%20%5B28.492772%2C%20-81.39675600000002%5D%2C%20%5B25.93171%2C%20-80.21298%5D%2C%20%5B29.70837%2C%20-95.357071%5D%2C%20%5B36.93611%2C%20-81.16833299999998%5D%2C%20%5B33.684448%2C%20-79.270988%5D%2C%20%5B30.798858000000006%2C%20-86.695171%5D%2C%20%5B37.750099%2C%20-122.39225%5D%2C%20%5B42.306259%2C%20-83.687172%5D%2C%20%5B32.442504%2C%20-93.718184%5D%2C%20%5B42.48826%2C%20-82.91715%5D%2C%20%5B30.332584000000004%2C%20-97.703712%5D%2C%20%5B43.468442%2C%20-70.514877%5D%2C%20%5B42.962769%2C%20-85.641983%5D%2C%20%5B39.91435%2C%20-75.43015%5D%2C%20%5B25.80758%2C%20-80.26319000000002%5D%2C%20%5B27.99621%2C%20-82.533775%5D%2C%20%5B43.063583%2C%20-83.51804399999997%5D%2C%20%5B32.914719%2C%20-96.437172%5D%2C%20%5B41.62177%2C%20-87.57888%5D%2C%20%5B45.436588%2C%20-122.566689%5D%2C%20%5B40.079765%2C%20-75.407059%5D%2C%20%5B39.198292%2C%20-77.244888%5D%2C%20%5B40.08516%2C%20-75.38885%5D%2C%20%5B33.869422%2C%20-117.743793%5D%2C%20%5B44.952526%2C%20-93.082787%5D%2C%20%5B45.01171%2C%20-93.01985%5D%2C%20%5B37.056575%2C%20-120.965416%5D%2C%20%5B34.983259999999994%2C%20-85.46401999999998%5D%2C%20%5B34.001369%2C%20-84.07465400000002%5D%2C%20%5B44.756%2C%20-122.40898%5D%2C%20%5B45.07408%2C%20-93.31875%5D%2C%20%5B41.057997%2C%20-73.832178%5D%2C%20%5B36.89197100000001%2C%20-76.231738%5D%2C%20%5B41.00446%2C%20-111.38471%5D%2C%20%5B40.586308%2C%20-122.360406%5D%2C%20%5B37.532017%2C%20-77.36125899999998%5D%2C%20%5B32.690536%2C%20-96.780258%5D%2C%20%5B36.25486%2C%20-82.59058399999998%5D%2C%20%5B30.006333%2C%20-90.019974%5D%2C%20%5B37.651899%2C%20-77.424718%5D%2C%20%5B25.597573%2C%20-80.354562%5D%2C%20%5B30.371965000000007%2C%20-97.715599%5D%2C%20%5B36.881387%2C%20-119.54783799999998%5D%2C%20%5B36.16329%2C%20-86.77604000000002%5D%2C%20%5B42.5681%2C%20-113.79147%5D%2C%20%5B33.886063%2C%20-117.518127%5D%2C%20%5B40.68734%2C%20-73.718615%5D%2C%20%5B33.818954%2C%20-118.290276%5D%2C%20%5B34.05634000000001%2C%20-118.20176399999998%5D%2C%20%5B44.862873%2C%20-93.579598%5D%2C%20%5B33.375381%2C%20-86.80764%5D%2C%20%5B40.70097%2C%20-73.99471%5D%2C%20%5B35.375852%2C%20-118.954131%5D%2C%20%5B33.85373%2C%20-117.91094%5D%2C%20%5B40.54934%2C%20-74.54006%5D%2C%20%5B27.82473%2C%20-82.671356%5D%2C%20%5B26.70637%2C%20-80.08228000000003%5D%2C%20%5B40.73659%2C%20-73.92936999999998%5D%2C%20%5B34.072231%2C%20-118.088264%5D%2C%20%5B45.346286%2C%20-122.96251399999998%5D%2C%20%5B25.823117%2C%20-80.206385%5D%2C%20%5B34.030185%2C%20-118.430903%5D%2C%20%5B37.70171%2C%20-121.76941%5D%2C%20%5B40.781704%2C%20-73.825005%5D%2C%20%5B33.740025%2C%20-117.283363%5D%2C%20%5B39.679672%2C%20-75.486267%5D%2C%20%5B37.639462%2C%20-121.25122%5D%2C%20%5B41.889763%2C%20-87.97912600000002%5D%2C%20%5B38.139327%2C%20-122.220078%5D%2C%20%5B42.385212%2C%20-83.47841600000002%5D%2C%20%5B42.400654%2C%20-83.21820799999998%5D%2C%20%5B29.69197%2C%20-95.3257%5D%2C%20%5B34.03078%2C%20-118.21791%5D%2C%20%5B29.73126%2C%20-95.402122%5D%2C%20%5B37.609428%2C%20-120.993582%5D%2C%20%5B45.064495%2C%20-93.218323%5D%2C%20%5B35.087878%2C%20-114.59798%5D%2C%20%5B35.27375%2C%20-80.96961999999998%5D%2C%20%5B32.76616%2C%20-96.91208%5D%2C%20%5B42.70649%2C%20-71.153374%5D%2C%20%5B34.0722%2C%20-117.75606%5D%2C%20%5B40.688497%2C%20-122.280539%5D%2C%20%5B37.815319%2C%20-120.062637%5D%2C%20%5B39.43058%2C%20-87.341429%5D%2C%20%5B37.133167%2C%20-80.36573800000002%5D%2C%20%5B34.052376%2C%20-118.259583%5D%2C%20%5B33.901878%2C%20-118.286331%5D%2C%20%5B40.6751%2C%20-111.81012%5D%2C%20%5B33.17702%2C%20-117.35112%5D%2C%20%5B39.931034%2C%20-74.95517%5D%2C%20%5B33.882401%2C%20-117.588554%5D%2C%20%5B34.064687%2C%20-118.251117%5D%2C%20%5B38.07517%2C%20-84.50241%5D%2C%20%5B32.836704%2C%20-96.778717%5D%2C%20%5B35.68324000000001%2C%20-78.83333%5D%2C%20%5B35.85895%2C%20-78.70642%5D%2C%20%5B33.775309%2C%20-117.873526%5D%2C%20%5B36.045984%2C%20-86.609928%5D%2C%20%5B27.996475%2C%20-82.545124%5D%2C%20%5B38.566093%2C%20-121.336368%5D%2C%20%5B38.660305%2C%20-121.535751%5D%2C%20%5B38.685402%2C%20-121.456917%5D%2C%20%5B37.76475900000001%2C%20-121.38813%5D%2C%20%5B44.739189%2C%20-124.056217%5D%2C%20%5B40.193611%2C%20-75.48951%5D%2C%20%5B40.85563300000001%2C%20-72.843964%5D%2C%20%5B37.60368%2C%20-122.06436%5D%2C%20%5B44.69421%2C%20-93.29012%5D%2C%20%5B28.53511%2C%20-81.3918%5D%2C%20%5B38.415249%2C%20-122.426437%5D%2C%20%5B41.8821%2C%20-88.19456%5D%2C%20%5B35.690609%2C%20-78.558807%5D%2C%20%5B33.053452%2C%20-117.288605%5D%2C%20%5B30.375765%2C%20-97.529137%5D%2C%20%5B40.76278%2C%20-111.8997%5D%2C%20%5B34.148575%2C%20-118.697922%5D%2C%20%5B42.63087%2C%20-82.86039%5D%2C%20%5B30.459421000000006%2C%20-81.649345%5D%2C%20%5B33.756939%2C%20-84.470444%5D%2C%20%5B42.23776%2C%20-85.61936%5D%2C%20%5B34.076415000000004%2C%20-118.27889%5D%2C%20%5B33.520047%2C%20-112.112405%5D%2C%20%5B28.523322%2C%20-82.278228%5D%2C%20%5B29.589352%2C%20-95.181442%5D%2C%20%5B34.668091%2C%20-82.395643%5D%2C%20%5B45.861425%2C%20-114.037513%5D%2C%20%5B35.46439%2C%20-97.724731%5D%2C%20%5B30.280306%2C%20-97.740883%5D%2C%20%5B33.990162%2C%20-117.917755%5D%2C%20%5B28.551790000000004%2C%20-81.50491%5D%2C%20%5B33.433533000000004%2C%20-82.035507%5D%2C%20%5B32.761662%2C%20-117.165306%5D%2C%20%5B39.692911%2C%20-123.35836299999998%5D%2C%20%5B30.313963%2C%20-81.599388%5D%2C%20%5B39.86111%2C%20-104.9877%5D%2C%20%5B31.7785%2C%20-106.392723%5D%2C%20%5B37.36413%2C%20-122.12448%5D%2C%20%5B39.936478%2C%20-76.916786%5D%2C%20%5B36.015411%2C%20-86.621071%5D%2C%20%5B34.058521%2C%20-118.177696%5D%2C%20%5B38.80252%2C%20-77.10923000000003%5D%2C%20%5B43.19133%2C%20-77.682472%5D%2C%20%5B37.89289%2C%20-122.12503%5D%2C%20%5B42.3639%2C%20-87.94651%5D%2C%20%5B36.895355%2C%20-121.42741399999998%5D%2C%20%5B41.750454%2C%20-88.04079399999998%5D%2C%20%5B36.738515%2C%20-119.820545%5D%2C%20%5B47.575275%2C%20-122.022736%5D%2C%20%5B35.266033%2C%20-80.769127%5D%2C%20%5B40.82391%2C%20-73.11219799999998%5D%2C%20%5B37.608707%2C%20-122.068192%5D%2C%20%5B40.635738%2C%20-74.083725%5D%2C%20%5B37.95475%2C%20-122.36158%5D%2C%20%5B36.12002%2C%20-86.80253%5D%2C%20%5B29.266955%2C%20-82.18939499999998%5D%2C%20%5B32.969013000000004%2C%20-80.00559200000002%5D%2C%20%5B32.633011%2C%20-96.823097%5D%2C%20%5B36.97842%2C%20-76.42319%5D%2C%20%5B30.628261%2C%20-86.935112%5D%2C%20%5B39.408441%2C%20-76.783586%5D%2C%20%5B33.400841%2C%20-111.789166%5D%2C%20%5B30.32071%2C%20-81.71608%5D%2C%20%5B32.72382%2C%20-117.150528%5D%2C%20%5B35.74945800000001%2C%20-78.67128000000002%5D%2C%20%5B42.91597%2C%20-83.614227%5D%2C%20%5B30.558165%2C%20-97.692436%5D%2C%20%5B35.174301%2C%20-80.851089%5D%2C%20%5B29.713123%2C%20-95.502703%5D%2C%20%5B33.606262%2C%20-81.843491%5D%2C%20%5B38.577049%2C%20-121.525223%5D%2C%20%5B32.916698%2C%20-96.766853%5D%2C%20%5B40.749934%2C%20-73.72800600000002%5D%2C%20%5B27.586616%2C%20-82.54011899999998%5D%2C%20%5B34.20713%2C%20-79.83944699999998%5D%2C%20%5B36.4772%2C%20-82.54386%5D%2C%20%5B40.046593%2C%20-86.483757%5D%2C%20%5B27.506102%2C%20-82.43360899999998%5D%2C%20%5B33.886140000000005%2C%20-117.55066%5D%2C%20%5B34.074815%2C%20-118.161703%5D%2C%20%5B42.37155900000001%2C%20-88.051132%5D%2C%20%5B45.515305%2C%20-123.618597%5D%2C%20%5B36.760968%2C%20-121.751579%5D%2C%20%5B39.286449%2C%20-84.42791700000002%5D%2C%20%5B42.415483%2C%20-121.332766%5D%2C%20%5B38.040935%2C%20-120.266064%5D%2C%20%5B40.835563%2C%20-73.868564%5D%2C%20%5B26.67687%2C%20-80.0871%5D%2C%20%5B36.120831%2C%20-86.703537%5D%2C%20%5B34.017845%2C%20-118.052673%5D%2C%20%5B37.671474%2C%20-122.121704%5D%2C%20%5B25.59777%2C%20-80.36446%5D%2C%20%5B34.008193%2C%20-118.204894%5D%2C%20%5B38.35918%2C%20-90.98137%5D%2C%20%5B32.470516%2C%20-93.703914%5D%2C%20%5B33.77877%2C%20-117.88533%5D%2C%20%5B36.15792800000001%2C%20-86.80032299999998%5D%2C%20%5B30.269373%2C%20-81.612206%5D%2C%20%5B40.82009%2C%20-73.89026%5D%2C%20%5B39.026758%2C%20-104.833459%5D%2C%20%5B42.29469%2C%20-84.0271%5D%2C%20%5B42.960158%2C%20-74.63698199999997%5D%2C%20%5B30.074345%2C%20-95.435844%5D%2C%20%5B47.51564000000001%2C%20-122.376648%5D%2C%20%5B30.13538%2C%20-92.007637%5D%2C%20%5B43.07407%2C%20-85.768036%5D%2C%20%5B35.945637%2C%20-78.539078%5D%2C%20%5B30.434527000000006%2C%20-84.25571%5D%2C%20%5B32.6423%2C%20-96.83391%5D%2C%20%5B42.973518%2C%20-85.639778%5D%2C%20%5B30.126690000000004%2C%20-95.443398%5D%2C%20%5B42.23899%2C%20-120.30222%5D%2C%20%5B38.51213900000001%2C%20-121.467708%5D%2C%20%5B40.156921%2C%20-83.018501%5D%2C%20%5B29.665713%2C%20-95.259622%5D%2C%20%5B41.470688%2C%20-81.81624599999998%5D%2C%20%5B37.175907%2C%20-78.929024%5D%2C%20%5B40.628911%2C%20-74.183818%5D%2C%20%5B35.443729%2C%20-82.537976%5D%2C%20%5B28.59635%2C%20-81.451401%5D%2C%20%5B34.408268%2C%20-118.576439%5D%2C%20%5B37.340641%2C%20-79.997734%5D%2C%20%5B28.66436%2C%20-81.38871999999998%5D%2C%20%5B26.461884%2C%20-80.08886%5D%2C%20%5B35.098988%2C%20-89.870338%5D%2C%20%5B40.700179%2C%20-104.99916%5D%2C%20%5B38.320321%2C%20-122.502079%5D%2C%20%5B37.34000800000001%2C%20-119.674361%5D%2C%20%5B37.16209600000001%2C%20-122.162439%5D%2C%20%5B38.675048%2C%20-121.59095%5D%2C%20%5B33.475231%2C%20-81.98751800000002%5D%2C%20%5B42.05245%2C%20-121.86106%5D%2C%20%5B44.577023%2C%20-94.994522%5D%2C%20%5B30.376181%2C%20-91.068451%5D%2C%20%5B33.578144%2C%20-84.278099%5D%2C%20%5B34.135726%2C%20-117.585188%5D%2C%20%5B33.657754%2C%20-117.777712%5D%2C%20%5B30.19126%2C%20-97.73111%5D%2C%20%5B47.456%2C%20-92.51886%5D%2C%20%5B44.460005%2C%20-118.721379%5D%2C%20%5B43.159355%2C%20-77.732399%5D%2C%20%5B30.24645%2C%20-97.735077%5D%2C%20%5B39.107258%2C%20-85.836151%5D%2C%20%5B44.994088%2C%20-123.212839%5D%2C%20%5B40.198788%2C%20-75.256813%5D%2C%20%5B41.903114%2C%20-87.66107199999998%5D%2C%20%5B35.739549%2C%20-78.78893599999998%5D%2C%20%5B45.04153400000001%2C%20-93.284927%5D%2C%20%5B34.819962%2C%20-82.25636300000002%5D%2C%20%5B38.576935%2C%20-121.46581299999998%5D%2C%20%5B41.25972%2C%20-95.956573%5D%2C%20%5B39.72374%2C%20-105.18149%5D%2C%20%5B42.32303%2C%20-88.16473%5D%2C%20%5B34.227787%2C%20-79.837677%5D%2C%20%5B33.987849%2C%20-118.399044%5D%2C%20%5B33.859914%2C%20-118.29918%5D%2C%20%5B38.543846%2C%20-121.473763%5D%2C%20%5B32.481917%2C%20-93.754654%5D%2C%20%5B33.540287%2C%20-81.817581%5D%2C%20%5B29.834927%2C%20-95.292053%5D%2C%20%5B39.45195%2C%20-74.536369%5D%2C%20%5B41.24876%2C%20-96.084991%5D%2C%20%5B40.85306%2C%20-73.96011%5D%2C%20%5B35.509014%2C%20-97.460396%5D%2C%20%5B36.45678%2C%20-80.63409%5D%2C%20%5B38.540806%2C%20-121.738576%5D%2C%20%5B38.756084%2C%20-90.460329%5D%2C%20%5B42.850498%2C%20-78.790367%5D%2C%20%5B39.22521%2C%20-84.58346%5D%2C%20%5B25.92602%2C%20-80.21037%5D%2C%20%5B33.927917%2C%20-118.25428%5D%2C%20%5B34.533333%2C%20-86.90567800000002%5D%2C%20%5B30.189231%2C%20-81.655901%5D%2C%20%5B33.43334%2C%20-111.8857%5D%2C%20%5B28.507235%2C%20-81.396927%5D%2C%20%5B35.79385%2C%20-80.93626400000002%5D%2C%20%5B28.335569%2C%20-81.330292%5D%2C%20%5B26.712988%2C%20-81.861633%5D%2C%20%5B34.04514%2C%20-118.93493%5D%2C%20%5B40.60233%2C%20-112.05687%5D%2C%20%5B41.244095%2C%20-111.953423%5D%2C%20%5B34.021282%2C%20-118.170563%5D%2C%20%5B44.792454%2C%20-95.453127%5D%2C%20%5B39.03334%2C%20-94.361359%5D%2C%20%5B45.446951%2C%20-91.111198%5D%2C%20%5B36.040192%2C%20-86.66703000000003%5D%2C%20%5B35.561325%2C%20-97.646072%5D%2C%20%5B37.739334%2C%20-121.59082%5D%2C%20%5B44.00809%2C%20-123.02101%5D%2C%20%5B35.036923%2C%20-85.151862%5D%2C%20%5B28.300283%2C%20-82.550232%5D%2C%20%5B33.46102%2C%20-112.29573%5D%2C%20%5B39.95647%2C%20-82.98291800000001%5D%2C%20%5B44.21597%2C%20-116.98627%5D%2C%20%5B34.081738%2C%20-117.712791%5D%2C%20%5B40.72507%2C%20-111.54466%5D%2C%20%5B33.879269%2C%20-81.17659%5D%2C%20%5B33.748208%2C%20-117.842735%5D%2C%20%5B42.139122%2C%20-88.02179%5D%2C%20%5B34.144787%2C%20-117.27358999999998%5D%2C%20%5B37.31649%2C%20-121.9673%5D%2C%20%5B38.69405%2C%20-120.816366%5D%2C%20%5B33.55907%2C%20-117.67314%5D%2C%20%5B42.896729%2C%20-123.243974%5D%2C%20%5B32.932833%2C%20-96.769039%5D%2C%20%5B25.898069%2C%20-80.33393000000002%5D%2C%20%5B30.247168%2C%20-97.805%5D%2C%20%5B41.98292%2C%20-88.1415%5D%2C%20%5B26.272217%2C%20-80.124191%5D%2C%20%5B37.552235%2C%20-122.308876%5D%2C%20%5B37.651809%2C%20-122.453459%5D%2C%20%5B32.6978%2C%20-117.14554%5D%2C%20%5B34.056131%2C%20-117.951609%5D%2C%20%5B34.054878%2C%20-118.257164%5D%2C%20%5B37.482025%2C%20-113.220657%5D%2C%20%5B42.51331%2C%20-71.03197%5D%2C%20%5B39.713902%2C%20-78.188461%5D%2C%20%5B30.192759%2C%20-97.777557%5D%2C%20%5B29.685177000000003%2C%20-95.298706%5D%2C%20%5B34.147592%2C%20-118.228861%5D%2C%20%5B30.415581%2C%20-91.062523%5D%2C%20%5B47.686897%2C%20-122.333092%5D%2C%20%5B36.895668%2C%20-111.395503%5D%2C%20%5B37.50618400000001%2C%20-77.435631%5D%2C%20%5B40.061539%2C%20-76.558617%5D%2C%20%5B32.773509999999995%2C%20-117.16118%5D%2C%20%5B44.862766%2C%20-93.211189%5D%2C%20%5B42.465599%2C%20-82.921257%5D%2C%20%5B39.38752%2C%20-74.571772%5D%2C%20%5B33.945262%2C%20-118.361343%5D%2C%20%5B39.483276%2C%20-86.014046%5D%2C%20%5B36.14793%2C%20-95.983978%5D%2C%20%5B30.169149%2C%20-97.699074%5D%2C%20%5B39.992619%2C%20-76.361633%5D%2C%20%5B35.418045%2C%20-97.581757%5D%2C%20%5B43.960317%2C%20-121.348032%5D%2C%20%5B36.140614%2C%20-95.967117%5D%2C%20%5B38.77561%2C%20-90.33515%5D%2C%20%5B38.8161%2C%20-77.136565%5D%2C%20%5B42.081156%2C%20-122.59944099999998%5D%2C%20%5B34.070282%2C%20-117.864295%5D%2C%20%5B39.087145%2C%20-121.634814%5D%2C%20%5B41.031685%2C%20-73.775887%5D%2C%20%5B34.710003%2C%20-82.50314300000002%5D%2C%20%5B39.53041%2C%20-76.18285%5D%2C%20%5B33.90504%2C%20-118.18406%5D%2C%20%5B28.605331%2C%20-81.404816%5D%2C%20%5B35.368572%2C%20-118.967514%5D%2C%20%5B34.099302%2C%20-117.488785%5D%2C%20%5B32.860939%2C%20-96.770409%5D%2C%20%5B32.90153%2C%20-96.89791%5D%2C%20%5B33.465065%2C%20-112.255241%5D%2C%20%5B33.739118%2C%20-117.074841%5D%2C%20%5B42.37933%2C%20-83.20623%5D%2C%20%5B34.303248%2C%20-118.479759%5D%2C%20%5B40.9493%2C%20-73.85238000000003%5D%2C%20%5B33.960012%2C%20-118.285317%5D%2C%20%5B38.795898%2C%20-77.13466600000002%5D%2C%20%5B26.68522%2C%20-80.16581%5D%2C%20%5B41.486229%2C%20-72.066231%5D%2C%20%5B36.840673%2C%20-121.533505%5D%2C%20%5B39.28107%2C%20-76.67214%5D%2C%20%5B37.96143%2C%20-78.52105%5D%2C%20%5B40.061661%2C%20-82.99807%5D%2C%20%5B47.669472%2C%20-122.387581%5D%2C%20%5B38.643639%2C%20-121.108856%5D%2C%20%5B30.45105%2C%20-91.165966%5D%2C%20%5B39.175604%2C%20-77.24662099999998%5D%2C%20%5B34.098068%2C%20-118.314629%5D%2C%20%5B33.818985999999995%2C%20-118.298158%5D%2C%20%5B42.47583%2C%20-83.13118100000001%5D%2C%20%5B37.720703%2C%20-122.178223%5D%2C%20%5B38.670494%2C%20-77.25273100000003%5D%2C%20%5B41.42073%2C%20-81.81912%5D%2C%20%5B41.029831%2C%20-81.42205799999998%5D%2C%20%5B38.82872%2C%20-77.21907%5D%2C%20%5B42.88767%2C%20-85.86152%5D%2C%20%5B33.676971%2C%20-117.84366599999998%5D%2C%20%5B29.653942%2C%20-95.565659%5D%2C%20%5B32.92053%2C%20-97.35383%5D%2C%20%5B30.253317%2C%20-81.516251%5D%2C%20%5B41.87388%2C%20-87.90403%5D%2C%20%5B34.2659%2C%20-118.472252%5D%2C%20%5B38.020519%2C%20-122.539963%5D%2C%20%5B30.683907%2C%20-91.148918%5D%2C%20%5B38.040489%2C%20-122.787773%5D%2C%20%5B34.511555%2C%20-82.4105%5D%2C%20%5B42.42850900000001%2C%20-71.102631%5D%2C%20%5B32.7477%2C%20-96.917864%5D%2C%20%5B34.155190999999995%2C%20-118.474904%5D%2C%20%5B40.84862%2C%20-72.88094%5D%2C%20%5B42.53032%2C%20-83.11574%5D%2C%20%5B34.027372%2C%20-84.05147099999998%5D%2C%20%5B44.999046%2C%20-93.089401%5D%2C%20%5B32.92042%2C%20-97.09099%5D%2C%20%5B35.399002%2C%20-97.500862%5D%2C%20%5B39.755287%2C%20-105.012543%5D%2C%20%5B28.59344%2C%20-81.7143%5D%2C%20%5B33.74669%2C%20-84.38804%5D%2C%20%5B29.704229%2C%20-95.406662%5D%2C%20%5B33.91384%2C%20-117.55791%5D%2C%20%5B41.761829%2C%20-87.86792%5D%2C%20%5B28.514648%2C%20-81.39286%5D%2C%20%5B33.501251%2C%20-81.69905899999998%5D%2C%20%5B42.051859%2C%20-121.63963400000002%5D%2C%20%5B40.80527%2C%20-73.93214%5D%2C%20%5B34.023189%2C%20-117.747828%5D%2C%20%5B39.4207%2C%20-76.64480999999998%5D%2C%20%5B40.63691%2C%20-74.01935999999998%5D%2C%20%5B34.111507%2C%20-79.43918599999998%5D%2C%20%5B36.192902%2C%20-86.776321%5D%2C%20%5B33.586685%2C%20-84.382011%5D%2C%20%5B26.019798%2C%20-80.34650400000002%5D%2C%20%5B40.103191%2C%20-75.12281800000002%5D%2C%20%5B34.83559%2C%20-82.491821%5D%2C%20%5B32.8377%2C%20-97.062485%5D%2C%20%5B37.973152%2C%20-121.247295%5D%2C%20%5B33.60487%2C%20-112.281242%5D%2C%20%5B38.815582%2C%20-77.138214%5D%2C%20%5B35.09953%2C%20-80.98902%5D%2C%20%5B34.155891%2C%20-118.24202%5D%2C%20%5B34.129768%2C%20-117.934252%5D%2C%20%5B40.7271%2C%20-111.543556%5D%2C%20%5B33.200798%2C%20-87.525299%5D%2C%20%5B32.83951%2C%20-97.16602%5D%2C%20%5B38.288677%2C%20-85.646057%5D%2C%20%5B37.653197%2C%20-121.031556%5D%2C%20%5B39.256004%2C%20-76.69181800000001%5D%2C%20%5B40.8317%2C%20-111.91585%5D%2C%20%5B36.16198%2C%20-95.992371%5D%2C%20%5B40.74189000000001%2C%20-73.90927099999998%5D%2C%20%5B34.045390999999995%2C%20-117.310844%5D%2C%20%5B36.206554%2C%20-86.77624499999997%5D%2C%20%5B42.21899000000001%2C%20-87.89716%5D%2C%20%5B43.153241%2C%20-77.610452%5D%2C%20%5B40.54417%2C%20-111.976791%5D%2C%20%5B34.30162%2C%20-117.4602%5D%2C%20%5B30.452553%2C%20-91.185951%5D%2C%20%5B29.659549%2C%20-82.41895%5D%2C%20%5B33.88043%2C%20-118.10388%5D%2C%20%5B35.273232%2C%20-80.709854%5D%2C%20%5B33.442162%2C%20-86.73037%5D%2C%20%5B33.133990000000004%2C%20-97.04373%5D%2C%20%5B37.55719000000001%2C%20-77.47313%5D%2C%20%5B39.665774%2C%20-121.743695%5D%2C%20%5B28.589081%2C%20-81.4515%5D%2C%20%5B37.833758%2C%20-121.217352%5D%2C%20%5B40.610092%2C%20-74.119895%5D%2C%20%5B39.394578%2C%20-75.011647%5D%2C%20%5B41.75113%2C%20-71.44088%5D%2C%20%5B41.320797%2C%20-73.99182900000002%5D%2C%20%5B43.65217%2C%20-72.32918000000002%5D%2C%20%5B35.147968%2C%20-80.80484%5D%2C%20%5B40.84694%2C%20-73.925842%5D%2C%20%5B34.279045%2C%20-118.455269%5D%2C%20%5B40.70148%2C%20-73.98969%5D%2C%20%5B38.83886%2C%20-77.424279%5D%2C%20%5B35.213066%2C%20-80.823174%5D%2C%20%5B35.31209099999999%2C%20-80.758771%5D%2C%20%5B38.4794%2C%20-87.556496%5D%2C%20%5B34.008521%2C%20-118.204887%5D%2C%20%5B34.919788%2C%20-88.249489%5D%2C%20%5B41.909958%2C%20-87.93737800000002%5D%2C%20%5B34.133611%2C%20-117.370429%5D%2C%20%5B34.03338%2C%20-118.114432%5D%2C%20%5B40.52104%2C%20-111.89132%5D%2C%20%5B33.958858%2C%20-86.58743299999998%5D%2C%20%5B42.296637%2C%20-71.146535%5D%2C%20%5B29.881973%2C%20-95.75648%5D%2C%20%5B38.967056%2C%20-77.428991%5D%2C%20%5B34.3314%2C%20-118.50661%5D%2C%20%5B43.098775%2C%20-118.233157%5D%2C%20%5B29.99176%2C%20-90.05341%5D%2C%20%5B25.704817%2C%20-80.317642%5D%2C%20%5B30.455467%2C%20-97.665588%5D%2C%20%5B39.788422%2C%20-84.212807%5D%2C%20%5B28.501528000000004%2C%20-80.838421%5D%2C%20%5B44.966137%2C%20-93.255608%5D%2C%20%5B39.376865%2C%20-76.505836%5D%2C%20%5B32.869755%2C%20-117.19471%5D%2C%20%5B34.16098%2C%20-118.469437%5D%2C%20%5B42.3838%2C%20-83.17837%5D%2C%20%5B39.628048%2C%20-84.170222%5D%2C%20%5B36.118977%2C%20-95.855698%5D%2C%20%5B47.57551%2C%20-122.17534%5D%2C%20%5B43.445492%2C%20-74.252579%5D%2C%20%5B39.24839%2C%20-104.88383%5D%2C%20%5B28.51138%2C%20-82.241413%5D%2C%20%5B43.047131%2C%20-83.676422%5D%2C%20%5B39.9134%2C%20-104.99014%5D%2C%20%5B32.54861%2C%20-84.70366999999997%5D%2C%20%5B38.545544%2C%20-121.56852%5D%2C%20%5B35.211586%2C%20-80.69162800000002%5D%2C%20%5B34.086146%2C%20-82.252269%5D%2C%20%5B41.537647%2C%20-72.761398%5D%2C%20%5B41.87619%2C%20-87.65703%5D%2C%20%5B37.943527%2C%20-122.515366%5D%2C%20%5B33.538073%2C%20-117.173577%5D%2C%20%5B42.28211%2C%20-88.40813%5D%2C%20%5B42.352249%2C%20-71.218689%5D%2C%20%5B33.9226%2C%20-84.485176%5D%2C%20%5B33.520794%2C%20-86.84993%5D%2C%20%5B36.196308%2C%20-86.780052%5D%2C%20%5B42.83894%2C%20-78.79307%5D%2C%20%5B39.152489%2C%20-76.617317%5D%2C%20%5B30.098007%2C%20-81.70594100000002%5D%2C%20%5B25.98505%2C%20-80.16551199999998%5D%2C%20%5B35.098557%2C%20-85.328102%5D%2C%20%5B42.39267%2C%20-87.90286%5D%2C%20%5B29.753457%2C%20-95.385186%5D%2C%20%5B34.354099%2C%20-81.52808399999998%5D%2C%20%5B42.194419%2C%20-121.683439%5D%2C%20%5B40.59292%2C%20-111.90218%5D%2C%20%5B41.30052%2C%20-95.95172%5D%2C%20%5B33.13282%2C%20-117.10537%5D%2C%20%5B41.30457%2C%20-73.09961%5D%2C%20%5B44.954025%2C%20-93.087845%5D%2C%20%5B27.970869%2C%20-82.453583%5D%2C%20%5B40.615864%2C%20-74.157501%5D%2C%20%5B39.83347%2C%20-75.09023%5D%2C%20%5B37.74219%2C%20-121.525634%5D%2C%20%5B28.002090000000006%2C%20-82.325851%5D%2C%20%5B33.1675%2C%20-80.045929%5D%2C%20%5B47.706301%2C%20-116.79146%5D%2C%20%5B26.04965%2C%20-80.16200400000002%5D%2C%20%5B30.448681%2C%20-91.045158%5D%2C%20%5B30.198311%2C%20-97.76387%5D%2C%20%5B40.230942%2C%20-75.628647%5D%2C%20%5B33.927261%2C%20-118.210484%5D%2C%20%5B35.150745%2C%20-80.824211%5D%2C%20%5B36.045219%2C%20-86.659019%5D%2C%20%5B35.175566%2C%20-120.697201%5D%2C%20%5B40.21867%2C%20-75.2971%5D%2C%20%5B34.033615000000005%2C%20-118.220016%5D%2C%20%5B39.711021%2C%20-105.10022%5D%2C%20%5B33.517018%2C%20-81.787249%5D%2C%20%5B37.770252%2C%20-122.41876200000002%5D%2C%20%5B34.111099%2C%20-118.181%5D%2C%20%5B33.517944%2C%20-81.844081%5D%2C%20%5B35.580093%2C%20-97.460503%5D%2C%20%5B41.501064%2C%20-81.621674%5D%2C%20%5B34.174759%2C%20-79.833389%5D%2C%20%5B42.2657%2C%20-83.24105%5D%2C%20%5B45.80266%2C%20-119.38416%5D%2C%20%5B32.6483%2C%20-96.82337%5D%2C%20%5B44.892005%2C%20-93.600537%5D%2C%20%5B40.061198%2C%20-76.355138%5D%2C%20%5B42.34617%2C%20-87.91452%5D%2C%20%5B41.88858%2C%20-72.6526%5D%2C%20%5B32.978649%2C%20-80.634628%5D%2C%20%5B33.98923%2C%20-118.07019%5D%2C%20%5B34.905281%2C%20-81.13279%5D%2C%20%5B33.53838%2C%20-112.0825%5D%2C%20%5B47.74303%2C%20-122.18691%5D%2C%20%5B42.984398%2C%20-85.60511%5D%2C%20%5B33.522558000000004%2C%20-117.162787%5D%2C%20%5B43.074649%2C%20-72.042413%5D%2C%20%5B29.784388%2C%20-95.574371%5D%2C%20%5B36.732061%2C%20-120.350912%5D%2C%20%5B33.686661%2C%20-117.76693%5D%2C%20%5B47.66005300000001%2C%20-122.376244%5D%2C%20%5B37.566281%2C%20-122.041265%5D%2C%20%5B32.676338%2C%20-97.189308%5D%2C%20%5B37.827312%2C%20-121.99703999999998%5D%2C%20%5B37.930016%2C%20-122.32399%5D%2C%20%5B34.082782%2C%20-118.227275%5D%2C%20%5B33.845974%2C%20-118.092567%5D%2C%20%5B32.700363%2C%20-96.648773%5D%2C%20%5B28.001809%2C%20-82.302485%5D%2C%20%5B40.846059%2C%20-73.930479%5D%2C%20%5B32.236191%2C%20-110.862343%5D%2C%20%5B29.709858%2C%20-95.493004%5D%2C%20%5B32.528408%2C%20-93.674248%5D%2C%20%5B38.632294%2C%20-90.242706%5D%2C%20%5B43.16723%2C%20-77.58081%5D%2C%20%5B33.964141999999995%2C%20-81.297478%5D%2C%20%5B47.068165%2C%20-122.723457%5D%2C%20%5B33.91597%2C%20-84.28953%5D%2C%20%5B30.517044%2C%20-91.143097%5D%2C%20%5B32.247529%2C%20-95.308601%5D%2C%20%5B36.173443%2C%20-95.890945%5D%2C%20%5B36.571944%2C%20-121.520833%5D%2C%20%5B42.903111%2C%20-72.469998%5D%2C%20%5B37.741753%2C%20-121.572472%5D%2C%20%5B35.795574%2C%20-78.694962%5D%2C%20%5B38.908649%2C%20-94.776273%5D%2C%20%5B33.84338%2C%20-84.48767099999998%5D%2C%20%5B43.103702%2C%20-122.18753999999998%5D%2C%20%5B41.78943%2C%20-87.91781%5D%2C%20%5B40.67564%2C%20-73.802551%5D%2C%20%5B41.494184%2C%20-87.12804%5D%2C%20%5B41.119385%2C%20-81.48822%5D%2C%20%5B37.959397%2C%20-122.533743%5D%2C%20%5B27.072046000000004%2C%20-82.423438%5D%2C%20%5B37.55088%2C%20-77.4283%5D%2C%20%5B47.470306%2C%20-122.331696%5D%2C%20%5B47.708706%2C%20-122.352814%5D%2C%20%5B25.92487%2C%20-80.304802%5D%2C%20%5B34.067011%2C%20-117.445295%5D%2C%20%5B41.53845%2C%20-72.95855999999998%5D%2C%20%5B33.261955%2C%20-84.0952%5D%2C%20%5B42.535501%2C%20-83.116279%5D%2C%20%5B29.879045%2C%20-95.445137%5D%2C%20%5B27.307885%2C%20-82.530057%5D%2C%20%5B30.4165%2C%20-91.1433%5D%2C%20%5B43.02411%2C%20-71.19672800000002%5D%2C%20%5B46.62992%2C%20-94.6998%5D%2C%20%5B33.74137%2C%20-84.41435%5D%2C%20%5B29.391903000000006%2C%20-98.36084%5D%2C%20%5B25.659155%2C%20-80.432068%5D%2C%20%5B39.659458%2C%20-86.018509%5D%2C%20%5B39.96851%2C%20-82.988251%5D%2C%20%5B38.19%2C%20-85.72475%5D%2C%20%5B38.652027%2C%20-122.599846%5D%2C%20%5B36.106144%2C%20-95.975708%5D%2C%20%5B42.744316%2C%20-78.842445%5D%2C%20%5B34.14575%2C%20-118.155519%5D%2C%20%5B41.65075%2C%20-87.72476%5D%2C%20%5B34.052563%2C%20-117.548332%5D%2C%20%5B32.999596000000004%2C%20-96.95932%5D%2C%20%5B30.628983%2C%20-88.088913%5D%2C%20%5B32.264809%2C%20-110.961888%5D%2C%20%5B41.099754%2C%20-73.951324%5D%2C%20%5B33.858548%2C%20-118.033078%5D%2C%20%5B41.581249%2C%20-93.596855%5D%2C%20%5B44.542744%2C%20-93.849331%5D%2C%20%5B34.262836%2C%20-118.44101%5D%2C%20%5B46.502247%2C%20-114.098472%5D%2C%20%5B45.38608%2C%20-122.39629%5D%2C%20%5B30.154228000000003%2C%20-81.74834399999997%5D%2C%20%5B32.066216%2C%20-89.527885%5D%2C%20%5B40.159775%2C%20-82.967766%5D%2C%20%5B44.931416%2C%20-93.136406%5D%2C%20%5B38.05451%2C%20-122.22957%5D%2C%20%5B33.874142%2C%20-118.061496%5D%2C%20%5B39.869274%2C%20-75.10205%5D%2C%20%5B33.88861%2C%20-118.35795%5D%2C%20%5B25.748027%2C%20-80.320083%5D%2C%20%5B38.59976%2C%20-121.50445%5D%2C%20%5B29.45454%2C%20-95.08154%5D%2C%20%5B42.38929%2C%20-122.870491%5D%2C%20%5B37.634974%2C%20-122.08695%5D%2C%20%5B38.009586%2C%20-122.022194%5D%2C%20%5B37.6097%2C%20-122.39068%5D%2C%20%5B41.6964%2C%20-88.01878%5D%2C%20%5B31.35595%2C%20-85.17971%5D%2C%20%5B36.162128%2C%20-86.811829%5D%2C%20%5B30.229429%2C%20-97.767624%5D%2C%20%5B41.623314%2C%20-83.590363%5D%2C%20%5B47.60981%2C%20-122.34095%5D%2C%20%5B29.600803000000006%2C%20-95.38688%5D%2C%20%5B35.21476%2C%20-80.827904%5D%2C%20%5B33.512961%2C%20-86.793881%5D%2C%20%5B35.48608%2C%20-97.64547%5D%2C%20%5B30.285835%2C%20-97.682671%5D%2C%20%5B38.77396%2C%20-90.32029%5D%2C%20%5B37.34989%2C%20-121.86184%5D%2C%20%5B29.729296%2C%20-95.364036%5D%2C%20%5B35.464413%2C%20-97.742538%5D%2C%20%5B25.613938%2C%20-80.36551800000002%5D%2C%20%5B34.08913%2C%20-118.237527%5D%2C%20%5B35.89534000000001%2C%20-78.573349%5D%2C%20%5B44.67425%2C%20-93.6263%5D%2C%20%5B32.177231%2C%20-110.77272%5D%2C%20%5B33.748751%2C%20-117.452238%5D%2C%20%5B45.231331%2C%20-93.028786%5D%2C%20%5B39.719521%2C%20-75.703712%5D%2C%20%5B33.971921%2C%20-118.236814%5D%2C%20%5B41.600529%2C%20-93.578491%5D%2C%20%5B38.759216%2C%20-122.975876%5D%2C%20%5B38.514084%2C%20-121.776112%5D%2C%20%5B27.109298%2C%20-82.347924%5D%2C%20%5B30.64748%2C%20-91.147614%5D%2C%20%5B29.600216%2C%20-95.286446%5D%2C%20%5B33.438782%2C%20-117.622704%5D%2C%20%5B33.780354%2C%20-118.07357%5D%2C%20%5B37.78311%2C%20-121.23933999999998%5D%2C%20%5B42.283138%2C%20-84.862648%5D%2C%20%5B34.181657%2C%20-118.314344%5D%2C%20%5B44.260708%2C%20-119.013418%5D%2C%20%5B41.719279%2C%20-88.339572%5D%2C%20%5B33.61562%2C%20-117.42638999999998%5D%2C%20%5B44.272981%2C%20-121.234399%5D%2C%20%5B39.261316%2C%20-76.67302600000002%5D%2C%20%5B34.080347%2C%20-117.627845%5D%2C%20%5B37.775101%2C%20-122.233337%5D%2C%20%5B41.68005%2C%20-72.65424%5D%2C%20%5B29.78463%2C%20-95.752318%5D%2C%20%5B36.06078%2C%20-95.90424%5D%2C%20%5B32.74585%2C%20-117.12032%5D%2C%20%5B35.187474%2C%20-80.822051%5D%2C%20%5B34.542934%2C%20-117.974837%5D%2C%20%5B35.751511%2C%20-78.701134%5D%2C%20%5B30.72568%2C%20-86.57474300000001%5D%2C%20%5B38.993192%2C%20-78.249978%5D%2C%20%5B40.70174%2C%20-73.991264%5D%2C%20%5B45.141609%2C%20-93.497031%5D%2C%20%5B34.012062%2C%20-84.07209%5D%2C%20%5B27.447334%2C%20-82.45903299999998%5D%2C%20%5B38.690601%2C%20-120.723763%5D%2C%20%5B38.012375%2C%20-84.42041%5D%2C%20%5B44.904716%2C%20-93.447876%5D%2C%20%5B42.461308%2C%20-83.106026%5D%2C%20%5B39.311775%2C%20-120.504405%5D%2C%20%5B37.49625800000001%2C%20-122.23317%5D%2C%20%5B39.281033%2C%20-76.553268%5D%2C%20%5B33.467587%2C%20-82.079872%5D%2C%20%5B38.390438%2C%20-95.98727%5D%2C%20%5B34.75578%2C%20-86.59416%5D%2C%20%5B44.29982%2C%20-120.7228%5D%2C%20%5B41.121376%2C%20-74.007706%5D%2C%20%5B25.58807%2C%20-80.317797%5D%2C%20%5B40.653239%2C%20-74.00867099999998%5D%2C%20%5B34.03702%2C%20-118.28867%5D%2C%20%5B35.870403%2C%20-78.580772%5D%2C%20%5B41.80938%2C%20-87.97585%5D%2C%20%5B39.548345%2C%20-77.90985699999997%5D%2C%20%5B42.37077%2C%20-87.89785%5D%2C%20%5B35.282639%2C%20-80.723961%5D%2C%20%5B42.526562%2C%20-70.95739%5D%2C%20%5B35.464371%2C%20-97.636581%5D%2C%20%5B42.386193%2C%20-123.339654%5D%2C%20%5B33.874367%2C%20-118.062158%5D%2C%20%5B41.88856%2C%20-87.91804%5D%2C%20%5B33.295502%2C%20-111.773872%5D%2C%20%5B32.920811%2C%20-80.04046600000002%5D%2C%20%5B34.218071%2C%20-119.051453%5D%2C%20%5B47.6311%2C%20-122.187721%5D%2C%20%5B28.06985%2C%20-82.35401999999998%5D%2C%20%5B33.464838%2C%20-112.790719%5D%2C%20%5B42.909031%2C%20-83.604378%5D%2C%20%5B26.260412%2C%20-80.133423%5D%2C%20%5B39.3815%2C%20-76.73791%5D%2C%20%5B25.765041%2C%20-80.242935%5D%2C%20%5B33.978371%2C%20-118.390923%5D%2C%20%5B26.349918%2C%20-80.118126%5D%2C%20%5B29.670107%2C%20-95.558631%5D%2C%20%5B33.879952%2C%20-117.565724%5D%2C%20%5B39.6242%2C%20-105.14628%5D%2C%20%5B42.095333%2C%20-83.241798%5D%2C%20%5B38.51608%2C%20-121.523495%5D%2C%20%5B32.70029%2C%20-96.62721%5D%2C%20%5B40.519409%2C%20-74.301208%5D%2C%20%5B38.342995%2C%20-122.006767%5D%5D%2C%0A%20%20%20%20%20%20%20%20%20%20%20%20%20%20%20%20%7B%0A%20%20%20%20%20%20%20%20%20%20%20%20%20%20%20%20%20%20%20%20minOpacity%3A%200.5%2C%0A%20%20%20%20%20%20%20%20%20%20%20%20%20%20%20%20%20%20%20%20maxZoom%3A%2018%2C%0A%20%20%20%20%20%20%20%20%20%20%20%20%20%20%20%20%20%20%20%20max%3A%201.0%2C%0A%20%20%20%20%20%20%20%20%20%20%20%20%20%20%20%20%20%20%20%20radius%3A%2025%2C%0A%20%20%20%20%20%20%20%20%20%20%20%20%20%20%20%20%20%20%20%20blur%3A%2015%2C%0A%20%20%20%20%20%20%20%20%20%20%20%20%20%20%20%20%20%20%20%20gradient%3A%20null%0A%20%20%20%20%20%20%20%20%20%20%20%20%20%20%20%20%20%20%20%20%7D%29%0A%20%20%20%20%20%20%20%20%20%20%20%20%20%20%20%20.addTo%28map_972348eaee834cccb993e0e9420d3028%29%3B%0A%20%20%20%20%20%20%20%20%0A%3C/script%3E onload=\"this.contentDocument.open();this.contentDocument.write(    decodeURIComponent(this.getAttribute('data-html')));this.contentDocument.close();\" allowfullscreen webkitallowfullscreen mozallowfullscreen></iframe></div></div>"
            ],
            "text/plain": [
              "<folium.folium.Map at 0x7fa97e86c610>"
            ]
          },
          "metadata": {
            "tags": []
          },
          "execution_count": 101
        }
      ]
    },
    {
      "cell_type": "markdown",
      "metadata": {
        "id": "kbfQLu1m_s-R"
      },
      "source": [
        "# Insights\n",
        "\n",
        "\n",
        "1.   No data for New York city\n",
        "2.   In 1306 cities accidents reported only once out of 11789 cities\n",
        "\n",
        "1.   Less than 5 % cities where accidents reported more than 1000 times\n",
        "2.   more number of accidents are reported in Los Angeles\n",
        "\n",
        "1.   Most of the accidents are happend between 6 AM to 10 AM & 3 PM to 6 PM \n",
        "1.   More number of accidents are on weekends \n",
        "\n",
        "\n",
        "\n",
        "\n",
        "\n"
      ]
    }
  ]
}